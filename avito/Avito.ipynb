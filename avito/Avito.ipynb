{
 "cells": [
  {
   "cell_type": "code",
   "execution_count": 1,
   "metadata": {},
   "outputs": [],
   "source": [
    "import numpy as np\n",
    "import pandas as pd"
   ]
  },
  {
   "cell_type": "code",
   "execution_count": 2,
   "metadata": {},
   "outputs": [],
   "source": [
    "pd.set_option('precision', 5)\n",
    "pd.set_option('display.float_format', lambda x: '%0.5f' % x)"
   ]
  },
  {
   "cell_type": "code",
   "execution_count": 4,
   "metadata": {},
   "outputs": [
    {
     "name": "stdout",
     "output_type": "stream",
     "text": [
      "['periods_test.csv.zip', 'periods_train.csv.zip', 'sample_submission.csv', 'train_active.csv.zip', 'test.csv.zip', 'train.csv.zip', 'test_active.csv.zip']\n"
     ]
    }
   ],
   "source": [
    "import os\n",
    "print(os.listdir(\"data/\"))"
   ]
  },
  {
   "cell_type": "code",
   "execution_count": 6,
   "metadata": {},
   "outputs": [],
   "source": [
    "df_train = pd.read_csv('data/train.csv.zip', compression='zip', header=0, sep=',', quotechar='\"')"
   ]
  },
  {
   "cell_type": "code",
   "execution_count": 7,
   "metadata": {},
   "outputs": [
    {
     "data": {
      "text/html": [
       "<div>\n",
       "<style scoped>\n",
       "    .dataframe tbody tr th:only-of-type {\n",
       "        vertical-align: middle;\n",
       "    }\n",
       "\n",
       "    .dataframe tbody tr th {\n",
       "        vertical-align: top;\n",
       "    }\n",
       "\n",
       "    .dataframe thead th {\n",
       "        text-align: right;\n",
       "    }\n",
       "</style>\n",
       "<table border=\"1\" class=\"dataframe\">\n",
       "  <thead>\n",
       "    <tr style=\"text-align: right;\">\n",
       "      <th></th>\n",
       "      <th>item_id</th>\n",
       "      <th>user_id</th>\n",
       "      <th>region</th>\n",
       "      <th>city</th>\n",
       "      <th>parent_category_name</th>\n",
       "      <th>category_name</th>\n",
       "      <th>param_1</th>\n",
       "      <th>param_2</th>\n",
       "      <th>param_3</th>\n",
       "      <th>title</th>\n",
       "      <th>description</th>\n",
       "      <th>price</th>\n",
       "      <th>item_seq_number</th>\n",
       "      <th>activation_date</th>\n",
       "      <th>user_type</th>\n",
       "      <th>image</th>\n",
       "      <th>image_top_1</th>\n",
       "      <th>deal_probability</th>\n",
       "    </tr>\n",
       "  </thead>\n",
       "  <tbody>\n",
       "    <tr>\n",
       "      <th>0</th>\n",
       "      <td>b912c3c6a6ad</td>\n",
       "      <td>e00f8ff2eaf9</td>\n",
       "      <td>Свердловская область</td>\n",
       "      <td>Екатеринбург</td>\n",
       "      <td>Личные вещи</td>\n",
       "      <td>Товары для детей и игрушки</td>\n",
       "      <td>Постельные принадлежности</td>\n",
       "      <td>NaN</td>\n",
       "      <td>NaN</td>\n",
       "      <td>Кокоби(кокон для сна)</td>\n",
       "      <td>Кокон для сна малыша,пользовались меньше месяц...</td>\n",
       "      <td>400.00000</td>\n",
       "      <td>2</td>\n",
       "      <td>2017-03-28</td>\n",
       "      <td>Private</td>\n",
       "      <td>d10c7e016e03247a3bf2d13348fe959fe6f436c1caf64c...</td>\n",
       "      <td>1008.00000</td>\n",
       "      <td>0.12789</td>\n",
       "    </tr>\n",
       "    <tr>\n",
       "      <th>1</th>\n",
       "      <td>2dac0150717d</td>\n",
       "      <td>39aeb48f0017</td>\n",
       "      <td>Самарская область</td>\n",
       "      <td>Самара</td>\n",
       "      <td>Для дома и дачи</td>\n",
       "      <td>Мебель и интерьер</td>\n",
       "      <td>Другое</td>\n",
       "      <td>NaN</td>\n",
       "      <td>NaN</td>\n",
       "      <td>Стойка для Одежды</td>\n",
       "      <td>Стойка для одежды, под вешалки. С бутика.</td>\n",
       "      <td>3000.00000</td>\n",
       "      <td>19</td>\n",
       "      <td>2017-03-26</td>\n",
       "      <td>Private</td>\n",
       "      <td>79c9392cc51a9c81c6eb91eceb8e552171db39d7142700...</td>\n",
       "      <td>692.00000</td>\n",
       "      <td>0.00000</td>\n",
       "    </tr>\n",
       "    <tr>\n",
       "      <th>2</th>\n",
       "      <td>ba83aefab5dc</td>\n",
       "      <td>91e2f88dd6e3</td>\n",
       "      <td>Ростовская область</td>\n",
       "      <td>Ростов-на-Дону</td>\n",
       "      <td>Бытовая электроника</td>\n",
       "      <td>Аудио и видео</td>\n",
       "      <td>Видео, DVD и Blu-ray плееры</td>\n",
       "      <td>NaN</td>\n",
       "      <td>NaN</td>\n",
       "      <td>Philips bluray</td>\n",
       "      <td>В хорошем состоянии, домашний кинотеатр с blu ...</td>\n",
       "      <td>4000.00000</td>\n",
       "      <td>9</td>\n",
       "      <td>2017-03-20</td>\n",
       "      <td>Private</td>\n",
       "      <td>b7f250ee3f39e1fedd77c141f273703f4a9be59db4b48a...</td>\n",
       "      <td>3032.00000</td>\n",
       "      <td>0.43177</td>\n",
       "    </tr>\n",
       "    <tr>\n",
       "      <th>3</th>\n",
       "      <td>02996f1dd2ea</td>\n",
       "      <td>bf5cccea572d</td>\n",
       "      <td>Татарстан</td>\n",
       "      <td>Набережные Челны</td>\n",
       "      <td>Личные вещи</td>\n",
       "      <td>Товары для детей и игрушки</td>\n",
       "      <td>Автомобильные кресла</td>\n",
       "      <td>NaN</td>\n",
       "      <td>NaN</td>\n",
       "      <td>Автокресло</td>\n",
       "      <td>Продам кресло от0-25кг</td>\n",
       "      <td>2200.00000</td>\n",
       "      <td>286</td>\n",
       "      <td>2017-03-25</td>\n",
       "      <td>Company</td>\n",
       "      <td>e6ef97e0725637ea84e3d203e82dadb43ed3cc0a1c8413...</td>\n",
       "      <td>796.00000</td>\n",
       "      <td>0.80323</td>\n",
       "    </tr>\n",
       "    <tr>\n",
       "      <th>4</th>\n",
       "      <td>7c90be56d2ab</td>\n",
       "      <td>ef50846afc0b</td>\n",
       "      <td>Волгоградская область</td>\n",
       "      <td>Волгоград</td>\n",
       "      <td>Транспорт</td>\n",
       "      <td>Автомобили</td>\n",
       "      <td>С пробегом</td>\n",
       "      <td>ВАЗ (LADA)</td>\n",
       "      <td>2110</td>\n",
       "      <td>ВАЗ 2110, 2003</td>\n",
       "      <td>Все вопросы по телефону.</td>\n",
       "      <td>40000.00000</td>\n",
       "      <td>3</td>\n",
       "      <td>2017-03-16</td>\n",
       "      <td>Private</td>\n",
       "      <td>54a687a3a0fc1d68aed99bdaaf551c5c70b761b16fd0a2...</td>\n",
       "      <td>2264.00000</td>\n",
       "      <td>0.20797</td>\n",
       "    </tr>\n",
       "  </tbody>\n",
       "</table>\n",
       "</div>"
      ],
      "text/plain": [
       "        item_id       user_id                 region              city  \\\n",
       "0  b912c3c6a6ad  e00f8ff2eaf9   Свердловская область      Екатеринбург   \n",
       "1  2dac0150717d  39aeb48f0017      Самарская область            Самара   \n",
       "2  ba83aefab5dc  91e2f88dd6e3     Ростовская область    Ростов-на-Дону   \n",
       "3  02996f1dd2ea  bf5cccea572d              Татарстан  Набережные Челны   \n",
       "4  7c90be56d2ab  ef50846afc0b  Волгоградская область         Волгоград   \n",
       "\n",
       "  parent_category_name               category_name  \\\n",
       "0          Личные вещи  Товары для детей и игрушки   \n",
       "1      Для дома и дачи           Мебель и интерьер   \n",
       "2  Бытовая электроника               Аудио и видео   \n",
       "3          Личные вещи  Товары для детей и игрушки   \n",
       "4            Транспорт                  Автомобили   \n",
       "\n",
       "                       param_1     param_2 param_3                  title  \\\n",
       "0    Постельные принадлежности         NaN     NaN  Кокоби(кокон для сна)   \n",
       "1                       Другое         NaN     NaN      Стойка для Одежды   \n",
       "2  Видео, DVD и Blu-ray плееры         NaN     NaN         Philips bluray   \n",
       "3         Автомобильные кресла         NaN     NaN             Автокресло   \n",
       "4                   С пробегом  ВАЗ (LADA)    2110         ВАЗ 2110, 2003   \n",
       "\n",
       "                                         description       price  \\\n",
       "0  Кокон для сна малыша,пользовались меньше месяц...   400.00000   \n",
       "1          Стойка для одежды, под вешалки. С бутика.  3000.00000   \n",
       "2  В хорошем состоянии, домашний кинотеатр с blu ...  4000.00000   \n",
       "3                             Продам кресло от0-25кг  2200.00000   \n",
       "4                           Все вопросы по телефону. 40000.00000   \n",
       "\n",
       "   item_seq_number activation_date user_type  \\\n",
       "0                2      2017-03-28   Private   \n",
       "1               19      2017-03-26   Private   \n",
       "2                9      2017-03-20   Private   \n",
       "3              286      2017-03-25   Company   \n",
       "4                3      2017-03-16   Private   \n",
       "\n",
       "                                               image  image_top_1  \\\n",
       "0  d10c7e016e03247a3bf2d13348fe959fe6f436c1caf64c...   1008.00000   \n",
       "1  79c9392cc51a9c81c6eb91eceb8e552171db39d7142700...    692.00000   \n",
       "2  b7f250ee3f39e1fedd77c141f273703f4a9be59db4b48a...   3032.00000   \n",
       "3  e6ef97e0725637ea84e3d203e82dadb43ed3cc0a1c8413...    796.00000   \n",
       "4  54a687a3a0fc1d68aed99bdaaf551c5c70b761b16fd0a2...   2264.00000   \n",
       "\n",
       "   deal_probability  \n",
       "0           0.12789  \n",
       "1           0.00000  \n",
       "2           0.43177  \n",
       "3           0.80323  \n",
       "4           0.20797  "
      ]
     },
     "execution_count": 7,
     "metadata": {},
     "output_type": "execute_result"
    }
   ],
   "source": [
    "df_train.head()"
   ]
  },
  {
   "cell_type": "code",
   "execution_count": 8,
   "metadata": {},
   "outputs": [],
   "source": [
    "df_test = pd.read_csv('data/test.csv.zip', compression='zip', header=0, sep=',', quotechar='\"')"
   ]
  },
  {
   "cell_type": "code",
   "execution_count": 9,
   "metadata": {},
   "outputs": [
    {
     "data": {
      "text/html": [
       "<div>\n",
       "<style scoped>\n",
       "    .dataframe tbody tr th:only-of-type {\n",
       "        vertical-align: middle;\n",
       "    }\n",
       "\n",
       "    .dataframe tbody tr th {\n",
       "        vertical-align: top;\n",
       "    }\n",
       "\n",
       "    .dataframe thead th {\n",
       "        text-align: right;\n",
       "    }\n",
       "</style>\n",
       "<table border=\"1\" class=\"dataframe\">\n",
       "  <thead>\n",
       "    <tr style=\"text-align: right;\">\n",
       "      <th></th>\n",
       "      <th>item_id</th>\n",
       "      <th>user_id</th>\n",
       "      <th>region</th>\n",
       "      <th>city</th>\n",
       "      <th>parent_category_name</th>\n",
       "      <th>category_name</th>\n",
       "      <th>param_1</th>\n",
       "      <th>param_2</th>\n",
       "      <th>param_3</th>\n",
       "      <th>title</th>\n",
       "      <th>description</th>\n",
       "      <th>price</th>\n",
       "      <th>item_seq_number</th>\n",
       "      <th>activation_date</th>\n",
       "      <th>user_type</th>\n",
       "      <th>image</th>\n",
       "      <th>image_top_1</th>\n",
       "    </tr>\n",
       "  </thead>\n",
       "  <tbody>\n",
       "    <tr>\n",
       "      <th>0</th>\n",
       "      <td>6544e41a8817</td>\n",
       "      <td>dbe73ad6e4b5</td>\n",
       "      <td>Волгоградская область</td>\n",
       "      <td>Волгоград</td>\n",
       "      <td>Личные вещи</td>\n",
       "      <td>Детская одежда и обувь</td>\n",
       "      <td>Для мальчиков</td>\n",
       "      <td>Обувь</td>\n",
       "      <td>25</td>\n",
       "      <td>Отдам бесплатно</td>\n",
       "      <td>На ангарском</td>\n",
       "      <td>nan</td>\n",
       "      <td>66</td>\n",
       "      <td>2017-04-18</td>\n",
       "      <td>Private</td>\n",
       "      <td>a8b57acb5ab304f9c331ac7a074219aed4d349d8aef386...</td>\n",
       "      <td>2020.00000</td>\n",
       "    </tr>\n",
       "    <tr>\n",
       "      <th>1</th>\n",
       "      <td>65b9484d670f</td>\n",
       "      <td>2e11806abe57</td>\n",
       "      <td>Свердловская область</td>\n",
       "      <td>Нижняя Тура</td>\n",
       "      <td>Хобби и отдых</td>\n",
       "      <td>Велосипеды</td>\n",
       "      <td>Дорожные</td>\n",
       "      <td>NaN</td>\n",
       "      <td>NaN</td>\n",
       "      <td>Продам велосипед</td>\n",
       "      <td>Продам велосипед KAMA  F200,в нормальном состо...</td>\n",
       "      <td>3000.00000</td>\n",
       "      <td>4</td>\n",
       "      <td>2017-04-16</td>\n",
       "      <td>Private</td>\n",
       "      <td>NaN</td>\n",
       "      <td>nan</td>\n",
       "    </tr>\n",
       "    <tr>\n",
       "      <th>2</th>\n",
       "      <td>8bab230b2ecd</td>\n",
       "      <td>0b850bbebb10</td>\n",
       "      <td>Новосибирская область</td>\n",
       "      <td>Бердск</td>\n",
       "      <td>Бытовая электроника</td>\n",
       "      <td>Аудио и видео</td>\n",
       "      <td>Телевизоры и проекторы</td>\n",
       "      <td>NaN</td>\n",
       "      <td>NaN</td>\n",
       "      <td>BBK</td>\n",
       "      <td>Продам новый телевизор BBK  32 диагональ смарт...</td>\n",
       "      <td>15000.00000</td>\n",
       "      <td>15</td>\n",
       "      <td>2017-04-17</td>\n",
       "      <td>Private</td>\n",
       "      <td>8c361112cb049745ef2d1b0ae73594fc5c107286b0c942...</td>\n",
       "      <td>2960.00000</td>\n",
       "    </tr>\n",
       "    <tr>\n",
       "      <th>3</th>\n",
       "      <td>8e348601fefc</td>\n",
       "      <td>5f1d5c3ce0da</td>\n",
       "      <td>Саратовская область</td>\n",
       "      <td>Саратов</td>\n",
       "      <td>Для дома и дачи</td>\n",
       "      <td>Бытовая техника</td>\n",
       "      <td>Для кухни</td>\n",
       "      <td>Вытяжки</td>\n",
       "      <td>NaN</td>\n",
       "      <td>Вытяжка Jetair 60</td>\n",
       "      <td>Продам новую вытяжку в упаковке,с документами....</td>\n",
       "      <td>4500.00000</td>\n",
       "      <td>70</td>\n",
       "      <td>2017-04-17</td>\n",
       "      <td>Private</td>\n",
       "      <td>NaN</td>\n",
       "      <td>nan</td>\n",
       "    </tr>\n",
       "    <tr>\n",
       "      <th>4</th>\n",
       "      <td>8bd2fe400b89</td>\n",
       "      <td>23e2d97bfc7f</td>\n",
       "      <td>Оренбургская область</td>\n",
       "      <td>Бузулук</td>\n",
       "      <td>Личные вещи</td>\n",
       "      <td>Товары для детей и игрушки</td>\n",
       "      <td>Детские коляски</td>\n",
       "      <td>NaN</td>\n",
       "      <td>NaN</td>\n",
       "      <td>Коляска зима-лето</td>\n",
       "      <td>Продам отличную коляску. б/у 1 год. все вопрос...</td>\n",
       "      <td>4900.00000</td>\n",
       "      <td>15</td>\n",
       "      <td>2017-04-15</td>\n",
       "      <td>Private</td>\n",
       "      <td>bc3cf6deef10840fc302e38eb48fa7748aa1e28d534f8f...</td>\n",
       "      <td>1002.00000</td>\n",
       "    </tr>\n",
       "  </tbody>\n",
       "</table>\n",
       "</div>"
      ],
      "text/plain": [
       "        item_id       user_id                 region         city  \\\n",
       "0  6544e41a8817  dbe73ad6e4b5  Волгоградская область    Волгоград   \n",
       "1  65b9484d670f  2e11806abe57   Свердловская область  Нижняя Тура   \n",
       "2  8bab230b2ecd  0b850bbebb10  Новосибирская область       Бердск   \n",
       "3  8e348601fefc  5f1d5c3ce0da    Саратовская область      Саратов   \n",
       "4  8bd2fe400b89  23e2d97bfc7f   Оренбургская область      Бузулук   \n",
       "\n",
       "  parent_category_name               category_name                 param_1  \\\n",
       "0          Личные вещи      Детская одежда и обувь           Для мальчиков   \n",
       "1        Хобби и отдых                  Велосипеды                Дорожные   \n",
       "2  Бытовая электроника               Аудио и видео  Телевизоры и проекторы   \n",
       "3      Для дома и дачи             Бытовая техника               Для кухни   \n",
       "4          Личные вещи  Товары для детей и игрушки         Детские коляски   \n",
       "\n",
       "   param_2 param_3              title  \\\n",
       "0    Обувь      25    Отдам бесплатно   \n",
       "1      NaN     NaN   Продам велосипед   \n",
       "2      NaN     NaN                BBK   \n",
       "3  Вытяжки     NaN  Вытяжка Jetair 60   \n",
       "4      NaN     NaN  Коляска зима-лето   \n",
       "\n",
       "                                         description       price  \\\n",
       "0                                       На ангарском         nan   \n",
       "1  Продам велосипед KAMA  F200,в нормальном состо...  3000.00000   \n",
       "2  Продам новый телевизор BBK  32 диагональ смарт... 15000.00000   \n",
       "3  Продам новую вытяжку в упаковке,с документами....  4500.00000   \n",
       "4  Продам отличную коляску. б/у 1 год. все вопрос...  4900.00000   \n",
       "\n",
       "   item_seq_number activation_date user_type  \\\n",
       "0               66      2017-04-18   Private   \n",
       "1                4      2017-04-16   Private   \n",
       "2               15      2017-04-17   Private   \n",
       "3               70      2017-04-17   Private   \n",
       "4               15      2017-04-15   Private   \n",
       "\n",
       "                                               image  image_top_1  \n",
       "0  a8b57acb5ab304f9c331ac7a074219aed4d349d8aef386...   2020.00000  \n",
       "1                                                NaN          nan  \n",
       "2  8c361112cb049745ef2d1b0ae73594fc5c107286b0c942...   2960.00000  \n",
       "3                                                NaN          nan  \n",
       "4  bc3cf6deef10840fc302e38eb48fa7748aa1e28d534f8f...   1002.00000  "
      ]
     },
     "execution_count": 9,
     "metadata": {},
     "output_type": "execute_result"
    }
   ],
   "source": [
    "df_test.head()"
   ]
  },
  {
   "cell_type": "code",
   "execution_count": 24,
   "metadata": {},
   "outputs": [],
   "source": [
    "df_train[\"has_image\"] = pd.notna(df_train['image'])"
   ]
  },
  {
   "cell_type": "code",
   "execution_count": 25,
   "metadata": {},
   "outputs": [],
   "source": [
    "df_test[\"has_image\"] = pd.notna(df_test['image'])"
   ]
  },
  {
   "cell_type": "code",
   "execution_count": 26,
   "metadata": {},
   "outputs": [
    {
     "data": {
      "text/plain": [
       "True     1390836\n",
       "False     112588\n",
       "Name: has_image, dtype: int64"
      ]
     },
     "execution_count": 26,
     "metadata": {},
     "output_type": "execute_result"
    }
   ],
   "source": [
    "df_train['has_image'].value_counts()"
   ]
  },
  {
   "cell_type": "code",
   "execution_count": 27,
   "metadata": {},
   "outputs": [
    {
     "data": {
      "text/plain": [
       "True     465829\n",
       "False     42609\n",
       "Name: has_image, dtype: int64"
      ]
     },
     "execution_count": 27,
     "metadata": {},
     "output_type": "execute_result"
    }
   ],
   "source": [
    "df_test['has_image'].value_counts()"
   ]
  },
  {
   "cell_type": "code",
   "execution_count": 28,
   "metadata": {},
   "outputs": [],
   "source": [
    "data = pd.concat([df_train, df_test], axis=0)"
   ]
  },
  {
   "cell_type": "code",
   "execution_count": 29,
   "metadata": {},
   "outputs": [
    {
     "data": {
      "text/plain": [
       "(2011862, 19)"
      ]
     },
     "execution_count": 29,
     "metadata": {},
     "output_type": "execute_result"
    }
   ],
   "source": [
    "data.shape"
   ]
  },
  {
   "cell_type": "code",
   "execution_count": 31,
   "metadata": {},
   "outputs": [],
   "source": [
    "from sklearn.preprocessing import LabelEncoder\n",
    "import lightgbm as lgb"
   ]
  },
  {
   "cell_type": "code",
   "execution_count": 32,
   "metadata": {},
   "outputs": [
    {
     "data": {
      "text/html": [
       "<div>\n",
       "<style scoped>\n",
       "    .dataframe tbody tr th:only-of-type {\n",
       "        vertical-align: middle;\n",
       "    }\n",
       "\n",
       "    .dataframe tbody tr th {\n",
       "        vertical-align: top;\n",
       "    }\n",
       "\n",
       "    .dataframe thead th {\n",
       "        text-align: right;\n",
       "    }\n",
       "</style>\n",
       "<table border=\"1\" class=\"dataframe\">\n",
       "  <thead>\n",
       "    <tr style=\"text-align: right;\">\n",
       "      <th></th>\n",
       "      <th>activation_date</th>\n",
       "      <th>category_name</th>\n",
       "      <th>city</th>\n",
       "      <th>deal_probability</th>\n",
       "      <th>description</th>\n",
       "      <th>has_image</th>\n",
       "      <th>image</th>\n",
       "      <th>image_top_1</th>\n",
       "      <th>item_id</th>\n",
       "      <th>item_seq_number</th>\n",
       "      <th>param_1</th>\n",
       "      <th>param_2</th>\n",
       "      <th>param_3</th>\n",
       "      <th>parent_category_name</th>\n",
       "      <th>price</th>\n",
       "      <th>region</th>\n",
       "      <th>title</th>\n",
       "      <th>user_id</th>\n",
       "      <th>user_type</th>\n",
       "    </tr>\n",
       "  </thead>\n",
       "  <tbody>\n",
       "    <tr>\n",
       "      <th>0</th>\n",
       "      <td>2017-03-28</td>\n",
       "      <td>Товары для детей и игрушки</td>\n",
       "      <td>Екатеринбург</td>\n",
       "      <td>0.12789</td>\n",
       "      <td>Кокон для сна малыша,пользовались меньше месяц...</td>\n",
       "      <td>True</td>\n",
       "      <td>d10c7e016e03247a3bf2d13348fe959fe6f436c1caf64c...</td>\n",
       "      <td>1008.00000</td>\n",
       "      <td>b912c3c6a6ad</td>\n",
       "      <td>2</td>\n",
       "      <td>Постельные принадлежности</td>\n",
       "      <td>NaN</td>\n",
       "      <td>NaN</td>\n",
       "      <td>Личные вещи</td>\n",
       "      <td>400.00000</td>\n",
       "      <td>Свердловская область</td>\n",
       "      <td>Кокоби(кокон для сна)</td>\n",
       "      <td>e00f8ff2eaf9</td>\n",
       "      <td>Private</td>\n",
       "    </tr>\n",
       "    <tr>\n",
       "      <th>1</th>\n",
       "      <td>2017-03-26</td>\n",
       "      <td>Мебель и интерьер</td>\n",
       "      <td>Самара</td>\n",
       "      <td>0.00000</td>\n",
       "      <td>Стойка для одежды, под вешалки. С бутика.</td>\n",
       "      <td>True</td>\n",
       "      <td>79c9392cc51a9c81c6eb91eceb8e552171db39d7142700...</td>\n",
       "      <td>692.00000</td>\n",
       "      <td>2dac0150717d</td>\n",
       "      <td>19</td>\n",
       "      <td>Другое</td>\n",
       "      <td>NaN</td>\n",
       "      <td>NaN</td>\n",
       "      <td>Для дома и дачи</td>\n",
       "      <td>3000.00000</td>\n",
       "      <td>Самарская область</td>\n",
       "      <td>Стойка для Одежды</td>\n",
       "      <td>39aeb48f0017</td>\n",
       "      <td>Private</td>\n",
       "    </tr>\n",
       "    <tr>\n",
       "      <th>2</th>\n",
       "      <td>2017-03-20</td>\n",
       "      <td>Аудио и видео</td>\n",
       "      <td>Ростов-на-Дону</td>\n",
       "      <td>0.43177</td>\n",
       "      <td>В хорошем состоянии, домашний кинотеатр с blu ...</td>\n",
       "      <td>True</td>\n",
       "      <td>b7f250ee3f39e1fedd77c141f273703f4a9be59db4b48a...</td>\n",
       "      <td>3032.00000</td>\n",
       "      <td>ba83aefab5dc</td>\n",
       "      <td>9</td>\n",
       "      <td>Видео, DVD и Blu-ray плееры</td>\n",
       "      <td>NaN</td>\n",
       "      <td>NaN</td>\n",
       "      <td>Бытовая электроника</td>\n",
       "      <td>4000.00000</td>\n",
       "      <td>Ростовская область</td>\n",
       "      <td>Philips bluray</td>\n",
       "      <td>91e2f88dd6e3</td>\n",
       "      <td>Private</td>\n",
       "    </tr>\n",
       "    <tr>\n",
       "      <th>3</th>\n",
       "      <td>2017-03-25</td>\n",
       "      <td>Товары для детей и игрушки</td>\n",
       "      <td>Набережные Челны</td>\n",
       "      <td>0.80323</td>\n",
       "      <td>Продам кресло от0-25кг</td>\n",
       "      <td>True</td>\n",
       "      <td>e6ef97e0725637ea84e3d203e82dadb43ed3cc0a1c8413...</td>\n",
       "      <td>796.00000</td>\n",
       "      <td>02996f1dd2ea</td>\n",
       "      <td>286</td>\n",
       "      <td>Автомобильные кресла</td>\n",
       "      <td>NaN</td>\n",
       "      <td>NaN</td>\n",
       "      <td>Личные вещи</td>\n",
       "      <td>2200.00000</td>\n",
       "      <td>Татарстан</td>\n",
       "      <td>Автокресло</td>\n",
       "      <td>bf5cccea572d</td>\n",
       "      <td>Company</td>\n",
       "    </tr>\n",
       "    <tr>\n",
       "      <th>4</th>\n",
       "      <td>2017-03-16</td>\n",
       "      <td>Автомобили</td>\n",
       "      <td>Волгоград</td>\n",
       "      <td>0.20797</td>\n",
       "      <td>Все вопросы по телефону.</td>\n",
       "      <td>True</td>\n",
       "      <td>54a687a3a0fc1d68aed99bdaaf551c5c70b761b16fd0a2...</td>\n",
       "      <td>2264.00000</td>\n",
       "      <td>7c90be56d2ab</td>\n",
       "      <td>3</td>\n",
       "      <td>С пробегом</td>\n",
       "      <td>ВАЗ (LADA)</td>\n",
       "      <td>2110</td>\n",
       "      <td>Транспорт</td>\n",
       "      <td>40000.00000</td>\n",
       "      <td>Волгоградская область</td>\n",
       "      <td>ВАЗ 2110, 2003</td>\n",
       "      <td>ef50846afc0b</td>\n",
       "      <td>Private</td>\n",
       "    </tr>\n",
       "  </tbody>\n",
       "</table>\n",
       "</div>"
      ],
      "text/plain": [
       "  activation_date               category_name              city  \\\n",
       "0      2017-03-28  Товары для детей и игрушки      Екатеринбург   \n",
       "1      2017-03-26           Мебель и интерьер            Самара   \n",
       "2      2017-03-20               Аудио и видео    Ростов-на-Дону   \n",
       "3      2017-03-25  Товары для детей и игрушки  Набережные Челны   \n",
       "4      2017-03-16                  Автомобили         Волгоград   \n",
       "\n",
       "   deal_probability                                        description  \\\n",
       "0           0.12789  Кокон для сна малыша,пользовались меньше месяц...   \n",
       "1           0.00000          Стойка для одежды, под вешалки. С бутика.   \n",
       "2           0.43177  В хорошем состоянии, домашний кинотеатр с blu ...   \n",
       "3           0.80323                             Продам кресло от0-25кг   \n",
       "4           0.20797                           Все вопросы по телефону.   \n",
       "\n",
       "   has_image                                              image  image_top_1  \\\n",
       "0       True  d10c7e016e03247a3bf2d13348fe959fe6f436c1caf64c...   1008.00000   \n",
       "1       True  79c9392cc51a9c81c6eb91eceb8e552171db39d7142700...    692.00000   \n",
       "2       True  b7f250ee3f39e1fedd77c141f273703f4a9be59db4b48a...   3032.00000   \n",
       "3       True  e6ef97e0725637ea84e3d203e82dadb43ed3cc0a1c8413...    796.00000   \n",
       "4       True  54a687a3a0fc1d68aed99bdaaf551c5c70b761b16fd0a2...   2264.00000   \n",
       "\n",
       "        item_id  item_seq_number                      param_1     param_2  \\\n",
       "0  b912c3c6a6ad                2    Постельные принадлежности         NaN   \n",
       "1  2dac0150717d               19                       Другое         NaN   \n",
       "2  ba83aefab5dc                9  Видео, DVD и Blu-ray плееры         NaN   \n",
       "3  02996f1dd2ea              286         Автомобильные кресла         NaN   \n",
       "4  7c90be56d2ab                3                   С пробегом  ВАЗ (LADA)   \n",
       "\n",
       "  param_3 parent_category_name       price                 region  \\\n",
       "0     NaN          Личные вещи   400.00000   Свердловская область   \n",
       "1     NaN      Для дома и дачи  3000.00000      Самарская область   \n",
       "2     NaN  Бытовая электроника  4000.00000     Ростовская область   \n",
       "3     NaN          Личные вещи  2200.00000              Татарстан   \n",
       "4    2110            Транспорт 40000.00000  Волгоградская область   \n",
       "\n",
       "                   title       user_id user_type  \n",
       "0  Кокоби(кокон для сна)  e00f8ff2eaf9   Private  \n",
       "1      Стойка для Одежды  39aeb48f0017   Private  \n",
       "2         Philips bluray  91e2f88dd6e3   Private  \n",
       "3             Автокресло  bf5cccea572d   Company  \n",
       "4         ВАЗ 2110, 2003  ef50846afc0b   Private  "
      ]
     },
     "execution_count": 32,
     "metadata": {},
     "output_type": "execute_result"
    }
   ],
   "source": [
    "data.head()"
   ]
  },
  {
   "cell_type": "code",
   "execution_count": 34,
   "metadata": {},
   "outputs": [],
   "source": [
    "data.activation_date = pd.to_datetime(data.activation_date)\n",
    "\n",
    "df_train.activation_date = pd.to_datetime(df_train.activation_date)\n",
    "\n",
    "data['day_of_month'] = data.activation_date.apply(lambda x: x.day)\n",
    "data['day_of_week'] = data.activation_date.apply(lambda x: x.weekday())\n",
    "\n",
    "df_train['day_of_month'] = df_train.activation_date.apply(lambda x: x.day)\n",
    "df_train['day_of_week'] = df_train.activation_date.apply(lambda x: x.weekday())"
   ]
  },
  {
   "cell_type": "code",
   "execution_count": 35,
   "metadata": {},
   "outputs": [],
   "source": [
    "data['char_len_title'] = data.title.apply(lambda x: len(str(x)))\n",
    "data['char_len_desc'] = data.description.apply(lambda x: len(str(x)))"
   ]
  },
  {
   "cell_type": "code",
   "execution_count": 36,
   "metadata": {},
   "outputs": [],
   "source": [
    "aggregate_columns = ['region', 'city', 'parent_category_name', 'category_name',\n",
    "            'image_top_1', 'user_type','item_seq_number','day_of_month','day_of_week']"
   ]
  },
  {
   "cell_type": "code",
   "execution_count": 40,
   "metadata": {},
   "outputs": [],
   "source": [
    "gp = df_train.groupby('region')['deal_probability']"
   ]
  },
  {
   "cell_type": "code",
   "execution_count": 41,
   "metadata": {},
   "outputs": [
    {
     "data": {
      "text/plain": [
       "region\n",
       "Алтайский край            0.13626\n",
       "Башкортостан              0.14886\n",
       "Белгородская область      0.14560\n",
       "Владимирская область      0.14099\n",
       "Волгоградская область     0.14591\n",
       "Воронежская область       0.14101\n",
       "Иркутская область         0.13968\n",
       "Калининградская область   0.13157\n",
       "Кемеровская область       0.13548\n",
       "Краснодарский край        0.14707\n",
       "Красноярский край         0.12036\n",
       "Нижегородская область     0.14661\n",
       "Новосибирская область     0.12469\n",
       "Омская область            0.12919\n",
       "Оренбургская область      0.15592\n",
       "Пермский край             0.14369\n",
       "Ростовская область        0.13594\n",
       "Самарская область         0.13672\n",
       "Саратовская область       0.14599\n",
       "Свердловская область      0.12200\n",
       "Ставропольский край       0.15359\n",
       "Татарстан                 0.14260\n",
       "Тульская область          0.14388\n",
       "Тюменская область         0.12419\n",
       "Удмуртия                  0.14813\n",
       "Ханты-Мансийский АО       0.14370\n",
       "Челябинская область       0.14323\n",
       "Ярославская область       0.12884\n",
       "Name: deal_probability, dtype: float64"
      ]
     },
     "execution_count": 41,
     "metadata": {},
     "output_type": "execute_result"
    }
   ],
   "source": [
    "gp.mean()"
   ]
  },
  {
   "cell_type": "code",
   "execution_count": 42,
   "metadata": {},
   "outputs": [
    {
     "data": {
      "text/plain": [
       "region\n",
       "Алтайский край            0.25698\n",
       "Башкортостан              0.26091\n",
       "Белгородская область      0.26310\n",
       "Владимирская область      0.26410\n",
       "Волгоградская область     0.26768\n",
       "Воронежская область       0.26543\n",
       "Иркутская область         0.25521\n",
       "Калининградская область   0.26275\n",
       "Кемеровская область       0.25708\n",
       "Краснодарский край        0.25848\n",
       "Красноярский край         0.24318\n",
       "Нижегородская область     0.27110\n",
       "Новосибирская область     0.25516\n",
       "Омская область            0.26175\n",
       "Оренбургская область      0.26772\n",
       "Пермский край             0.26604\n",
       "Ростовская область        0.25479\n",
       "Самарская область         0.25902\n",
       "Саратовская область       0.26404\n",
       "Свердловская область      0.25256\n",
       "Ставропольский край       0.25973\n",
       "Татарстан                 0.25994\n",
       "Тульская область          0.26651\n",
       "Тюменская область         0.24361\n",
       "Удмуртия                  0.26473\n",
       "Ханты-Мансийский АО       0.26093\n",
       "Челябинская область       0.26613\n",
       "Ярославская область       0.26017\n",
       "Name: deal_probability, dtype: float64"
      ]
     },
     "execution_count": 42,
     "metadata": {},
     "output_type": "execute_result"
    }
   ],
   "source": [
    "gp.std()"
   ]
  },
  {
   "cell_type": "code",
   "execution_count": 43,
   "metadata": {},
   "outputs": [],
   "source": [
    "for c in aggregate_columns:\n",
    "    gp1 = df_train.groupby(c)['deal_probability']\n",
    "    gp2 = df_train.groupby(c)['price']\n",
    "    \n",
    "    mean1 = gp1.mean()\n",
    "    mean2 = gp2.mean()\n",
    "    std1 = gp1.std()\n",
    "    std2 = gp2.std()\n",
    "    \n",
    "    data[c + '_deal_probability_avg'] = data[c].map(mean1)\n",
    "    data[c + '_deal_probability_std'] = data[c].map(std1)\n",
    "    data[c + '_price_avg'] = data[c].map(mean2)\n",
    "    data[c + '_price_std'] = data[c].map(std2)"
   ]
  },
  {
   "cell_type": "code",
   "execution_count": 44,
   "metadata": {},
   "outputs": [
    {
     "data": {
      "text/plain": [
       "(2011862, 59)"
      ]
     },
     "execution_count": 44,
     "metadata": {},
     "output_type": "execute_result"
    }
   ],
   "source": [
    "data.shape"
   ]
  },
  {
   "cell_type": "code",
   "execution_count": 45,
   "metadata": {},
   "outputs": [
    {
     "data": {
      "text/plain": [
       "Index(['activation_date', 'category_name', 'city', 'deal_probability',\n",
       "       'description', 'has_image', 'image', 'image_top_1', 'item_id',\n",
       "       'item_seq_number', 'param_1', 'param_2', 'param_3',\n",
       "       'parent_category_name', 'price', 'region', 'title', 'user_id',\n",
       "       'user_type', 'day_of_month', 'day_of_week', 'char_len_title',\n",
       "       'char_len_desc', 'region_deal_probability_avg',\n",
       "       'region_deal_probability_std', 'region_price_avg', 'region_price_std',\n",
       "       'city_deal_probability_avg', 'city_deal_probability_std',\n",
       "       'city_price_avg', 'city_price_std',\n",
       "       'parent_category_name_deal_probability_avg',\n",
       "       'parent_category_name_deal_probability_std',\n",
       "       'parent_category_name_price_avg', 'parent_category_name_price_std',\n",
       "       'category_name_deal_probability_avg',\n",
       "       'category_name_deal_probability_std', 'category_name_price_avg',\n",
       "       'category_name_price_std', 'image_top_1_deal_probability_avg',\n",
       "       'image_top_1_deal_probability_std', 'image_top_1_price_avg',\n",
       "       'image_top_1_price_std', 'user_type_deal_probability_avg',\n",
       "       'user_type_deal_probability_std', 'user_type_price_avg',\n",
       "       'user_type_price_std', 'item_seq_number_deal_probability_avg',\n",
       "       'item_seq_number_deal_probability_std', 'item_seq_number_price_avg',\n",
       "       'item_seq_number_price_std', 'day_of_month_deal_probability_avg',\n",
       "       'day_of_month_deal_probability_std', 'day_of_month_price_avg',\n",
       "       'day_of_month_price_std', 'day_of_week_deal_probability_avg',\n",
       "       'day_of_week_deal_probability_std', 'day_of_week_price_avg',\n",
       "       'day_of_week_price_std'],\n",
       "      dtype='object')"
      ]
     },
     "execution_count": 45,
     "metadata": {},
     "output_type": "execute_result"
    }
   ],
   "source": [
    "data.columns"
   ]
  },
  {
   "cell_type": "code",
   "execution_count": 47,
   "metadata": {},
   "outputs": [
    {
     "data": {
      "text/plain": [
       "Личные вещи            914200\n",
       "Для дома и дачи        243733\n",
       "Бытовая электроника    231290\n",
       "Недвижимость           210577\n",
       "Хобби и отдых          117282\n",
       "Транспорт              109792\n",
       "Услуги                  88004\n",
       "Животные                72446\n",
       "Для бизнеса             24538\n",
       "Name: parent_category_name, dtype: int64"
      ]
     },
     "execution_count": 47,
     "metadata": {},
     "output_type": "execute_result"
    }
   ],
   "source": [
    "data['parent_category_name'].value_counts()"
   ]
  },
  {
   "cell_type": "code",
   "execution_count": 46,
   "metadata": {},
   "outputs": [],
   "source": [
    "# cat_col = ['city',  'category_name', 'user_type', 'region', 'has_image', 'parent_category_name']"
   ]
  },
  {
   "cell_type": "code",
   "execution_count": 48,
   "metadata": {},
   "outputs": [],
   "source": [
    "# for c in cat_col:\n",
    "#     data[c] = LabelEncoder().fit_transform(data[c].values)\n"
   ]
  },
  {
   "cell_type": "code",
   "execution_count": 49,
   "metadata": {},
   "outputs": [],
   "source": [
    "# data.to_csv(\"data/data.csv\")"
   ]
  },
  {
   "cell_type": "code",
   "execution_count": 76,
   "metadata": {},
   "outputs": [],
   "source": [
    "new_data = data.drop(['user_id','description','image',\n",
    "                      'item_id','param_1','param_2','param_3','title', 'city',  \n",
    "                      'category_name', 'user_type', 'region', 'has_image', 'parent_category_name' ], axis=1)"
   ]
  },
  {
   "cell_type": "code",
   "execution_count": 77,
   "metadata": {},
   "outputs": [],
   "source": [
    "from sklearn.model_selection import train_test_split\n",
    "import gc"
   ]
  },
  {
   "cell_type": "code",
   "execution_count": 87,
   "metadata": {},
   "outputs": [
    {
     "name": "stdout",
     "output_type": "stream",
     "text": [
      "(1202739, 43) (300685, 43) (508438, 43)\n"
     ]
    }
   ],
   "source": [
    "X = new_data.loc[new_data.activation_date<=pd.to_datetime('2017-04-07')]\n",
    "X_te = new_data.loc[new_data.activation_date>=pd.to_datetime('2017-04-08')]\n",
    "\n",
    "y = X['deal_probability']\n",
    "X = X.drop(['deal_probability','activation_date'],axis=1)\n",
    "X_tr, X_va, y_tr, y_va = train_test_split(X, y, test_size=0.2, random_state=2018)\n",
    "X_te = X_te.drop(['deal_probability','activation_date'],axis=1)\n",
    "\n",
    "print(X_tr.shape, X_va.shape, X_te.shape)\n",
    "\n",
    "\n",
    "# del X\n",
    "# del y\n",
    "# gc.collect()"
   ]
  },
  {
   "cell_type": "code",
   "execution_count": 79,
   "metadata": {},
   "outputs": [
    {
     "data": {
      "text/plain": [
       "(1503424, 21)"
      ]
     },
     "execution_count": 79,
     "metadata": {},
     "output_type": "execute_result"
    }
   ],
   "source": [
    "df_train.shape"
   ]
  },
  {
   "cell_type": "code",
   "execution_count": 80,
   "metadata": {},
   "outputs": [
    {
     "data": {
      "text/plain": [
       "(508438, 18)"
      ]
     },
     "execution_count": 80,
     "metadata": {},
     "output_type": "execute_result"
    }
   ],
   "source": [
    "df_test.shape"
   ]
  },
  {
   "cell_type": "code",
   "execution_count": 81,
   "metadata": {},
   "outputs": [],
   "source": [
    "# tr_data = lgb.Dataset(X_tr, label=y_tr, categorical_feature=cat_col)\n",
    "# va_data = lgb.Dataset(X_va, label=y_va, categorical_feature=cat_col, reference=tr_data)\n",
    "\n",
    "tr_data = lgb.Dataset(X_tr, label=y_tr)\n",
    "va_data = lgb.Dataset(X_va, label=y_va, reference=tr_data)"
   ]
  },
  {
   "cell_type": "code",
   "execution_count": 82,
   "metadata": {},
   "outputs": [
    {
     "data": {
      "text/plain": [
       "0"
      ]
     },
     "execution_count": 82,
     "metadata": {},
     "output_type": "execute_result"
    }
   ],
   "source": [
    "del X_tr\n",
    "del X_va\n",
    "del y_tr\n",
    "del y_va\n",
    "gc.collect()"
   ]
  },
  {
   "cell_type": "code",
   "execution_count": 83,
   "metadata": {},
   "outputs": [
    {
     "name": "stdout",
     "output_type": "stream",
     "text": [
      "Training until validation scores don't improve for 120 rounds.\n",
      "[50]\tvalid_0's rmse: 0.230325\n",
      "[100]\tvalid_0's rmse: 0.228325\n",
      "[150]\tvalid_0's rmse: 0.227518\n",
      "[200]\tvalid_0's rmse: 0.227056\n",
      "[250]\tvalid_0's rmse: 0.226749\n",
      "[300]\tvalid_0's rmse: 0.226496\n",
      "[350]\tvalid_0's rmse: 0.226321\n",
      "[400]\tvalid_0's rmse: 0.226153\n",
      "[450]\tvalid_0's rmse: 0.226033\n",
      "[500]\tvalid_0's rmse: 0.2259\n",
      "[550]\tvalid_0's rmse: 0.225779\n",
      "[600]\tvalid_0's rmse: 0.225677\n",
      "[650]\tvalid_0's rmse: 0.225582\n",
      "[700]\tvalid_0's rmse: 0.225498\n",
      "[750]\tvalid_0's rmse: 0.225425\n",
      "[800]\tvalid_0's rmse: 0.225356\n",
      "[850]\tvalid_0's rmse: 0.225277\n",
      "[900]\tvalid_0's rmse: 0.225237\n",
      "[950]\tvalid_0's rmse: 0.225163\n",
      "[1000]\tvalid_0's rmse: 0.225123\n",
      "[1050]\tvalid_0's rmse: 0.225071\n",
      "[1100]\tvalid_0's rmse: 0.22504\n",
      "[1150]\tvalid_0's rmse: 0.224994\n",
      "[1200]\tvalid_0's rmse: 0.224968\n",
      "[1250]\tvalid_0's rmse: 0.224935\n",
      "[1300]\tvalid_0's rmse: 0.224897\n",
      "[1350]\tvalid_0's rmse: 0.224861\n",
      "[1400]\tvalid_0's rmse: 0.224839\n",
      "[1450]\tvalid_0's rmse: 0.224803\n",
      "[1500]\tvalid_0's rmse: 0.224773\n",
      "[1550]\tvalid_0's rmse: 0.224757\n",
      "[1600]\tvalid_0's rmse: 0.224723\n",
      "[1650]\tvalid_0's rmse: 0.224692\n",
      "[1700]\tvalid_0's rmse: 0.224672\n",
      "[1750]\tvalid_0's rmse: 0.224655\n",
      "[1800]\tvalid_0's rmse: 0.224634\n",
      "[1850]\tvalid_0's rmse: 0.224616\n",
      "[1900]\tvalid_0's rmse: 0.224592\n",
      "[1950]\tvalid_0's rmse: 0.224582\n",
      "[2000]\tvalid_0's rmse: 0.224571\n",
      "Did not meet early stopping. Best iteration is:\n",
      "[2000]\tvalid_0's rmse: 0.224571\n"
     ]
    }
   ],
   "source": [
    "parameters = {\n",
    "    'task': 'train',\n",
    "    'boosting_type': 'gbdt',\n",
    "    'objective': 'regression',\n",
    "    'metric': 'rmse',\n",
    "    'num_leaves': 31,\n",
    "    'learning_rate': 0.05,\n",
    "    'feature_fraction': 0.9,\n",
    "    'bagging_fraction': 0.8,\n",
    "    'bagging_freq': 5,\n",
    "    'verbose': 50\n",
    "}\n",
    "\n",
    "\n",
    "#     params = {\n",
    "#         \"objective\" : \"regression\",\n",
    "#         \"metric\" : \"rmse\",\n",
    "#         \"num_leaves\" : 30,\n",
    "#         \"learning_rate\" : 0.1,\n",
    "#         \"bagging_fraction\" : 0.7,\n",
    "#         \"feature_fraction\" : 0.7,\n",
    "#         \"bagging_frequency\" : 5,\n",
    "#         \"bagging_seed\" : 2018,\n",
    "#         \"verbosity\" : -1\n",
    "#     }\n",
    "\n",
    "\n",
    "model = lgb.train(parameters,\n",
    "                  tr_data,\n",
    "                  valid_sets=va_data,\n",
    "                  num_boost_round=2000,\n",
    "                  early_stopping_rounds=120,\n",
    "                  verbose_eval=50)"
   ]
  },
  {
   "cell_type": "code",
   "execution_count": 84,
   "metadata": {},
   "outputs": [
    {
     "data": {
      "text/html": [
       "<div>\n",
       "<style scoped>\n",
       "    .dataframe tbody tr th:only-of-type {\n",
       "        vertical-align: middle;\n",
       "    }\n",
       "\n",
       "    .dataframe tbody tr th {\n",
       "        vertical-align: top;\n",
       "    }\n",
       "\n",
       "    .dataframe thead th {\n",
       "        text-align: right;\n",
       "    }\n",
       "</style>\n",
       "<table border=\"1\" class=\"dataframe\">\n",
       "  <thead>\n",
       "    <tr style=\"text-align: right;\">\n",
       "      <th></th>\n",
       "      <th>item_id</th>\n",
       "      <th>deal_probability</th>\n",
       "    </tr>\n",
       "  </thead>\n",
       "  <tbody>\n",
       "    <tr>\n",
       "      <th>0</th>\n",
       "      <td>6544e41a8817</td>\n",
       "      <td>0.04209</td>\n",
       "    </tr>\n",
       "    <tr>\n",
       "      <th>1</th>\n",
       "      <td>65b9484d670f</td>\n",
       "      <td>0.11960</td>\n",
       "    </tr>\n",
       "    <tr>\n",
       "      <th>2</th>\n",
       "      <td>8bab230b2ecd</td>\n",
       "      <td>0.09649</td>\n",
       "    </tr>\n",
       "    <tr>\n",
       "      <th>3</th>\n",
       "      <td>8e348601fefc</td>\n",
       "      <td>0.21156</td>\n",
       "    </tr>\n",
       "    <tr>\n",
       "      <th>4</th>\n",
       "      <td>8bd2fe400b89</td>\n",
       "      <td>0.29941</td>\n",
       "    </tr>\n",
       "  </tbody>\n",
       "</table>\n",
       "</div>"
      ],
      "text/plain": [
       "        item_id  deal_probability\n",
       "0  6544e41a8817           0.04209\n",
       "1  65b9484d670f           0.11960\n",
       "2  8bab230b2ecd           0.09649\n",
       "3  8e348601fefc           0.21156\n",
       "4  8bd2fe400b89           0.29941"
      ]
     },
     "execution_count": 84,
     "metadata": {},
     "output_type": "execute_result"
    }
   ],
   "source": [
    "y_pred = model.predict(X_te)\n",
    "sub = pd.read_csv('data/sample_submission.csv')\n",
    "sub['deal_probability'] = y_pred\n",
    "sub['deal_probability'].clip(0.0, 1.0, inplace=True)\n",
    "sub.to_csv('pred/lgb_mean_encode2.csv', index=False)\n",
    "sub.head()"
   ]
  },
  {
   "cell_type": "code",
   "execution_count": 85,
   "metadata": {},
   "outputs": [
    {
     "name": "stderr",
     "output_type": "stream",
     "text": [
      "/home/shrishty/.conda/envs/tf/lib/python3.6/site-packages/sklearn/cross_validation.py:41: DeprecationWarning: This module was deprecated in version 0.18 in favor of the model_selection module into which all the refactored classes and functions are moved. Also note that the interface of the new CV iterators are different from that of this module. This module will be removed in 0.20.\n",
      "  \"This module will be removed in 0.20.\", DeprecationWarning)\n"
     ]
    }
   ],
   "source": [
    "import xgboost as xgb"
   ]
  },
  {
   "cell_type": "code",
   "execution_count": 88,
   "metadata": {},
   "outputs": [],
   "source": [
    "# X_tr, X_va, y_tr, y_va = train_test_split(X, y, test_size=0.2, random_state=2018)\n",
    "# X_te = X_te.drop(['deal_probability','activation_date'],axis=1)\n",
    "\n",
    "dtrain = xgb.DMatrix(X_tr, y_tr)\n",
    "dval = xgb.DMatrix(X_va, y_va)"
   ]
  },
  {
   "cell_type": "code",
   "execution_count": 89,
   "metadata": {},
   "outputs": [
    {
     "name": "stdout",
     "output_type": "stream",
     "text": [
      "[0]\ttrain-rmse:0.413153\tvalid-rmse:0.413251\n",
      "Multiple eval metrics have been passed: 'valid-rmse' will be used for early stopping.\n",
      "\n",
      "Will train until valid-rmse hasn't improved in 50 rounds.\n",
      "[50]\ttrain-rmse:0.226739\tvalid-rmse:0.227636\n",
      "[100]\ttrain-rmse:0.224617\tvalid-rmse:0.226362\n",
      "[150]\ttrain-rmse:0.223102\tvalid-rmse:0.225708\n",
      "[200]\ttrain-rmse:0.22201\tvalid-rmse:0.225385\n",
      "[250]\ttrain-rmse:0.220967\tvalid-rmse:0.225148\n",
      "[300]\ttrain-rmse:0.219922\tvalid-rmse:0.224949\n",
      "[350]\ttrain-rmse:0.219012\tvalid-rmse:0.224811\n",
      "[400]\ttrain-rmse:0.218179\tvalid-rmse:0.224737\n",
      "[450]\ttrain-rmse:0.217353\tvalid-rmse:0.224681\n",
      "[500]\ttrain-rmse:0.216513\tvalid-rmse:0.224621\n",
      "[550]\ttrain-rmse:0.215708\tvalid-rmse:0.224582\n",
      "[600]\ttrain-rmse:0.214908\tvalid-rmse:0.224537\n",
      "[650]\ttrain-rmse:0.214162\tvalid-rmse:0.224508\n",
      "[700]\ttrain-rmse:0.21339\tvalid-rmse:0.224487\n",
      "[750]\ttrain-rmse:0.212626\tvalid-rmse:0.224479\n",
      "[800]\ttrain-rmse:0.21185\tvalid-rmse:0.224483\n",
      "Stopping. Best iteration:\n",
      "[783]\ttrain-rmse:0.212125\tvalid-rmse:0.224466\n",
      "\n"
     ]
    }
   ],
   "source": [
    "params={\n",
    "        'eta':0.1,\n",
    "        'seed':0,\n",
    "        'subsample':0.8,\n",
    "        'colsample_bytree':0.8,\n",
    "        'objective':'reg:linear',\n",
    "        'max_depth':7,\n",
    "        'min_child_weight':1,\n",
    "        'eval_metric': 'rmse'\n",
    "        }\n",
    "\n",
    "watchlist = [(dtrain, 'train'), (dval, 'valid')]\n",
    "reg=xgb.train(params, \n",
    "              dtrain, \n",
    "              num_boost_round=3500,\n",
    "              evals=watchlist,\n",
    "              early_stopping_rounds=50,\n",
    "              verbose_eval=50)"
   ]
  },
  {
   "cell_type": "code",
   "execution_count": 90,
   "metadata": {},
   "outputs": [],
   "source": [
    "dtest = xgb.DMatrix(X_te)"
   ]
  },
  {
   "cell_type": "code",
   "execution_count": 91,
   "metadata": {},
   "outputs": [
    {
     "data": {
      "text/html": [
       "<div>\n",
       "<style scoped>\n",
       "    .dataframe tbody tr th:only-of-type {\n",
       "        vertical-align: middle;\n",
       "    }\n",
       "\n",
       "    .dataframe tbody tr th {\n",
       "        vertical-align: top;\n",
       "    }\n",
       "\n",
       "    .dataframe thead th {\n",
       "        text-align: right;\n",
       "    }\n",
       "</style>\n",
       "<table border=\"1\" class=\"dataframe\">\n",
       "  <thead>\n",
       "    <tr style=\"text-align: right;\">\n",
       "      <th></th>\n",
       "      <th>item_id</th>\n",
       "      <th>deal_probability</th>\n",
       "    </tr>\n",
       "  </thead>\n",
       "  <tbody>\n",
       "    <tr>\n",
       "      <th>0</th>\n",
       "      <td>6544e41a8817</td>\n",
       "      <td>0.06138</td>\n",
       "    </tr>\n",
       "    <tr>\n",
       "      <th>1</th>\n",
       "      <td>65b9484d670f</td>\n",
       "      <td>0.12807</td>\n",
       "    </tr>\n",
       "    <tr>\n",
       "      <th>2</th>\n",
       "      <td>8bab230b2ecd</td>\n",
       "      <td>0.06238</td>\n",
       "    </tr>\n",
       "    <tr>\n",
       "      <th>3</th>\n",
       "      <td>8e348601fefc</td>\n",
       "      <td>0.19303</td>\n",
       "    </tr>\n",
       "    <tr>\n",
       "      <th>4</th>\n",
       "      <td>8bd2fe400b89</td>\n",
       "      <td>0.33330</td>\n",
       "    </tr>\n",
       "  </tbody>\n",
       "</table>\n",
       "</div>"
      ],
      "text/plain": [
       "        item_id  deal_probability\n",
       "0  6544e41a8817           0.06138\n",
       "1  65b9484d670f           0.12807\n",
       "2  8bab230b2ecd           0.06238\n",
       "3  8e348601fefc           0.19303\n",
       "4  8bd2fe400b89           0.33330"
      ]
     },
     "execution_count": 91,
     "metadata": {},
     "output_type": "execute_result"
    }
   ],
   "source": [
    "# reg.predict(dtest)\n",
    "\n",
    "y_pred = reg.predict(dtest)\n",
    "sub = pd.read_csv('data/sample_submission.csv')\n",
    "sub['deal_probability'] = y_pred\n",
    "sub['deal_probability'].clip(0.0, 1.0, inplace=True)\n",
    "sub.to_csv('pred/xgboost1.csv', index=False)\n",
    "sub.head()"
   ]
  },
  {
   "cell_type": "code",
   "execution_count": 95,
   "metadata": {},
   "outputs": [
    {
     "data": {
      "text/plain": [
       "<matplotlib.axes._subplots.AxesSubplot at 0x7f02e8ec3588>"
      ]
     },
     "execution_count": 95,
     "metadata": {},
     "output_type": "execute_result"
    },
    {
     "data": {
      "image/png": "[encoded data removed]",
      "text/plain": [
       "<matplotlib.figure.Figure at 0x7f02b8518828>"
      ]
     },
     "metadata": {},
     "output_type": "display_data"
    }
   ],
   "source": [
    "xgb.plot_importance(reg)"
   ]
  },
  {
   "cell_type": "code",
   "execution_count": 94,
   "metadata": {},
   "outputs": [],
   "source": [
    "%matplotlib inline"
   ]
  },
  {
   "cell_type": "code",
   "execution_count": 97,
   "metadata": {},
   "outputs": [],
   "source": [
    "from xgboost import XGBRegressor\n",
    "from sklearn.model_selection import GridSearchCV"
   ]
  },
  {
   "cell_type": "code",
   "execution_count": 98,
   "metadata": {},
   "outputs": [],
   "source": [
    "xgb_reg = XGBRegressor()"
   ]
  },
  {
   "cell_type": "code",
   "execution_count": 114,
   "metadata": {},
   "outputs": [],
   "source": [
    "param = {\n",
    "              'nthread':[4], #when use hyperthread, xgboost may become slower\n",
    "              'objective':['reg:linear'],\n",
    "              'learning_rate': [0.05, 0.01, 0.1, 0.5], #so called `eta` value\n",
    "              'max_depth': [6, 10, 15, 20, 25],\n",
    "              'min_child_weight': [11, 10, 20],\n",
    "              'subsample': [0.8, 0.5],\n",
    "              'colsample_bytree': [0.7, 0.8, 0.5],\n",
    "              'n_estimators': [100, 200, 500, 1000], #number of trees, change it to 1000 for better results\n",
    "              'seed': [1337]\n",
    "             }\n",
    "\n",
    "\n",
    "# params={\n",
    "#         'eta':0.1,\n",
    "#         'seed':0,\n",
    "#         'subsample':0.8,\n",
    "#         'colsample_bytree':0.8,\n",
    "#         'objective':'reg:linear',\n",
    "#         'max_depth':7,\n",
    "#         'min_child_weight':1,\n",
    "#         'eval_metric': 'rmse'\n",
    "#         }"
   ]
  },
  {
   "cell_type": "code",
   "execution_count": 115,
   "metadata": {},
   "outputs": [],
   "source": [
    "from sklearn.model_selection import StratifiedKFold"
   ]
  },
  {
   "cell_type": "code",
   "execution_count": null,
   "metadata": {},
   "outputs": [
    {
     "name": "stdout",
     "output_type": "stream",
     "text": [
      "Fitting 3 folds for each of 1440 candidates, totalling 4320 fits\n",
      "[CV] colsample_bytree=0.7, learning_rate=0.05, max_depth=6, min_child_weight=11, n_estimators=100, nthread=4, objective=reg:linear, seed=1337, subsample=0.8 \n",
      "[CV] colsample_bytree=0.7, learning_rate=0.05, max_depth=6, min_child_weight=11, n_estimators=100, nthread=4, objective=reg:linear, seed=1337, subsample=0.8 \n",
      "[CV] colsample_bytree=0.7, learning_rate=0.05, max_depth=6, min_child_weight=11, n_estimators=100, nthread=4, objective=reg:linear, seed=1337, subsample=0.8 \n",
      "[CV] colsample_bytree=0.7, learning_rate=0.05, max_depth=6, min_child_weight=11, n_estimators=100, nthread=4, objective=reg:linear, seed=1337, subsample=0.5 \n",
      "[CV] colsample_bytree=0.7, learning_rate=0.05, max_depth=6, min_child_weight=11, n_estimators=100, nthread=4, objective=reg:linear, seed=1337, subsample=0.5 \n",
      "[CV] colsample_bytree=0.7, learning_rate=0.05, max_depth=6, min_child_weight=11, n_estimators=100, nthread=4, objective=reg:linear, seed=1337, subsample=0.5 \n",
      "[CV] colsample_bytree=0.7, learning_rate=0.05, max_depth=6, min_child_weight=11, n_estimators=200, nthread=4, objective=reg:linear, seed=1337, subsample=0.8 \n",
      "[CV] colsample_bytree=0.7, learning_rate=0.05, max_depth=6, min_child_weight=11, n_estimators=200, nthread=4, objective=reg:linear, seed=1337, subsample=0.8 \n",
      "[CV] colsample_bytree=0.7, learning_rate=0.05, max_depth=6, min_child_weight=11, n_estimators=200, nthread=4, objective=reg:linear, seed=1337, subsample=0.8 \n",
      "[CV] colsample_bytree=0.7, learning_rate=0.05, max_depth=6, min_child_weight=11, n_estimators=200, nthread=4, objective=reg:linear, seed=1337, subsample=0.5 \n",
      "[CV]  colsample_bytree=0.7, learning_rate=0.05, max_depth=6, min_child_weight=11, n_estimators=100, nthread=4, objective=reg:linear, seed=1337, subsample=0.5, total=17.6min\n",
      "[CV] colsample_bytree=0.7, learning_rate=0.05, max_depth=6, min_child_weight=11, n_estimators=200, nthread=4, objective=reg:linear, seed=1337, subsample=0.5 \n",
      "[CV]  colsample_bytree=0.7, learning_rate=0.05, max_depth=6, min_child_weight=11, n_estimators=200, nthread=4, objective=reg:linear, seed=1337, subsample=0.8, total=32.0min\n",
      "[CV] colsample_bytree=0.7, learning_rate=0.05, max_depth=6, min_child_weight=11, n_estimators=200, nthread=4, objective=reg:linear, seed=1337, subsample=0.5 \n",
      "[CV]  colsample_bytree=0.7, learning_rate=0.05, max_depth=6, min_child_weight=11, n_estimators=200, nthread=4, objective=reg:linear, seed=1337, subsample=0.8, total=32.6min\n",
      "[CV] colsample_bytree=0.7, learning_rate=0.05, max_depth=6, min_child_weight=11, n_estimators=500, nthread=4, objective=reg:linear, seed=1337, subsample=0.8 \n",
      "[CV]  colsample_bytree=0.7, learning_rate=0.05, max_depth=6, min_child_weight=11, n_estimators=200, nthread=4, objective=reg:linear, seed=1337, subsample=0.8, total=32.6min\n",
      "[CV] colsample_bytree=0.7, learning_rate=0.05, max_depth=6, min_child_weight=11, n_estimators=500, nthread=4, objective=reg:linear, seed=1337, subsample=0.8 \n",
      "[CV]  colsample_bytree=0.7, learning_rate=0.05, max_depth=6, min_child_weight=11, n_estimators=200, nthread=4, objective=reg:linear, seed=1337, subsample=0.5, total=32.8min\n",
      "[CV] colsample_bytree=0.7, learning_rate=0.05, max_depth=6, min_child_weight=11, n_estimators=500, nthread=4, objective=reg:linear, seed=1337, subsample=0.8 \n",
      "[CV]  colsample_bytree=0.7, learning_rate=0.05, max_depth=6, min_child_weight=11, n_estimators=200, nthread=4, objective=reg:linear, seed=1337, subsample=0.5, total=31.6min\n",
      "[CV] colsample_bytree=0.7, learning_rate=0.05, max_depth=6, min_child_weight=11, n_estimators=500, nthread=4, objective=reg:linear, seed=1337, subsample=0.5 \n",
      "[CV]  colsample_bytree=0.7, learning_rate=0.05, max_depth=6, min_child_weight=11, n_estimators=200, nthread=4, objective=reg:linear, seed=1337, subsample=0.5, total=32.6min\n",
      "[CV] colsample_bytree=0.7, learning_rate=0.05, max_depth=6, min_child_weight=11, n_estimators=500, nthread=4, objective=reg:linear, seed=1337, subsample=0.5 \n",
      "[CV]  colsample_bytree=0.7, learning_rate=0.05, max_depth=6, min_child_weight=11, n_estimators=500, nthread=4, objective=reg:linear, seed=1337, subsample=0.8, total=77.6min\n",
      "[CV] colsample_bytree=0.7, learning_rate=0.05, max_depth=6, min_child_weight=11, n_estimators=500, nthread=4, objective=reg:linear, seed=1337, subsample=0.5 \n",
      "[CV]  colsample_bytree=0.7, learning_rate=0.05, max_depth=6, min_child_weight=11, n_estimators=500, nthread=4, objective=reg:linear, seed=1337, subsample=0.8, total=79.4min\n",
      "[CV] colsample_bytree=0.7, learning_rate=0.05, max_depth=6, min_child_weight=11, n_estimators=1000, nthread=4, objective=reg:linear, seed=1337, subsample=0.8 \n",
      "[CV]  colsample_bytree=0.7, learning_rate=0.05, max_depth=6, min_child_weight=11, n_estimators=500, nthread=4, objective=reg:linear, seed=1337, subsample=0.8, total=79.8min\n",
      "[CV] colsample_bytree=0.7, learning_rate=0.05, max_depth=6, min_child_weight=11, n_estimators=1000, nthread=4, objective=reg:linear, seed=1337, subsample=0.8 \n",
      "[CV]  colsample_bytree=0.7, learning_rate=0.05, max_depth=6, min_child_weight=11, n_estimators=500, nthread=4, objective=reg:linear, seed=1337, subsample=0.5, total=82.1min\n",
      "[CV] colsample_bytree=0.7, learning_rate=0.05, max_depth=6, min_child_weight=11, n_estimators=1000, nthread=4, objective=reg:linear, seed=1337, subsample=0.8 \n",
      "[CV]  colsample_bytree=0.7, learning_rate=0.05, max_depth=6, min_child_weight=11, n_estimators=500, nthread=4, objective=reg:linear, seed=1337, subsample=0.5, total=79.9min\n",
      "[CV] colsample_bytree=0.7, learning_rate=0.05, max_depth=6, min_child_weight=11, n_estimators=1000, nthread=4, objective=reg:linear, seed=1337, subsample=0.5 \n",
      "[CV]  colsample_bytree=0.7, learning_rate=0.05, max_depth=6, min_child_weight=11, n_estimators=500, nthread=4, objective=reg:linear, seed=1337, subsample=0.5, total=82.2min\n",
      "[CV] colsample_bytree=0.7, learning_rate=0.05, max_depth=6, min_child_weight=11, n_estimators=1000, nthread=4, objective=reg:linear, seed=1337, subsample=0.5 \n",
      "[CV]  colsample_bytree=0.7, learning_rate=0.05, max_depth=6, min_child_weight=11, n_estimators=1000, nthread=4, objective=reg:linear, seed=1337, subsample=0.8, total=155.5min\n",
      "[CV] colsample_bytree=0.7, learning_rate=0.05, max_depth=6, min_child_weight=11, n_estimators=1000, nthread=4, objective=reg:linear, seed=1337, subsample=0.5 \n",
      "[CV]  colsample_bytree=0.7, learning_rate=0.05, max_depth=6, min_child_weight=11, n_estimators=1000, nthread=4, objective=reg:linear, seed=1337, subsample=0.8, total=159.1min\n",
      "[CV] colsample_bytree=0.7, learning_rate=0.05, max_depth=6, min_child_weight=10, n_estimators=100, nthread=4, objective=reg:linear, seed=1337, subsample=0.8 \n",
      "[CV]  colsample_bytree=0.7, learning_rate=0.05, max_depth=6, min_child_weight=10, n_estimators=100, nthread=4, objective=reg:linear, seed=1337, subsample=0.8, total=16.8min\n",
      "[CV] colsample_bytree=0.7, learning_rate=0.05, max_depth=6, min_child_weight=10, n_estimators=100, nthread=4, objective=reg:linear, seed=1337, subsample=0.8 \n",
      "[CV]  colsample_bytree=0.7, learning_rate=0.05, max_depth=6, min_child_weight=10, n_estimators=100, nthread=4, objective=reg:linear, seed=1337, subsample=0.8, total=12.7min\n",
      "[CV] colsample_bytree=0.7, learning_rate=0.05, max_depth=6, min_child_weight=10, n_estimators=100, nthread=4, objective=reg:linear, seed=1337, subsample=0.8 \n",
      "[CV]  colsample_bytree=0.7, learning_rate=0.05, max_depth=6, min_child_weight=11, n_estimators=1000, nthread=4, objective=reg:linear, seed=1337, subsample=0.5, total=160.7min\n",
      "[CV] colsample_bytree=0.7, learning_rate=0.05, max_depth=6, min_child_weight=10, n_estimators=100, nthread=4, objective=reg:linear, seed=1337, subsample=0.5 \n",
      "[CV]  colsample_bytree=0.7, learning_rate=0.05, max_depth=6, min_child_weight=10, n_estimators=100, nthread=4, objective=reg:linear, seed=1337, subsample=0.8, total=12.7min\n",
      "[CV] colsample_bytree=0.7, learning_rate=0.05, max_depth=6, min_child_weight=10, n_estimators=100, nthread=4, objective=reg:linear, seed=1337, subsample=0.5 \n",
      "[CV]  colsample_bytree=0.7, learning_rate=0.05, max_depth=6, min_child_weight=10, n_estimators=100, nthread=4, objective=reg:linear, seed=1337, subsample=0.5, total=13.1min\n",
      "[CV] colsample_bytree=0.7, learning_rate=0.05, max_depth=6, min_child_weight=10, n_estimators=100, nthread=4, objective=reg:linear, seed=1337, subsample=0.5 \n"
     ]
    },
    {
     "name": "stdout",
     "output_type": "stream",
     "text": [
      "[CV]  colsample_bytree=0.7, learning_rate=0.05, max_depth=6, min_child_weight=10, n_estimators=100, nthread=4, objective=reg:linear, seed=1337, subsample=0.5, total=12.8min\n",
      "[CV] colsample_bytree=0.7, learning_rate=0.05, max_depth=6, min_child_weight=10, n_estimators=200, nthread=4, objective=reg:linear, seed=1337, subsample=0.8 \n",
      "[CV]  colsample_bytree=0.7, learning_rate=0.05, max_depth=6, min_child_weight=10, n_estimators=100, nthread=4, objective=reg:linear, seed=1337, subsample=0.5, total=13.1min\n",
      "[CV] colsample_bytree=0.7, learning_rate=0.05, max_depth=6, min_child_weight=10, n_estimators=200, nthread=4, objective=reg:linear, seed=1337, subsample=0.8 \n",
      "[CV]  colsample_bytree=0.7, learning_rate=0.05, max_depth=6, min_child_weight=11, n_estimators=1000, nthread=4, objective=reg:linear, seed=1337, subsample=0.5, total=145.7min\n",
      "[CV] colsample_bytree=0.7, learning_rate=0.05, max_depth=6, min_child_weight=10, n_estimators=200, nthread=4, objective=reg:linear, seed=1337, subsample=0.8 \n",
      "[CV]  colsample_bytree=0.7, learning_rate=0.05, max_depth=6, min_child_weight=10, n_estimators=200, nthread=4, objective=reg:linear, seed=1337, subsample=0.8, total=24.9min\n",
      "[CV] colsample_bytree=0.7, learning_rate=0.05, max_depth=6, min_child_weight=10, n_estimators=200, nthread=4, objective=reg:linear, seed=1337, subsample=0.5 \n",
      "[CV]  colsample_bytree=0.7, learning_rate=0.05, max_depth=6, min_child_weight=10, n_estimators=200, nthread=4, objective=reg:linear, seed=1337, subsample=0.8, total=24.1min\n",
      "[CV] colsample_bytree=0.7, learning_rate=0.05, max_depth=6, min_child_weight=10, n_estimators=200, nthread=4, objective=reg:linear, seed=1337, subsample=0.5 \n",
      "[CV]  colsample_bytree=0.7, learning_rate=0.05, max_depth=6, min_child_weight=10, n_estimators=200, nthread=4, objective=reg:linear, seed=1337, subsample=0.8, total=24.9min\n",
      "[CV] colsample_bytree=0.7, learning_rate=0.05, max_depth=6, min_child_weight=10, n_estimators=200, nthread=4, objective=reg:linear, seed=1337, subsample=0.5 \n",
      "[CV]  colsample_bytree=0.7, learning_rate=0.05, max_depth=6, min_child_weight=10, n_estimators=200, nthread=4, objective=reg:linear, seed=1337, subsample=0.5, total=25.7min\n",
      "[CV] colsample_bytree=0.7, learning_rate=0.05, max_depth=6, min_child_weight=10, n_estimators=500, nthread=4, objective=reg:linear, seed=1337, subsample=0.8 \n",
      "[CV]  colsample_bytree=0.7, learning_rate=0.05, max_depth=6, min_child_weight=10, n_estimators=200, nthread=4, objective=reg:linear, seed=1337, subsample=0.5, total=25.3min\n",
      "[CV] colsample_bytree=0.7, learning_rate=0.05, max_depth=6, min_child_weight=10, n_estimators=500, nthread=4, objective=reg:linear, seed=1337, subsample=0.8 \n",
      "[CV]  colsample_bytree=0.7, learning_rate=0.05, max_depth=6, min_child_weight=10, n_estimators=200, nthread=4, objective=reg:linear, seed=1337, subsample=0.5, total=25.8min\n",
      "[CV] colsample_bytree=0.7, learning_rate=0.05, max_depth=6, min_child_weight=10, n_estimators=500, nthread=4, objective=reg:linear, seed=1337, subsample=0.8 \n",
      "[CV]  colsample_bytree=0.7, learning_rate=0.05, max_depth=6, min_child_weight=11, n_estimators=1000, nthread=4, objective=reg:linear, seed=1337, subsample=0.5, total=132.3min\n",
      "[CV] colsample_bytree=0.7, learning_rate=0.05, max_depth=6, min_child_weight=10, n_estimators=500, nthread=4, objective=reg:linear, seed=1337, subsample=0.5 \n",
      "[CV]  colsample_bytree=0.7, learning_rate=0.05, max_depth=6, min_child_weight=10, n_estimators=500, nthread=4, objective=reg:linear, seed=1337, subsample=0.8, total=326.9min\n"
     ]
    },
    {
     "name": "stderr",
     "output_type": "stream",
     "text": [
      "[Parallel(n_jobs=5)]: Done  31 tasks      | elapsed: 714.4min\n"
     ]
    },
    {
     "name": "stdout",
     "output_type": "stream",
     "text": [
      "[CV] colsample_bytree=0.7, learning_rate=0.05, max_depth=6, min_child_weight=10, n_estimators=500, nthread=4, objective=reg:linear, seed=1337, subsample=0.5 \n",
      "[CV]  colsample_bytree=0.7, learning_rate=0.05, max_depth=6, min_child_weight=10, n_estimators=500, nthread=4, objective=reg:linear, seed=1337, subsample=0.8, total=325.0min\n",
      "[CV] colsample_bytree=0.7, learning_rate=0.05, max_depth=6, min_child_weight=10, n_estimators=500, nthread=4, objective=reg:linear, seed=1337, subsample=0.5 \n",
      "[CV]  colsample_bytree=0.7, learning_rate=0.05, max_depth=6, min_child_weight=10, n_estimators=500, nthread=4, objective=reg:linear, seed=1337, subsample=0.8, total=326.7min\n",
      "[CV] colsample_bytree=0.7, learning_rate=0.05, max_depth=6, min_child_weight=10, n_estimators=1000, nthread=4, objective=reg:linear, seed=1337, subsample=0.8 \n",
      "[CV]  colsample_bytree=0.7, learning_rate=0.05, max_depth=6, min_child_weight=10, n_estimators=500, nthread=4, objective=reg:linear, seed=1337, subsample=0.5, total=328.9min\n",
      "[CV] colsample_bytree=0.7, learning_rate=0.05, max_depth=6, min_child_weight=10, n_estimators=1000, nthread=4, objective=reg:linear, seed=1337, subsample=0.8 \n",
      "[CV]  colsample_bytree=0.7, learning_rate=0.05, max_depth=6, min_child_weight=10, n_estimators=500, nthread=4, objective=reg:linear, seed=1337, subsample=0.5, total=62.4min\n",
      "[CV] colsample_bytree=0.7, learning_rate=0.05, max_depth=6, min_child_weight=10, n_estimators=1000, nthread=4, objective=reg:linear, seed=1337, subsample=0.8 \n",
      "[CV]  colsample_bytree=0.7, learning_rate=0.05, max_depth=6, min_child_weight=10, n_estimators=500, nthread=4, objective=reg:linear, seed=1337, subsample=0.5, total=64.2min\n",
      "[CV] colsample_bytree=0.7, learning_rate=0.05, max_depth=6, min_child_weight=10, n_estimators=1000, nthread=4, objective=reg:linear, seed=1337, subsample=0.5 \n",
      "[CV]  colsample_bytree=0.7, learning_rate=0.05, max_depth=6, min_child_weight=10, n_estimators=1000, nthread=4, objective=reg:linear, seed=1337, subsample=0.8, total=124.6min\n",
      "[CV] colsample_bytree=0.7, learning_rate=0.05, max_depth=6, min_child_weight=10, n_estimators=1000, nthread=4, objective=reg:linear, seed=1337, subsample=0.5 \n",
      "[CV]  colsample_bytree=0.7, learning_rate=0.05, max_depth=6, min_child_weight=10, n_estimators=1000, nthread=4, objective=reg:linear, seed=1337, subsample=0.8, total=121.3min\n",
      "[CV] colsample_bytree=0.7, learning_rate=0.05, max_depth=6, min_child_weight=10, n_estimators=1000, nthread=4, objective=reg:linear, seed=1337, subsample=0.5 \n",
      "[CV]  colsample_bytree=0.7, learning_rate=0.05, max_depth=6, min_child_weight=10, n_estimators=1000, nthread=4, objective=reg:linear, seed=1337, subsample=0.8, total=124.5min\n",
      "[CV] colsample_bytree=0.7, learning_rate=0.05, max_depth=6, min_child_weight=20, n_estimators=100, nthread=4, objective=reg:linear, seed=1337, subsample=0.8 \n",
      "[CV]  colsample_bytree=0.7, learning_rate=0.05, max_depth=6, min_child_weight=10, n_estimators=1000, nthread=4, objective=reg:linear, seed=1337, subsample=0.5, total=128.9min\n",
      "[CV] colsample_bytree=0.7, learning_rate=0.05, max_depth=6, min_child_weight=20, n_estimators=100, nthread=4, objective=reg:linear, seed=1337, subsample=0.8 \n",
      "[CV]  colsample_bytree=0.7, learning_rate=0.05, max_depth=6, min_child_weight=20, n_estimators=100, nthread=4, objective=reg:linear, seed=1337, subsample=0.8, total=12.4min\n",
      "[CV] colsample_bytree=0.7, learning_rate=0.05, max_depth=6, min_child_weight=20, n_estimators=100, nthread=4, objective=reg:linear, seed=1337, subsample=0.8 \n",
      "[CV]  colsample_bytree=0.7, learning_rate=0.05, max_depth=6, min_child_weight=20, n_estimators=100, nthread=4, objective=reg:linear, seed=1337, subsample=0.8, total=12.3min\n",
      "[CV] colsample_bytree=0.7, learning_rate=0.05, max_depth=6, min_child_weight=20, n_estimators=100, nthread=4, objective=reg:linear, seed=1337, subsample=0.5 \n",
      "[CV]  colsample_bytree=0.7, learning_rate=0.05, max_depth=6, min_child_weight=20, n_estimators=100, nthread=4, objective=reg:linear, seed=1337, subsample=0.8, total=12.5min\n",
      "[CV] colsample_bytree=0.7, learning_rate=0.05, max_depth=6, min_child_weight=20, n_estimators=100, nthread=4, objective=reg:linear, seed=1337, subsample=0.5 \n",
      "[CV]  colsample_bytree=0.7, learning_rate=0.05, max_depth=6, min_child_weight=20, n_estimators=100, nthread=4, objective=reg:linear, seed=1337, subsample=0.5, total=13.2min\n",
      "[CV] colsample_bytree=0.7, learning_rate=0.05, max_depth=6, min_child_weight=20, n_estimators=100, nthread=4, objective=reg:linear, seed=1337, subsample=0.5 \n",
      "[CV]  colsample_bytree=0.7, learning_rate=0.05, max_depth=6, min_child_weight=20, n_estimators=100, nthread=4, objective=reg:linear, seed=1337, subsample=0.5, total=12.8min\n",
      "[CV] colsample_bytree=0.7, learning_rate=0.05, max_depth=6, min_child_weight=20, n_estimators=200, nthread=4, objective=reg:linear, seed=1337, subsample=0.8 \n",
      "[CV]  colsample_bytree=0.7, learning_rate=0.05, max_depth=6, min_child_weight=20, n_estimators=100, nthread=4, objective=reg:linear, seed=1337, subsample=0.5, total=13.0min\n",
      "[CV] colsample_bytree=0.7, learning_rate=0.05, max_depth=6, min_child_weight=20, n_estimators=200, nthread=4, objective=reg:linear, seed=1337, subsample=0.8 \n",
      "[CV]  colsample_bytree=0.7, learning_rate=0.05, max_depth=6, min_child_weight=20, n_estimators=200, nthread=4, objective=reg:linear, seed=1337, subsample=0.8, total=25.1min\n",
      "[CV] colsample_bytree=0.7, learning_rate=0.05, max_depth=6, min_child_weight=20, n_estimators=200, nthread=4, objective=reg:linear, seed=1337, subsample=0.8 \n",
      "[CV]  colsample_bytree=0.7, learning_rate=0.05, max_depth=6, min_child_weight=20, n_estimators=200, nthread=4, objective=reg:linear, seed=1337, subsample=0.8, total=24.2min\n",
      "[CV] colsample_bytree=0.7, learning_rate=0.05, max_depth=6, min_child_weight=20, n_estimators=200, nthread=4, objective=reg:linear, seed=1337, subsample=0.5 \n",
      "[CV]  colsample_bytree=0.7, learning_rate=0.05, max_depth=6, min_child_weight=20, n_estimators=200, nthread=4, objective=reg:linear, seed=1337, subsample=0.8, total=20.4min\n",
      "[CV] colsample_bytree=0.7, learning_rate=0.05, max_depth=6, min_child_weight=20, n_estimators=200, nthread=4, objective=reg:linear, seed=1337, subsample=0.5 \n",
      "[CV]  colsample_bytree=0.7, learning_rate=0.05, max_depth=6, min_child_weight=10, n_estimators=1000, nthread=4, objective=reg:linear, seed=1337, subsample=0.5, total=123.7min\n",
      "[CV] colsample_bytree=0.7, learning_rate=0.05, max_depth=6, min_child_weight=20, n_estimators=200, nthread=4, objective=reg:linear, seed=1337, subsample=0.5 \n",
      "[CV]  colsample_bytree=0.7, learning_rate=0.05, max_depth=6, min_child_weight=20, n_estimators=200, nthread=4, objective=reg:linear, seed=1337, subsample=0.5, total=18.7min\n",
      "[CV] colsample_bytree=0.7, learning_rate=0.05, max_depth=6, min_child_weight=20, n_estimators=500, nthread=4, objective=reg:linear, seed=1337, subsample=0.8 \n",
      "[CV]  colsample_bytree=0.7, learning_rate=0.05, max_depth=6, min_child_weight=20, n_estimators=200, nthread=4, objective=reg:linear, seed=1337, subsample=0.5, total=18.3min\n",
      "[CV] colsample_bytree=0.7, learning_rate=0.05, max_depth=6, min_child_weight=20, n_estimators=500, nthread=4, objective=reg:linear, seed=1337, subsample=0.8 \n",
      "[CV]  colsample_bytree=0.7, learning_rate=0.05, max_depth=6, min_child_weight=20, n_estimators=200, nthread=4, objective=reg:linear, seed=1337, subsample=0.5, total=18.7min\n",
      "[CV] colsample_bytree=0.7, learning_rate=0.05, max_depth=6, min_child_weight=20, n_estimators=500, nthread=4, objective=reg:linear, seed=1337, subsample=0.8 \n",
      "[CV]  colsample_bytree=0.7, learning_rate=0.05, max_depth=6, min_child_weight=20, n_estimators=500, nthread=4, objective=reg:linear, seed=1337, subsample=0.8, total=45.2min\n",
      "[CV] colsample_bytree=0.7, learning_rate=0.05, max_depth=6, min_child_weight=20, n_estimators=500, nthread=4, objective=reg:linear, seed=1337, subsample=0.5 \n",
      "[CV]  colsample_bytree=0.7, learning_rate=0.05, max_depth=6, min_child_weight=20, n_estimators=500, nthread=4, objective=reg:linear, seed=1337, subsample=0.8, total=44.0min\n",
      "[CV] colsample_bytree=0.7, learning_rate=0.05, max_depth=6, min_child_weight=20, n_estimators=500, nthread=4, objective=reg:linear, seed=1337, subsample=0.5 \n",
      "[CV]  colsample_bytree=0.7, learning_rate=0.05, max_depth=6, min_child_weight=20, n_estimators=500, nthread=4, objective=reg:linear, seed=1337, subsample=0.8, total=44.8min\n"
     ]
    },
    {
     "name": "stdout",
     "output_type": "stream",
     "text": [
      "[CV] colsample_bytree=0.7, learning_rate=0.05, max_depth=6, min_child_weight=20, n_estimators=500, nthread=4, objective=reg:linear, seed=1337, subsample=0.5 \n",
      "[CV]  colsample_bytree=0.7, learning_rate=0.05, max_depth=6, min_child_weight=20, n_estimators=500, nthread=4, objective=reg:linear, seed=1337, subsample=0.5, total=46.9min\n",
      "[CV] colsample_bytree=0.7, learning_rate=0.05, max_depth=6, min_child_weight=20, n_estimators=1000, nthread=4, objective=reg:linear, seed=1337, subsample=0.8 \n",
      "[CV]  colsample_bytree=0.7, learning_rate=0.05, max_depth=6, min_child_weight=20, n_estimators=500, nthread=4, objective=reg:linear, seed=1337, subsample=0.5, total=45.8min\n",
      "[CV] colsample_bytree=0.7, learning_rate=0.05, max_depth=6, min_child_weight=20, n_estimators=1000, nthread=4, objective=reg:linear, seed=1337, subsample=0.8 \n",
      "[CV]  colsample_bytree=0.7, learning_rate=0.05, max_depth=6, min_child_weight=20, n_estimators=500, nthread=4, objective=reg:linear, seed=1337, subsample=0.5, total=47.0min\n",
      "[CV] colsample_bytree=0.7, learning_rate=0.05, max_depth=6, min_child_weight=20, n_estimators=1000, nthread=4, objective=reg:linear, seed=1337, subsample=0.8 \n",
      "[CV]  colsample_bytree=0.7, learning_rate=0.05, max_depth=6, min_child_weight=20, n_estimators=1000, nthread=4, objective=reg:linear, seed=1337, subsample=0.8, total=90.4min\n",
      "[CV] colsample_bytree=0.7, learning_rate=0.05, max_depth=6, min_child_weight=20, n_estimators=1000, nthread=4, objective=reg:linear, seed=1337, subsample=0.5 \n",
      "[CV]  colsample_bytree=0.7, learning_rate=0.05, max_depth=6, min_child_weight=20, n_estimators=1000, nthread=4, objective=reg:linear, seed=1337, subsample=0.8, total=88.3min\n",
      "[CV] colsample_bytree=0.7, learning_rate=0.05, max_depth=6, min_child_weight=20, n_estimators=1000, nthread=4, objective=reg:linear, seed=1337, subsample=0.5 \n",
      "[CV]  colsample_bytree=0.7, learning_rate=0.05, max_depth=6, min_child_weight=20, n_estimators=1000, nthread=4, objective=reg:linear, seed=1337, subsample=0.8, total=90.2min\n",
      "[CV] colsample_bytree=0.7, learning_rate=0.05, max_depth=6, min_child_weight=20, n_estimators=1000, nthread=4, objective=reg:linear, seed=1337, subsample=0.5 \n",
      "[CV]  colsample_bytree=0.7, learning_rate=0.05, max_depth=6, min_child_weight=20, n_estimators=1000, nthread=4, objective=reg:linear, seed=1337, subsample=0.5, total=95.2min\n",
      "[CV] colsample_bytree=0.7, learning_rate=0.05, max_depth=10, min_child_weight=11, n_estimators=100, nthread=4, objective=reg:linear, seed=1337, subsample=0.8 \n",
      "[CV]  colsample_bytree=0.7, learning_rate=0.05, max_depth=6, min_child_weight=20, n_estimators=1000, nthread=4, objective=reg:linear, seed=1337, subsample=0.5, total=92.8min\n",
      "[CV] colsample_bytree=0.7, learning_rate=0.05, max_depth=10, min_child_weight=11, n_estimators=100, nthread=4, objective=reg:linear, seed=1337, subsample=0.8 \n",
      "[CV]  colsample_bytree=0.7, learning_rate=0.05, max_depth=6, min_child_weight=20, n_estimators=1000, nthread=4, objective=reg:linear, seed=1337, subsample=0.5, total=94.7min\n",
      "[CV] colsample_bytree=0.7, learning_rate=0.05, max_depth=10, min_child_weight=11, n_estimators=100, nthread=4, objective=reg:linear, seed=1337, subsample=0.8 \n",
      "[CV]  colsample_bytree=0.7, learning_rate=0.05, max_depth=10, min_child_weight=11, n_estimators=100, nthread=4, objective=reg:linear, seed=1337, subsample=0.8, total=16.5min\n",
      "[CV] colsample_bytree=0.7, learning_rate=0.05, max_depth=10, min_child_weight=11, n_estimators=100, nthread=4, objective=reg:linear, seed=1337, subsample=0.5 \n",
      "[CV]  colsample_bytree=0.7, learning_rate=0.05, max_depth=10, min_child_weight=11, n_estimators=100, nthread=4, objective=reg:linear, seed=1337, subsample=0.8, total=16.0min\n",
      "[CV] colsample_bytree=0.7, learning_rate=0.05, max_depth=10, min_child_weight=11, n_estimators=100, nthread=4, objective=reg:linear, seed=1337, subsample=0.5 \n",
      "[CV]  colsample_bytree=0.7, learning_rate=0.05, max_depth=10, min_child_weight=11, n_estimators=100, nthread=4, objective=reg:linear, seed=1337, subsample=0.8, total=16.4min\n",
      "[CV] colsample_bytree=0.7, learning_rate=0.05, max_depth=10, min_child_weight=11, n_estimators=100, nthread=4, objective=reg:linear, seed=1337, subsample=0.5 \n",
      "[CV]  colsample_bytree=0.7, learning_rate=0.05, max_depth=10, min_child_weight=11, n_estimators=100, nthread=4, objective=reg:linear, seed=1337, subsample=0.5, total=16.8min\n",
      "[CV] colsample_bytree=0.7, learning_rate=0.05, max_depth=10, min_child_weight=11, n_estimators=200, nthread=4, objective=reg:linear, seed=1337, subsample=0.8 \n",
      "[CV]  colsample_bytree=0.7, learning_rate=0.05, max_depth=10, min_child_weight=11, n_estimators=100, nthread=4, objective=reg:linear, seed=1337, subsample=0.5, total=16.6min\n",
      "[CV] colsample_bytree=0.7, learning_rate=0.05, max_depth=10, min_child_weight=11, n_estimators=200, nthread=4, objective=reg:linear, seed=1337, subsample=0.8 \n",
      "[CV]  colsample_bytree=0.7, learning_rate=0.05, max_depth=10, min_child_weight=11, n_estimators=100, nthread=4, objective=reg:linear, seed=1337, subsample=0.5, total=16.8min\n",
      "[CV] colsample_bytree=0.7, learning_rate=0.05, max_depth=10, min_child_weight=11, n_estimators=200, nthread=4, objective=reg:linear, seed=1337, subsample=0.8 \n"
     ]
    },
    {
     "name": "stderr",
     "output_type": "stream",
     "text": [
      "Exception in thread Thread-11:\n",
      "Traceback (most recent call last):\n",
      "  File \"/home/shrishty/.conda/envs/tf/lib/python3.6/threading.py\", line 916, in _bootstrap_inner\n",
      "    self.run()\n",
      "  File \"/home/shrishty/.conda/envs/tf/lib/python3.6/threading.py\", line 864, in run\n",
      "    self._target(*self._args, **self._kwargs)\n",
      "  File \"/home/shrishty/.conda/envs/tf/lib/python3.6/multiprocessing/pool.py\", line 405, in _handle_workers\n",
      "    pool._maintain_pool()\n",
      "  File \"/home/shrishty/.conda/envs/tf/lib/python3.6/multiprocessing/pool.py\", line 246, in _maintain_pool\n",
      "    self._repopulate_pool()\n",
      "  File \"/home/shrishty/.conda/envs/tf/lib/python3.6/multiprocessing/pool.py\", line 239, in _repopulate_pool\n",
      "    w.start()\n",
      "  File \"/home/shrishty/.conda/envs/tf/lib/python3.6/multiprocessing/process.py\", line 105, in start\n",
      "    self._popen = self._Popen(self)\n",
      "  File \"/home/shrishty/.conda/envs/tf/lib/python3.6/multiprocessing/context.py\", line 277, in _Popen\n",
      "    return Popen(process_obj)\n",
      "  File \"/home/shrishty/.conda/envs/tf/lib/python3.6/multiprocessing/popen_fork.py\", line 26, in __init__\n",
      "    self._launch(process_obj)\n",
      "  File \"/home/shrishty/.conda/envs/tf/lib/python3.6/multiprocessing/popen_fork.py\", line 73, in _launch\n",
      "    self.pid = os.fork()\n",
      "OSError: [Errno 12] Cannot allocate memory\n",
      "\n"
     ]
    },
    {
     "name": "stdout",
     "output_type": "stream",
     "text": [
      "[CV]  colsample_bytree=0.7, learning_rate=0.05, max_depth=10, min_child_weight=11, n_estimators=200, nthread=4, objective=reg:linear, seed=1337, subsample=0.8, total=31.2min\n",
      "[CV] colsample_bytree=0.7, learning_rate=0.05, max_depth=10, min_child_weight=11, n_estimators=200, nthread=4, objective=reg:linear, seed=1337, subsample=0.5 \n",
      "[CV]  colsample_bytree=0.7, learning_rate=0.05, max_depth=10, min_child_weight=11, n_estimators=200, nthread=4, objective=reg:linear, seed=1337, subsample=0.8, total=31.9min\n",
      "[CV] colsample_bytree=0.7, learning_rate=0.05, max_depth=10, min_child_weight=11, n_estimators=200, nthread=4, objective=reg:linear, seed=1337, subsample=0.5 \n",
      "[CV]  colsample_bytree=0.7, learning_rate=0.05, max_depth=10, min_child_weight=11, n_estimators=200, nthread=4, objective=reg:linear, seed=1337, subsample=0.5, total=28.2min\n",
      "[CV] colsample_bytree=0.7, learning_rate=0.05, max_depth=10, min_child_weight=11, n_estimators=200, nthread=4, objective=reg:linear, seed=1337, subsample=0.5 \n",
      "[CV]  colsample_bytree=0.7, learning_rate=0.05, max_depth=10, min_child_weight=11, n_estimators=200, nthread=4, objective=reg:linear, seed=1337, subsample=0.5, total=27.0min\n",
      "[CV] colsample_bytree=0.7, learning_rate=0.05, max_depth=10, min_child_weight=11, n_estimators=500, nthread=4, objective=reg:linear, seed=1337, subsample=0.8 \n",
      "[CV]  colsample_bytree=0.7, learning_rate=0.05, max_depth=10, min_child_weight=11, n_estimators=200, nthread=4, objective=reg:linear, seed=1337, subsample=0.5, total=28.2min\n",
      "[CV] colsample_bytree=0.7, learning_rate=0.05, max_depth=10, min_child_weight=11, n_estimators=500, nthread=4, objective=reg:linear, seed=1337, subsample=0.8 \n",
      "[CV]  colsample_bytree=0.7, learning_rate=0.05, max_depth=10, min_child_weight=11, n_estimators=500, nthread=4, objective=reg:linear, seed=1337, subsample=0.8, total=60.9min\n",
      "[CV] colsample_bytree=0.7, learning_rate=0.05, max_depth=10, min_child_weight=11, n_estimators=500, nthread=4, objective=reg:linear, seed=1337, subsample=0.8 \n",
      "[CV]  colsample_bytree=0.7, learning_rate=0.05, max_depth=10, min_child_weight=11, n_estimators=500, nthread=4, objective=reg:linear, seed=1337, subsample=0.8, total=54.2min\n",
      "[CV] colsample_bytree=0.7, learning_rate=0.05, max_depth=10, min_child_weight=11, n_estimators=500, nthread=4, objective=reg:linear, seed=1337, subsample=0.5 \n",
      "[CV]  colsample_bytree=0.7, learning_rate=0.05, max_depth=10, min_child_weight=11, n_estimators=500, nthread=4, objective=reg:linear, seed=1337, subsample=0.8, total=51.3min\n",
      "[CV] colsample_bytree=0.7, learning_rate=0.05, max_depth=10, min_child_weight=11, n_estimators=500, nthread=4, objective=reg:linear, seed=1337, subsample=0.5 \n",
      "[CV]  colsample_bytree=0.7, learning_rate=0.05, max_depth=10, min_child_weight=11, n_estimators=500, nthread=4, objective=reg:linear, seed=1337, subsample=0.5, total=53.2min\n",
      "[CV] colsample_bytree=0.7, learning_rate=0.05, max_depth=10, min_child_weight=11, n_estimators=500, nthread=4, objective=reg:linear, seed=1337, subsample=0.5 \n",
      "[CV]  colsample_bytree=0.7, learning_rate=0.05, max_depth=10, min_child_weight=11, n_estimators=500, nthread=4, objective=reg:linear, seed=1337, subsample=0.5, total=1335.9min\n",
      "[CV] colsample_bytree=0.7, learning_rate=0.05, max_depth=10, min_child_weight=11, n_estimators=1000, nthread=4, objective=reg:linear, seed=1337, subsample=0.8 \n",
      "[CV]  colsample_bytree=0.7, learning_rate=0.05, max_depth=10, min_child_weight=11, n_estimators=500, nthread=4, objective=reg:linear, seed=1337, subsample=0.5, total=1338.8min\n",
      "[CV] colsample_bytree=0.7, learning_rate=0.05, max_depth=10, min_child_weight=11, n_estimators=1000, nthread=4, objective=reg:linear, seed=1337, subsample=0.8 \n",
      "[CV]  colsample_bytree=0.7, learning_rate=0.05, max_depth=10, min_child_weight=11, n_estimators=1000, nthread=4, objective=reg:linear, seed=1337, subsample=0.8, total=110.8min\n",
      "[CV] colsample_bytree=0.7, learning_rate=0.05, max_depth=10, min_child_weight=11, n_estimators=1000, nthread=4, objective=reg:linear, seed=1337, subsample=0.8 \n",
      "[CV]  colsample_bytree=0.7, learning_rate=0.05, max_depth=10, min_child_weight=11, n_estimators=1000, nthread=4, objective=reg:linear, seed=1337, subsample=0.8, total=1419.0min\n",
      "[CV] colsample_bytree=0.7, learning_rate=0.05, max_depth=10, min_child_weight=11, n_estimators=1000, nthread=4, objective=reg:linear, seed=1337, subsample=0.5 \n",
      "[CV]  colsample_bytree=0.7, learning_rate=0.05, max_depth=10, min_child_weight=11, n_estimators=1000, nthread=4, objective=reg:linear, seed=1337, subsample=0.8, total=1415.1min\n",
      "[CV] colsample_bytree=0.7, learning_rate=0.05, max_depth=10, min_child_weight=11, n_estimators=1000, nthread=4, objective=reg:linear, seed=1337, subsample=0.5 \n",
      "[CV]  colsample_bytree=0.7, learning_rate=0.05, max_depth=10, min_child_weight=11, n_estimators=1000, nthread=4, objective=reg:linear, seed=1337, subsample=0.5, total=106.7min\n",
      "[CV] colsample_bytree=0.7, learning_rate=0.05, max_depth=10, min_child_weight=11, n_estimators=1000, nthread=4, objective=reg:linear, seed=1337, subsample=0.5 \n",
      "[CV]  colsample_bytree=0.7, learning_rate=0.05, max_depth=10, min_child_weight=11, n_estimators=1000, nthread=4, objective=reg:linear, seed=1337, subsample=0.5, total=104.7min\n",
      "[CV] colsample_bytree=0.7, learning_rate=0.05, max_depth=10, min_child_weight=10, n_estimators=100, nthread=4, objective=reg:linear, seed=1337, subsample=0.8 \n",
      "[CV]  colsample_bytree=0.7, learning_rate=0.05, max_depth=10, min_child_weight=10, n_estimators=100, nthread=4, objective=reg:linear, seed=1337, subsample=0.8, total=10.3min\n",
      "[CV] colsample_bytree=0.7, learning_rate=0.05, max_depth=10, min_child_weight=10, n_estimators=100, nthread=4, objective=reg:linear, seed=1337, subsample=0.8 \n",
      "[CV]  colsample_bytree=0.7, learning_rate=0.05, max_depth=10, min_child_weight=10, n_estimators=100, nthread=4, objective=reg:linear, seed=1337, subsample=0.8, total=10.7min\n",
      "[CV] colsample_bytree=0.7, learning_rate=0.05, max_depth=10, min_child_weight=10, n_estimators=100, nthread=4, objective=reg:linear, seed=1337, subsample=0.8 \n",
      "[CV]  colsample_bytree=0.7, learning_rate=0.05, max_depth=10, min_child_weight=11, n_estimators=1000, nthread=4, objective=reg:linear, seed=1337, subsample=0.5, total=106.3min\n",
      "[CV] colsample_bytree=0.7, learning_rate=0.05, max_depth=10, min_child_weight=10, n_estimators=100, nthread=4, objective=reg:linear, seed=1337, subsample=0.5 \n",
      "[CV]  colsample_bytree=0.7, learning_rate=0.05, max_depth=10, min_child_weight=10, n_estimators=100, nthread=4, objective=reg:linear, seed=1337, subsample=0.8, total=10.2min\n",
      "[CV] colsample_bytree=0.7, learning_rate=0.05, max_depth=10, min_child_weight=10, n_estimators=100, nthread=4, objective=reg:linear, seed=1337, subsample=0.5 \n",
      "[CV]  colsample_bytree=0.7, learning_rate=0.05, max_depth=10, min_child_weight=10, n_estimators=100, nthread=4, objective=reg:linear, seed=1337, subsample=0.5, total=10.4min\n",
      "[CV] colsample_bytree=0.7, learning_rate=0.05, max_depth=10, min_child_weight=10, n_estimators=100, nthread=4, objective=reg:linear, seed=1337, subsample=0.5 \n",
      "[CV]  colsample_bytree=0.7, learning_rate=0.05, max_depth=10, min_child_weight=10, n_estimators=100, nthread=4, objective=reg:linear, seed=1337, subsample=0.5, total=10.3min\n",
      "[CV] colsample_bytree=0.7, learning_rate=0.05, max_depth=10, min_child_weight=10, n_estimators=200, nthread=4, objective=reg:linear, seed=1337, subsample=0.8 \n",
      "[CV]  colsample_bytree=0.7, learning_rate=0.05, max_depth=10, min_child_weight=10, n_estimators=100, nthread=4, objective=reg:linear, seed=1337, subsample=0.5, total=10.4min\n",
      "[CV] colsample_bytree=0.7, learning_rate=0.05, max_depth=10, min_child_weight=10, n_estimators=200, nthread=4, objective=reg:linear, seed=1337, subsample=0.8 \n",
      "[CV]  colsample_bytree=0.7, learning_rate=0.05, max_depth=10, min_child_weight=10, n_estimators=200, nthread=4, objective=reg:linear, seed=1337, subsample=0.8, total=19.9min\n",
      "[CV] colsample_bytree=0.7, learning_rate=0.05, max_depth=10, min_child_weight=10, n_estimators=200, nthread=4, objective=reg:linear, seed=1337, subsample=0.8 \n",
      "[CV]  colsample_bytree=0.7, learning_rate=0.05, max_depth=10, min_child_weight=10, n_estimators=200, nthread=4, objective=reg:linear, seed=1337, subsample=0.8, total=19.6min\n",
      "[CV] colsample_bytree=0.7, learning_rate=0.05, max_depth=10, min_child_weight=10, n_estimators=200, nthread=4, objective=reg:linear, seed=1337, subsample=0.5 \n"
     ]
    },
    {
     "name": "stdout",
     "output_type": "stream",
     "text": [
      "[CV]  colsample_bytree=0.7, learning_rate=0.05, max_depth=10, min_child_weight=10, n_estimators=200, nthread=4, objective=reg:linear, seed=1337, subsample=0.8, total=22.2min\n",
      "[CV] colsample_bytree=0.7, learning_rate=0.05, max_depth=10, min_child_weight=10, n_estimators=200, nthread=4, objective=reg:linear, seed=1337, subsample=0.5 \n",
      "[CV]  colsample_bytree=0.7, learning_rate=0.05, max_depth=10, min_child_weight=10, n_estimators=200, nthread=4, objective=reg:linear, seed=1337, subsample=0.5, total=22.9min\n",
      "[CV] colsample_bytree=0.7, learning_rate=0.05, max_depth=10, min_child_weight=10, n_estimators=200, nthread=4, objective=reg:linear, seed=1337, subsample=0.5 \n",
      "[CV]  colsample_bytree=0.7, learning_rate=0.05, max_depth=10, min_child_weight=10, n_estimators=200, nthread=4, objective=reg:linear, seed=1337, subsample=0.5, total=24.2min\n",
      "[CV] colsample_bytree=0.7, learning_rate=0.05, max_depth=10, min_child_weight=10, n_estimators=500, nthread=4, objective=reg:linear, seed=1337, subsample=0.8 \n",
      "[CV]  colsample_bytree=0.7, learning_rate=0.05, max_depth=10, min_child_weight=10, n_estimators=200, nthread=4, objective=reg:linear, seed=1337, subsample=0.5, total=24.4min\n",
      "[CV] colsample_bytree=0.7, learning_rate=0.05, max_depth=10, min_child_weight=10, n_estimators=500, nthread=4, objective=reg:linear, seed=1337, subsample=0.8 \n",
      "[CV]  colsample_bytree=0.7, learning_rate=0.05, max_depth=10, min_child_weight=10, n_estimators=500, nthread=4, objective=reg:linear, seed=1337, subsample=0.8, total=55.0min\n",
      "[CV] colsample_bytree=0.7, learning_rate=0.05, max_depth=10, min_child_weight=10, n_estimators=500, nthread=4, objective=reg:linear, seed=1337, subsample=0.8 \n",
      "[CV]  colsample_bytree=0.7, learning_rate=0.05, max_depth=10, min_child_weight=10, n_estimators=500, nthread=4, objective=reg:linear, seed=1337, subsample=0.8, total=55.9min\n",
      "[CV] colsample_bytree=0.7, learning_rate=0.05, max_depth=10, min_child_weight=10, n_estimators=500, nthread=4, objective=reg:linear, seed=1337, subsample=0.5 \n",
      "[CV]  colsample_bytree=0.7, learning_rate=0.05, max_depth=10, min_child_weight=10, n_estimators=500, nthread=4, objective=reg:linear, seed=1337, subsample=0.8, total=56.3min\n",
      "[CV] colsample_bytree=0.7, learning_rate=0.05, max_depth=10, min_child_weight=10, n_estimators=500, nthread=4, objective=reg:linear, seed=1337, subsample=0.5 \n",
      "[CV]  colsample_bytree=0.7, learning_rate=0.05, max_depth=10, min_child_weight=10, n_estimators=500, nthread=4, objective=reg:linear, seed=1337, subsample=0.5, total=58.1min\n",
      "[CV] colsample_bytree=0.7, learning_rate=0.05, max_depth=10, min_child_weight=10, n_estimators=500, nthread=4, objective=reg:linear, seed=1337, subsample=0.5 \n",
      "[CV]  colsample_bytree=0.7, learning_rate=0.05, max_depth=10, min_child_weight=10, n_estimators=500, nthread=4, objective=reg:linear, seed=1337, subsample=0.5, total=57.3min\n",
      "[CV] colsample_bytree=0.7, learning_rate=0.05, max_depth=10, min_child_weight=10, n_estimators=1000, nthread=4, objective=reg:linear, seed=1337, subsample=0.8 \n",
      "[CV]  colsample_bytree=0.7, learning_rate=0.05, max_depth=10, min_child_weight=10, n_estimators=500, nthread=4, objective=reg:linear, seed=1337, subsample=0.5, total=58.1min\n",
      "[CV] colsample_bytree=0.7, learning_rate=0.05, max_depth=10, min_child_weight=10, n_estimators=1000, nthread=4, objective=reg:linear, seed=1337, subsample=0.8 \n",
      "[CV]  colsample_bytree=0.7, learning_rate=0.05, max_depth=10, min_child_weight=10, n_estimators=1000, nthread=4, objective=reg:linear, seed=1337, subsample=0.8, total=100.9min\n",
      "[CV] colsample_bytree=0.7, learning_rate=0.05, max_depth=10, min_child_weight=10, n_estimators=1000, nthread=4, objective=reg:linear, seed=1337, subsample=0.8 \n",
      "[CV]  colsample_bytree=0.7, learning_rate=0.05, max_depth=10, min_child_weight=10, n_estimators=1000, nthread=4, objective=reg:linear, seed=1337, subsample=0.8, total=99.4min\n",
      "[CV] colsample_bytree=0.7, learning_rate=0.05, max_depth=10, min_child_weight=10, n_estimators=1000, nthread=4, objective=reg:linear, seed=1337, subsample=0.5 \n",
      "[CV]  colsample_bytree=0.7, learning_rate=0.05, max_depth=10, min_child_weight=10, n_estimators=1000, nthread=4, objective=reg:linear, seed=1337, subsample=0.8, total=102.2min\n",
      "[CV] colsample_bytree=0.7, learning_rate=0.05, max_depth=10, min_child_weight=10, n_estimators=1000, nthread=4, objective=reg:linear, seed=1337, subsample=0.5 \n",
      "[CV]  colsample_bytree=0.7, learning_rate=0.05, max_depth=10, min_child_weight=10, n_estimators=1000, nthread=4, objective=reg:linear, seed=1337, subsample=0.5, total=106.6min\n",
      "[CV] colsample_bytree=0.7, learning_rate=0.05, max_depth=10, min_child_weight=10, n_estimators=1000, nthread=4, objective=reg:linear, seed=1337, subsample=0.5 \n",
      "[CV]  colsample_bytree=0.7, learning_rate=0.05, max_depth=10, min_child_weight=10, n_estimators=1000, nthread=4, objective=reg:linear, seed=1337, subsample=0.5, total=105.1min\n",
      "[CV] colsample_bytree=0.7, learning_rate=0.05, max_depth=10, min_child_weight=20, n_estimators=100, nthread=4, objective=reg:linear, seed=1337, subsample=0.8 \n",
      "[CV]  colsample_bytree=0.7, learning_rate=0.05, max_depth=10, min_child_weight=10, n_estimators=1000, nthread=4, objective=reg:linear, seed=1337, subsample=0.5, total=106.9min\n",
      "[CV] colsample_bytree=0.7, learning_rate=0.05, max_depth=10, min_child_weight=20, n_estimators=100, nthread=4, objective=reg:linear, seed=1337, subsample=0.8 \n",
      "[CV]  colsample_bytree=0.7, learning_rate=0.05, max_depth=10, min_child_weight=20, n_estimators=100, nthread=4, objective=reg:linear, seed=1337, subsample=0.8, total=10.8min\n",
      "[CV] colsample_bytree=0.7, learning_rate=0.05, max_depth=10, min_child_weight=20, n_estimators=100, nthread=4, objective=reg:linear, seed=1337, subsample=0.8 \n",
      "[CV]  colsample_bytree=0.7, learning_rate=0.05, max_depth=10, min_child_weight=20, n_estimators=100, nthread=4, objective=reg:linear, seed=1337, subsample=0.8, total=10.0min\n",
      "[CV] colsample_bytree=0.7, learning_rate=0.05, max_depth=10, min_child_weight=20, n_estimators=100, nthread=4, objective=reg:linear, seed=1337, subsample=0.5 \n",
      "[CV]  colsample_bytree=0.7, learning_rate=0.05, max_depth=10, min_child_weight=20, n_estimators=100, nthread=4, objective=reg:linear, seed=1337, subsample=0.8, total=10.3min\n",
      "[CV] colsample_bytree=0.7, learning_rate=0.05, max_depth=10, min_child_weight=20, n_estimators=100, nthread=4, objective=reg:linear, seed=1337, subsample=0.5 \n",
      "[CV]  colsample_bytree=0.7, learning_rate=0.05, max_depth=10, min_child_weight=20, n_estimators=100, nthread=4, objective=reg:linear, seed=1337, subsample=0.5, total=10.5min\n",
      "[CV] colsample_bytree=0.7, learning_rate=0.05, max_depth=10, min_child_weight=20, n_estimators=100, nthread=4, objective=reg:linear, seed=1337, subsample=0.5 \n",
      "[CV]  colsample_bytree=0.7, learning_rate=0.05, max_depth=10, min_child_weight=20, n_estimators=100, nthread=4, objective=reg:linear, seed=1337, subsample=0.5, total=10.2min\n",
      "[CV] colsample_bytree=0.7, learning_rate=0.05, max_depth=10, min_child_weight=20, n_estimators=200, nthread=4, objective=reg:linear, seed=1337, subsample=0.8 \n",
      "[CV]  colsample_bytree=0.7, learning_rate=0.05, max_depth=10, min_child_weight=20, n_estimators=100, nthread=4, objective=reg:linear, seed=1337, subsample=0.5, total=10.4min\n",
      "[CV] colsample_bytree=0.7, learning_rate=0.05, max_depth=10, min_child_weight=20, n_estimators=200, nthread=4, objective=reg:linear, seed=1337, subsample=0.8 \n",
      "[CV]  colsample_bytree=0.7, learning_rate=0.05, max_depth=10, min_child_weight=20, n_estimators=200, nthread=4, objective=reg:linear, seed=1337, subsample=0.8, total=20.0min\n",
      "[CV] colsample_bytree=0.7, learning_rate=0.05, max_depth=10, min_child_weight=20, n_estimators=200, nthread=4, objective=reg:linear, seed=1337, subsample=0.8 \n",
      "[CV]  colsample_bytree=0.7, learning_rate=0.05, max_depth=10, min_child_weight=20, n_estimators=200, nthread=4, objective=reg:linear, seed=1337, subsample=0.8, total=19.6min\n",
      "[CV] colsample_bytree=0.7, learning_rate=0.05, max_depth=10, min_child_weight=20, n_estimators=200, nthread=4, objective=reg:linear, seed=1337, subsample=0.5 \n",
      "[CV]  colsample_bytree=0.7, learning_rate=0.05, max_depth=10, min_child_weight=20, n_estimators=200, nthread=4, objective=reg:linear, seed=1337, subsample=0.8, total=20.0min\n",
      "[CV] colsample_bytree=0.7, learning_rate=0.05, max_depth=10, min_child_weight=20, n_estimators=200, nthread=4, objective=reg:linear, seed=1337, subsample=0.5 \n"
     ]
    },
    {
     "name": "stdout",
     "output_type": "stream",
     "text": [
      "[CV]  colsample_bytree=0.7, learning_rate=0.05, max_depth=10, min_child_weight=20, n_estimators=200, nthread=4, objective=reg:linear, seed=1337, subsample=0.5, total=20.6min\n",
      "[CV] colsample_bytree=0.7, learning_rate=0.05, max_depth=10, min_child_weight=20, n_estimators=200, nthread=4, objective=reg:linear, seed=1337, subsample=0.5 \n",
      "[CV]  colsample_bytree=0.7, learning_rate=0.05, max_depth=10, min_child_weight=20, n_estimators=200, nthread=4, objective=reg:linear, seed=1337, subsample=0.5, total=20.4min\n",
      "[CV] colsample_bytree=0.7, learning_rate=0.05, max_depth=10, min_child_weight=20, n_estimators=500, nthread=4, objective=reg:linear, seed=1337, subsample=0.8 \n",
      "[CV]  colsample_bytree=0.7, learning_rate=0.05, max_depth=10, min_child_weight=20, n_estimators=200, nthread=4, objective=reg:linear, seed=1337, subsample=0.5, total=20.7min\n",
      "[CV] colsample_bytree=0.7, learning_rate=0.05, max_depth=10, min_child_weight=20, n_estimators=500, nthread=4, objective=reg:linear, seed=1337, subsample=0.8 \n",
      "[CV]  colsample_bytree=0.7, learning_rate=0.05, max_depth=10, min_child_weight=20, n_estimators=500, nthread=4, objective=reg:linear, seed=1337, subsample=0.8, total=50.4min\n",
      "[CV] colsample_bytree=0.7, learning_rate=0.05, max_depth=10, min_child_weight=20, n_estimators=500, nthread=4, objective=reg:linear, seed=1337, subsample=0.8 \n",
      "[CV]  colsample_bytree=0.7, learning_rate=0.05, max_depth=10, min_child_weight=20, n_estimators=500, nthread=4, objective=reg:linear, seed=1337, subsample=0.8, total=49.2min\n",
      "[CV] colsample_bytree=0.7, learning_rate=0.05, max_depth=10, min_child_weight=20, n_estimators=500, nthread=4, objective=reg:linear, seed=1337, subsample=0.5 \n",
      "[CV]  colsample_bytree=0.7, learning_rate=0.05, max_depth=10, min_child_weight=20, n_estimators=500, nthread=4, objective=reg:linear, seed=1337, subsample=0.8, total=50.5min\n",
      "[CV] colsample_bytree=0.7, learning_rate=0.05, max_depth=10, min_child_weight=20, n_estimators=500, nthread=4, objective=reg:linear, seed=1337, subsample=0.5 \n",
      "[CV]  colsample_bytree=0.7, learning_rate=0.05, max_depth=10, min_child_weight=20, n_estimators=500, nthread=4, objective=reg:linear, seed=1337, subsample=0.5, total=52.0min\n",
      "[CV] colsample_bytree=0.7, learning_rate=0.05, max_depth=10, min_child_weight=20, n_estimators=500, nthread=4, objective=reg:linear, seed=1337, subsample=0.5 \n",
      "[CV]  colsample_bytree=0.7, learning_rate=0.05, max_depth=10, min_child_weight=20, n_estimators=500, nthread=4, objective=reg:linear, seed=1337, subsample=0.5, total=51.0min\n",
      "[CV] colsample_bytree=0.7, learning_rate=0.05, max_depth=10, min_child_weight=20, n_estimators=1000, nthread=4, objective=reg:linear, seed=1337, subsample=0.8 \n",
      "[CV]  colsample_bytree=0.7, learning_rate=0.05, max_depth=10, min_child_weight=20, n_estimators=500, nthread=4, objective=reg:linear, seed=1337, subsample=0.5, total=52.4min\n",
      "[CV] colsample_bytree=0.7, learning_rate=0.05, max_depth=10, min_child_weight=20, n_estimators=1000, nthread=4, objective=reg:linear, seed=1337, subsample=0.8 \n",
      "[CV]  colsample_bytree=0.7, learning_rate=0.05, max_depth=10, min_child_weight=20, n_estimators=1000, nthread=4, objective=reg:linear, seed=1337, subsample=0.8, total=100.6min\n",
      "[CV] colsample_bytree=0.7, learning_rate=0.05, max_depth=10, min_child_weight=20, n_estimators=1000, nthread=4, objective=reg:linear, seed=1337, subsample=0.8 \n",
      "[CV]  colsample_bytree=0.7, learning_rate=0.05, max_depth=10, min_child_weight=20, n_estimators=1000, nthread=4, objective=reg:linear, seed=1337, subsample=0.8, total=98.8min\n",
      "[CV] colsample_bytree=0.7, learning_rate=0.05, max_depth=10, min_child_weight=20, n_estimators=1000, nthread=4, objective=reg:linear, seed=1337, subsample=0.5 \n",
      "[CV]  colsample_bytree=0.7, learning_rate=0.05, max_depth=10, min_child_weight=20, n_estimators=1000, nthread=4, objective=reg:linear, seed=1337, subsample=0.8, total=102.7min\n",
      "[CV] colsample_bytree=0.7, learning_rate=0.05, max_depth=10, min_child_weight=20, n_estimators=1000, nthread=4, objective=reg:linear, seed=1337, subsample=0.5 \n",
      "[CV]  colsample_bytree=0.7, learning_rate=0.05, max_depth=10, min_child_weight=20, n_estimators=1000, nthread=4, objective=reg:linear, seed=1337, subsample=0.5, total=106.6min\n",
      "[CV] colsample_bytree=0.7, learning_rate=0.05, max_depth=10, min_child_weight=20, n_estimators=1000, nthread=4, objective=reg:linear, seed=1337, subsample=0.5 \n",
      "[CV]  colsample_bytree=0.7, learning_rate=0.05, max_depth=10, min_child_weight=20, n_estimators=1000, nthread=4, objective=reg:linear, seed=1337, subsample=0.5, total=104.8min\n",
      "[CV] colsample_bytree=0.7, learning_rate=0.05, max_depth=15, min_child_weight=11, n_estimators=100, nthread=4, objective=reg:linear, seed=1337, subsample=0.8 \n",
      "[CV]  colsample_bytree=0.7, learning_rate=0.05, max_depth=10, min_child_weight=20, n_estimators=1000, nthread=4, objective=reg:linear, seed=1337, subsample=0.5, total=106.2min\n",
      "[CV] colsample_bytree=0.7, learning_rate=0.05, max_depth=15, min_child_weight=11, n_estimators=100, nthread=4, objective=reg:linear, seed=1337, subsample=0.8 \n",
      "[CV]  colsample_bytree=0.7, learning_rate=0.05, max_depth=15, min_child_weight=11, n_estimators=100, nthread=4, objective=reg:linear, seed=1337, subsample=0.8, total=17.4min\n",
      "[CV] colsample_bytree=0.7, learning_rate=0.05, max_depth=15, min_child_weight=11, n_estimators=100, nthread=4, objective=reg:linear, seed=1337, subsample=0.8 \n",
      "[CV]  colsample_bytree=0.7, learning_rate=0.05, max_depth=15, min_child_weight=11, n_estimators=100, nthread=4, objective=reg:linear, seed=1337, subsample=0.8, total=15.9min\n",
      "[CV] colsample_bytree=0.7, learning_rate=0.05, max_depth=15, min_child_weight=11, n_estimators=100, nthread=4, objective=reg:linear, seed=1337, subsample=0.5 \n",
      "[CV]  colsample_bytree=0.7, learning_rate=0.05, max_depth=15, min_child_weight=11, n_estimators=100, nthread=4, objective=reg:linear, seed=1337, subsample=0.8, total=16.3min\n",
      "[CV] colsample_bytree=0.7, learning_rate=0.05, max_depth=15, min_child_weight=11, n_estimators=100, nthread=4, objective=reg:linear, seed=1337, subsample=0.5 \n",
      "[CV]  colsample_bytree=0.7, learning_rate=0.05, max_depth=15, min_child_weight=11, n_estimators=100, nthread=4, objective=reg:linear, seed=1337, subsample=0.5, total=16.8min\n",
      "[CV] colsample_bytree=0.7, learning_rate=0.05, max_depth=15, min_child_weight=11, n_estimators=100, nthread=4, objective=reg:linear, seed=1337, subsample=0.5 \n",
      "[CV]  colsample_bytree=0.7, learning_rate=0.05, max_depth=15, min_child_weight=11, n_estimators=100, nthread=4, objective=reg:linear, seed=1337, subsample=0.5, total=16.5min\n",
      "[CV] colsample_bytree=0.7, learning_rate=0.05, max_depth=15, min_child_weight=11, n_estimators=200, nthread=4, objective=reg:linear, seed=1337, subsample=0.8 \n",
      "[CV]  colsample_bytree=0.7, learning_rate=0.05, max_depth=15, min_child_weight=11, n_estimators=100, nthread=4, objective=reg:linear, seed=1337, subsample=0.5, total=16.7min\n",
      "[CV] colsample_bytree=0.7, learning_rate=0.05, max_depth=15, min_child_weight=11, n_estimators=200, nthread=4, objective=reg:linear, seed=1337, subsample=0.8 \n",
      "[CV]  colsample_bytree=0.7, learning_rate=0.05, max_depth=15, min_child_weight=11, n_estimators=200, nthread=4, objective=reg:linear, seed=1337, subsample=0.8, total=32.6min\n",
      "[CV] colsample_bytree=0.7, learning_rate=0.05, max_depth=15, min_child_weight=11, n_estimators=200, nthread=4, objective=reg:linear, seed=1337, subsample=0.8 \n",
      "[CV]  colsample_bytree=0.7, learning_rate=0.05, max_depth=15, min_child_weight=11, n_estimators=200, nthread=4, objective=reg:linear, seed=1337, subsample=0.8, total=31.9min\n",
      "[CV] colsample_bytree=0.7, learning_rate=0.05, max_depth=15, min_child_weight=11, n_estimators=200, nthread=4, objective=reg:linear, seed=1337, subsample=0.5 \n",
      "[CV]  colsample_bytree=0.7, learning_rate=0.05, max_depth=15, min_child_weight=11, n_estimators=200, nthread=4, objective=reg:linear, seed=1337, subsample=0.8, total=32.5min\n",
      "[CV] colsample_bytree=0.7, learning_rate=0.05, max_depth=15, min_child_weight=11, n_estimators=200, nthread=4, objective=reg:linear, seed=1337, subsample=0.5 \n",
      "[CV]  colsample_bytree=0.7, learning_rate=0.05, max_depth=15, min_child_weight=11, n_estimators=200, nthread=4, objective=reg:linear, seed=1337, subsample=0.5, total=33.4min\n",
      "[CV] colsample_bytree=0.7, learning_rate=0.05, max_depth=15, min_child_weight=11, n_estimators=200, nthread=4, objective=reg:linear, seed=1337, subsample=0.5 \n"
     ]
    },
    {
     "name": "stdout",
     "output_type": "stream",
     "text": [
      "[CV]  colsample_bytree=0.7, learning_rate=0.05, max_depth=15, min_child_weight=11, n_estimators=200, nthread=4, objective=reg:linear, seed=1337, subsample=0.5, total=33.0min\n",
      "[CV] colsample_bytree=0.7, learning_rate=0.05, max_depth=15, min_child_weight=11, n_estimators=500, nthread=4, objective=reg:linear, seed=1337, subsample=0.8 \n",
      "[CV]  colsample_bytree=0.7, learning_rate=0.05, max_depth=15, min_child_weight=11, n_estimators=200, nthread=4, objective=reg:linear, seed=1337, subsample=0.5, total=33.7min\n",
      "[CV] colsample_bytree=0.7, learning_rate=0.05, max_depth=15, min_child_weight=11, n_estimators=500, nthread=4, objective=reg:linear, seed=1337, subsample=0.8 \n",
      "[CV]  colsample_bytree=0.7, learning_rate=0.05, max_depth=15, min_child_weight=11, n_estimators=500, nthread=4, objective=reg:linear, seed=1337, subsample=0.8, total=81.1min\n",
      "[CV] colsample_bytree=0.7, learning_rate=0.05, max_depth=15, min_child_weight=11, n_estimators=500, nthread=4, objective=reg:linear, seed=1337, subsample=0.8 \n",
      "[CV]  colsample_bytree=0.7, learning_rate=0.05, max_depth=15, min_child_weight=11, n_estimators=500, nthread=4, objective=reg:linear, seed=1337, subsample=0.8, total=80.3min\n",
      "[CV] colsample_bytree=0.7, learning_rate=0.05, max_depth=15, min_child_weight=11, n_estimators=500, nthread=4, objective=reg:linear, seed=1337, subsample=0.5 \n",
      "[CV]  colsample_bytree=0.7, learning_rate=0.05, max_depth=15, min_child_weight=11, n_estimators=500, nthread=4, objective=reg:linear, seed=1337, subsample=0.8, total=82.9min\n",
      "[CV] colsample_bytree=0.7, learning_rate=0.05, max_depth=15, min_child_weight=11, n_estimators=500, nthread=4, objective=reg:linear, seed=1337, subsample=0.5 \n",
      "[CV]  colsample_bytree=0.7, learning_rate=0.05, max_depth=15, min_child_weight=11, n_estimators=500, nthread=4, objective=reg:linear, seed=1337, subsample=0.5, total=84.9min\n"
     ]
    },
    {
     "name": "stderr",
     "output_type": "stream",
     "text": [
      "[Parallel(n_jobs=5)]: Done 152 tasks      | elapsed: 5988.4min\n"
     ]
    },
    {
     "name": "stdout",
     "output_type": "stream",
     "text": [
      "[CV] colsample_bytree=0.7, learning_rate=0.05, max_depth=15, min_child_weight=11, n_estimators=500, nthread=4, objective=reg:linear, seed=1337, subsample=0.5 \n",
      "[CV]  colsample_bytree=0.7, learning_rate=0.05, max_depth=15, min_child_weight=11, n_estimators=500, nthread=4, objective=reg:linear, seed=1337, subsample=0.5, total=84.0min\n",
      "[CV] colsample_bytree=0.7, learning_rate=0.05, max_depth=15, min_child_weight=11, n_estimators=1000, nthread=4, objective=reg:linear, seed=1337, subsample=0.8 \n",
      "[CV]  colsample_bytree=0.7, learning_rate=0.05, max_depth=15, min_child_weight=11, n_estimators=500, nthread=4, objective=reg:linear, seed=1337, subsample=0.5, total=85.2min\n",
      "[CV] colsample_bytree=0.7, learning_rate=0.05, max_depth=15, min_child_weight=11, n_estimators=1000, nthread=4, objective=reg:linear, seed=1337, subsample=0.8 \n",
      "[CV]  colsample_bytree=0.7, learning_rate=0.05, max_depth=15, min_child_weight=11, n_estimators=1000, nthread=4, objective=reg:linear, seed=1337, subsample=0.8, total=164.8min\n",
      "[CV] colsample_bytree=0.7, learning_rate=0.05, max_depth=15, min_child_weight=11, n_estimators=1000, nthread=4, objective=reg:linear, seed=1337, subsample=0.8 \n",
      "[CV]  colsample_bytree=0.7, learning_rate=0.05, max_depth=15, min_child_weight=11, n_estimators=1000, nthread=4, objective=reg:linear, seed=1337, subsample=0.8, total=163.6min\n",
      "[CV] colsample_bytree=0.7, learning_rate=0.05, max_depth=15, min_child_weight=11, n_estimators=1000, nthread=4, objective=reg:linear, seed=1337, subsample=0.5 \n",
      "[CV]  colsample_bytree=0.7, learning_rate=0.05, max_depth=15, min_child_weight=11, n_estimators=1000, nthread=4, objective=reg:linear, seed=1337, subsample=0.8, total=168.4min\n",
      "[CV] colsample_bytree=0.7, learning_rate=0.05, max_depth=15, min_child_weight=11, n_estimators=1000, nthread=4, objective=reg:linear, seed=1337, subsample=0.5 \n",
      "[CV]  colsample_bytree=0.7, learning_rate=0.05, max_depth=15, min_child_weight=11, n_estimators=1000, nthread=4, objective=reg:linear, seed=1337, subsample=0.5, total=172.6min\n",
      "[CV] colsample_bytree=0.7, learning_rate=0.05, max_depth=15, min_child_weight=11, n_estimators=1000, nthread=4, objective=reg:linear, seed=1337, subsample=0.5 \n",
      "[CV]  colsample_bytree=0.7, learning_rate=0.05, max_depth=15, min_child_weight=11, n_estimators=1000, nthread=4, objective=reg:linear, seed=1337, subsample=0.5, total=170.2min\n",
      "[CV] colsample_bytree=0.7, learning_rate=0.05, max_depth=15, min_child_weight=10, n_estimators=100, nthread=4, objective=reg:linear, seed=1337, subsample=0.8 \n",
      "[CV]  colsample_bytree=0.7, learning_rate=0.05, max_depth=15, min_child_weight=10, n_estimators=100, nthread=4, objective=reg:linear, seed=1337, subsample=0.8, total=19.0min\n",
      "[CV] colsample_bytree=0.7, learning_rate=0.05, max_depth=15, min_child_weight=10, n_estimators=100, nthread=4, objective=reg:linear, seed=1337, subsample=0.8 \n",
      "[CV]  colsample_bytree=0.7, learning_rate=0.05, max_depth=15, min_child_weight=11, n_estimators=1000, nthread=4, objective=reg:linear, seed=1337, subsample=0.5, total=172.9min\n",
      "[CV] colsample_bytree=0.7, learning_rate=0.05, max_depth=15, min_child_weight=10, n_estimators=100, nthread=4, objective=reg:linear, seed=1337, subsample=0.8 \n",
      "[CV]  colsample_bytree=0.7, learning_rate=0.05, max_depth=15, min_child_weight=10, n_estimators=100, nthread=4, objective=reg:linear, seed=1337, subsample=0.8, total=16.1min\n",
      "[CV] colsample_bytree=0.7, learning_rate=0.05, max_depth=15, min_child_weight=10, n_estimators=100, nthread=4, objective=reg:linear, seed=1337, subsample=0.5 \n",
      "[CV]  colsample_bytree=0.7, learning_rate=0.05, max_depth=15, min_child_weight=10, n_estimators=100, nthread=4, objective=reg:linear, seed=1337, subsample=0.8, total=16.2min\n",
      "[CV] colsample_bytree=0.7, learning_rate=0.05, max_depth=15, min_child_weight=10, n_estimators=100, nthread=4, objective=reg:linear, seed=1337, subsample=0.5 \n",
      "[CV]  colsample_bytree=0.7, learning_rate=0.05, max_depth=15, min_child_weight=10, n_estimators=100, nthread=4, objective=reg:linear, seed=1337, subsample=0.5, total=16.8min\n",
      "[CV] colsample_bytree=0.7, learning_rate=0.05, max_depth=15, min_child_weight=10, n_estimators=100, nthread=4, objective=reg:linear, seed=1337, subsample=0.5 \n",
      "[CV]  colsample_bytree=0.7, learning_rate=0.05, max_depth=15, min_child_weight=10, n_estimators=100, nthread=4, objective=reg:linear, seed=1337, subsample=0.5, total=16.5min\n",
      "[CV] colsample_bytree=0.7, learning_rate=0.05, max_depth=15, min_child_weight=10, n_estimators=200, nthread=4, objective=reg:linear, seed=1337, subsample=0.8 \n",
      "[CV]  colsample_bytree=0.7, learning_rate=0.05, max_depth=15, min_child_weight=10, n_estimators=100, nthread=4, objective=reg:linear, seed=1337, subsample=0.5, total=16.7min\n",
      "[CV] colsample_bytree=0.7, learning_rate=0.05, max_depth=15, min_child_weight=10, n_estimators=200, nthread=4, objective=reg:linear, seed=1337, subsample=0.8 \n",
      "[CV]  colsample_bytree=0.7, learning_rate=0.05, max_depth=15, min_child_weight=10, n_estimators=200, nthread=4, objective=reg:linear, seed=1337, subsample=0.8, total=32.1min\n",
      "[CV] colsample_bytree=0.7, learning_rate=0.05, max_depth=15, min_child_weight=10, n_estimators=200, nthread=4, objective=reg:linear, seed=1337, subsample=0.8 \n",
      "[CV]  colsample_bytree=0.7, learning_rate=0.05, max_depth=15, min_child_weight=10, n_estimators=200, nthread=4, objective=reg:linear, seed=1337, subsample=0.8, total=31.6min\n",
      "[CV] colsample_bytree=0.7, learning_rate=0.05, max_depth=15, min_child_weight=10, n_estimators=200, nthread=4, objective=reg:linear, seed=1337, subsample=0.5 \n",
      "[CV]  colsample_bytree=0.7, learning_rate=0.05, max_depth=15, min_child_weight=10, n_estimators=200, nthread=4, objective=reg:linear, seed=1337, subsample=0.8, total=32.4min\n",
      "[CV] colsample_bytree=0.7, learning_rate=0.05, max_depth=15, min_child_weight=10, n_estimators=200, nthread=4, objective=reg:linear, seed=1337, subsample=0.5 \n",
      "[CV]  colsample_bytree=0.7, learning_rate=0.05, max_depth=15, min_child_weight=10, n_estimators=200, nthread=4, objective=reg:linear, seed=1337, subsample=0.5, total=33.5min\n",
      "[CV] colsample_bytree=0.7, learning_rate=0.05, max_depth=15, min_child_weight=10, n_estimators=200, nthread=4, objective=reg:linear, seed=1337, subsample=0.5 \n",
      "[CV]  colsample_bytree=0.7, learning_rate=0.05, max_depth=15, min_child_weight=10, n_estimators=200, nthread=4, objective=reg:linear, seed=1337, subsample=0.5, total=32.8min\n",
      "[CV] colsample_bytree=0.7, learning_rate=0.05, max_depth=15, min_child_weight=10, n_estimators=500, nthread=4, objective=reg:linear, seed=1337, subsample=0.8 \n",
      "[CV]  colsample_bytree=0.7, learning_rate=0.05, max_depth=15, min_child_weight=10, n_estimators=200, nthread=4, objective=reg:linear, seed=1337, subsample=0.5, total=33.3min\n",
      "[CV] colsample_bytree=0.7, learning_rate=0.05, max_depth=15, min_child_weight=10, n_estimators=500, nthread=4, objective=reg:linear, seed=1337, subsample=0.8 \n",
      "[CV]  colsample_bytree=0.7, learning_rate=0.05, max_depth=15, min_child_weight=10, n_estimators=500, nthread=4, objective=reg:linear, seed=1337, subsample=0.8, total=81.3min\n",
      "[CV] colsample_bytree=0.7, learning_rate=0.05, max_depth=15, min_child_weight=10, n_estimators=500, nthread=4, objective=reg:linear, seed=1337, subsample=0.8 \n",
      "[CV]  colsample_bytree=0.7, learning_rate=0.05, max_depth=15, min_child_weight=10, n_estimators=500, nthread=4, objective=reg:linear, seed=1337, subsample=0.8, total=80.3min\n",
      "[CV] colsample_bytree=0.7, learning_rate=0.05, max_depth=15, min_child_weight=10, n_estimators=500, nthread=4, objective=reg:linear, seed=1337, subsample=0.5 \n",
      "[CV]  colsample_bytree=0.7, learning_rate=0.05, max_depth=15, min_child_weight=10, n_estimators=500, nthread=4, objective=reg:linear, seed=1337, subsample=0.8, total=82.7min\n",
      "[CV] colsample_bytree=0.7, learning_rate=0.05, max_depth=15, min_child_weight=10, n_estimators=500, nthread=4, objective=reg:linear, seed=1337, subsample=0.5 \n",
      "[CV]  colsample_bytree=0.7, learning_rate=0.05, max_depth=15, min_child_weight=10, n_estimators=500, nthread=4, objective=reg:linear, seed=1337, subsample=0.5, total=84.6min\n",
      "[CV] colsample_bytree=0.7, learning_rate=0.05, max_depth=15, min_child_weight=10, n_estimators=500, nthread=4, objective=reg:linear, seed=1337, subsample=0.5 \n",
      "[CV]  colsample_bytree=0.7, learning_rate=0.05, max_depth=15, min_child_weight=10, n_estimators=500, nthread=4, objective=reg:linear, seed=1337, subsample=0.5, total=83.5min\n"
     ]
    },
    {
     "name": "stdout",
     "output_type": "stream",
     "text": [
      "[CV] colsample_bytree=0.7, learning_rate=0.05, max_depth=15, min_child_weight=10, n_estimators=1000, nthread=4, objective=reg:linear, seed=1337, subsample=0.8 \n",
      "[CV]  colsample_bytree=0.7, learning_rate=0.05, max_depth=15, min_child_weight=10, n_estimators=500, nthread=4, objective=reg:linear, seed=1337, subsample=0.5, total=85.3min\n",
      "[CV] colsample_bytree=0.7, learning_rate=0.05, max_depth=15, min_child_weight=10, n_estimators=1000, nthread=4, objective=reg:linear, seed=1337, subsample=0.8 \n",
      "[CV]  colsample_bytree=0.7, learning_rate=0.05, max_depth=15, min_child_weight=10, n_estimators=1000, nthread=4, objective=reg:linear, seed=1337, subsample=0.8, total=181.5min\n",
      "[CV] colsample_bytree=0.7, learning_rate=0.05, max_depth=15, min_child_weight=10, n_estimators=1000, nthread=4, objective=reg:linear, seed=1337, subsample=0.8 \n",
      "[CV]  colsample_bytree=0.7, learning_rate=0.05, max_depth=15, min_child_weight=10, n_estimators=1000, nthread=4, objective=reg:linear, seed=1337, subsample=0.8, total=181.2min\n",
      "[CV] colsample_bytree=0.7, learning_rate=0.05, max_depth=15, min_child_weight=10, n_estimators=1000, nthread=4, objective=reg:linear, seed=1337, subsample=0.5 \n"
     ]
    }
   ],
   "source": [
    "clf = GridSearchCV(xgb_reg, param, n_jobs=5, \n",
    "#                    cv=StratifiedKFold(n_splits=10, shuffle=True), \n",
    "                   scoring='neg_mean_squared_error',\n",
    "                   verbose=2, refit=True)\n",
    "\n",
    "clf.fit(X_tr, y_tr)"
   ]
  },
  {
   "cell_type": "code",
   "execution_count": null,
   "metadata": {},
   "outputs": [],
   "source": []
  },
  {
   "cell_type": "code",
   "execution_count": null,
   "metadata": {},
   "outputs": [],
   "source": []
  }
 ],
 "metadata": {
  "kernelspec": {
   "display_name": "Python 3",
   "language": "python",
   "name": "python3"
  },
  "language_info": {
   "codemirror_mode": {
    "name": "ipython",
    "version": 3
   },
   "file_extension": ".py",
   "mimetype": "text/x-python",
   "name": "python",
   "nbconvert_exporter": "python",
   "pygments_lexer": "ipython3",
   "version": "3.6.4"
  }
 },
 "nbformat": 4,
 "nbformat_minor": 2
}
