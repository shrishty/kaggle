{
 "cells": [
  {
   "cell_type": "code",
   "execution_count": 6,
   "metadata": {},
   "outputs": [],
   "source": [
    "import pandas as pd\n",
    "import numpy as np\n",
    "import matplotlib.pyplot as plt\n",
    "from IPython.core.interactiveshell import InteractiveShell\n",
    "from multiprocessing import Pool\n",
    "from itertools import product"
   ]
  },
  {
   "cell_type": "code",
   "execution_count": 7,
   "metadata": {},
   "outputs": [],
   "source": [
    "%matplotlib inline"
   ]
  },
  {
   "cell_type": "code",
   "execution_count": 8,
   "metadata": {},
   "outputs": [],
   "source": [
    "test = pd.read_csv('test.csv')\n",
    "shop = pd.read_csv('shops.csv')\n",
    "submission = pd.read_csv('sample_submission.csv')\n",
    "sales = pd.read_csv('sales_train.csv')\n",
    "item = pd.read_csv('items.csv')\n",
    "item_category = pd.read_csv('item_categories.csv')"
   ]
  },
  {
   "cell_type": "markdown",
   "metadata": {},
   "source": [
    "### Add missing item, shop id combination"
   ]
  },
  {
   "cell_type": "code",
   "execution_count": 9,
   "metadata": {},
   "outputs": [],
   "source": [
    "cols = ['shop_id', 'item_id', 'date_block_num']\n",
    "grid = []\n",
    "for block_num in sales['date_block_num'].unique():\n",
    "    shops = sales.loc[sales['date_block_num'] == block_num, 'shop_id'].unique()\n",
    "    items = sales.loc[sales['date_block_num'] == block_num, 'item_id'].unique()\n",
    "    grid.append(np.array(list(product(*[shops, items, [block_num]])),dtype='int32'))\n",
    "grid = pd.DataFrame(np.vstack(grid), columns = cols,dtype=np.int32)"
   ]
  },
  {
   "cell_type": "markdown",
   "metadata": {},
   "source": [
    "### EDA"
   ]
  },
  {
   "cell_type": "code",
   "execution_count": 10,
   "metadata": {},
   "outputs": [
    {
     "data": {
      "text/html": [
       "<div>\n",
       "<style scoped>\n",
       "    .dataframe tbody tr th:only-of-type {\n",
       "        vertical-align: middle;\n",
       "    }\n",
       "\n",
       "    .dataframe tbody tr th {\n",
       "        vertical-align: top;\n",
       "    }\n",
       "\n",
       "    .dataframe thead th {\n",
       "        text-align: right;\n",
       "    }\n",
       "</style>\n",
       "<table border=\"1\" class=\"dataframe\">\n",
       "  <thead>\n",
       "    <tr style=\"text-align: right;\">\n",
       "      <th></th>\n",
       "      <th>shop_name</th>\n",
       "      <th>shop_id</th>\n",
       "    </tr>\n",
       "  </thead>\n",
       "  <tbody>\n",
       "    <tr>\n",
       "      <th>0</th>\n",
       "      <td>!Якутск Орджоникидзе, 56 фран</td>\n",
       "      <td>0</td>\n",
       "    </tr>\n",
       "    <tr>\n",
       "      <th>1</th>\n",
       "      <td>!Якутск ТЦ \"Центральный\" фран</td>\n",
       "      <td>1</td>\n",
       "    </tr>\n",
       "    <tr>\n",
       "      <th>2</th>\n",
       "      <td>Адыгея ТЦ \"Мега\"</td>\n",
       "      <td>2</td>\n",
       "    </tr>\n",
       "    <tr>\n",
       "      <th>3</th>\n",
       "      <td>Балашиха ТРК \"Октябрь-Киномир\"</td>\n",
       "      <td>3</td>\n",
       "    </tr>\n",
       "    <tr>\n",
       "      <th>4</th>\n",
       "      <td>Волжский ТЦ \"Волга Молл\"</td>\n",
       "      <td>4</td>\n",
       "    </tr>\n",
       "  </tbody>\n",
       "</table>\n",
       "</div>"
      ],
      "text/plain": [
       "                        shop_name  shop_id\n",
       "0   !Якутск Орджоникидзе, 56 фран        0\n",
       "1   !Якутск ТЦ \"Центральный\" фран        1\n",
       "2                Адыгея ТЦ \"Мега\"        2\n",
       "3  Балашиха ТРК \"Октябрь-Киномир\"        3\n",
       "4        Волжский ТЦ \"Волга Молл\"        4"
      ]
     },
     "execution_count": 10,
     "metadata": {},
     "output_type": "execute_result"
    }
   ],
   "source": [
    "shop.head()"
   ]
  },
  {
   "cell_type": "code",
   "execution_count": 11,
   "metadata": {},
   "outputs": [
    {
     "data": {
      "text/html": [
       "<div>\n",
       "<style scoped>\n",
       "    .dataframe tbody tr th:only-of-type {\n",
       "        vertical-align: middle;\n",
       "    }\n",
       "\n",
       "    .dataframe tbody tr th {\n",
       "        vertical-align: top;\n",
       "    }\n",
       "\n",
       "    .dataframe thead th {\n",
       "        text-align: right;\n",
       "    }\n",
       "</style>\n",
       "<table border=\"1\" class=\"dataframe\">\n",
       "  <thead>\n",
       "    <tr style=\"text-align: right;\">\n",
       "      <th></th>\n",
       "      <th>shop_id</th>\n",
       "      <th>item_id</th>\n",
       "      <th>date_block_num</th>\n",
       "    </tr>\n",
       "  </thead>\n",
       "  <tbody>\n",
       "    <tr>\n",
       "      <th>0</th>\n",
       "      <td>59</td>\n",
       "      <td>22154</td>\n",
       "      <td>0</td>\n",
       "    </tr>\n",
       "    <tr>\n",
       "      <th>1</th>\n",
       "      <td>59</td>\n",
       "      <td>2552</td>\n",
       "      <td>0</td>\n",
       "    </tr>\n",
       "    <tr>\n",
       "      <th>2</th>\n",
       "      <td>59</td>\n",
       "      <td>2554</td>\n",
       "      <td>0</td>\n",
       "    </tr>\n",
       "    <tr>\n",
       "      <th>3</th>\n",
       "      <td>59</td>\n",
       "      <td>2555</td>\n",
       "      <td>0</td>\n",
       "    </tr>\n",
       "    <tr>\n",
       "      <th>4</th>\n",
       "      <td>59</td>\n",
       "      <td>2564</td>\n",
       "      <td>0</td>\n",
       "    </tr>\n",
       "  </tbody>\n",
       "</table>\n",
       "</div>"
      ],
      "text/plain": [
       "   shop_id  item_id  date_block_num\n",
       "0       59    22154               0\n",
       "1       59     2552               0\n",
       "2       59     2554               0\n",
       "3       59     2555               0\n",
       "4       59     2564               0"
      ]
     },
     "execution_count": 11,
     "metadata": {},
     "output_type": "execute_result"
    }
   ],
   "source": [
    "grid.head()"
   ]
  },
  {
   "cell_type": "code",
   "execution_count": 12,
   "metadata": {},
   "outputs": [
    {
     "data": {
      "text/html": [
       "<div>\n",
       "<style scoped>\n",
       "    .dataframe tbody tr th:only-of-type {\n",
       "        vertical-align: middle;\n",
       "    }\n",
       "\n",
       "    .dataframe tbody tr th {\n",
       "        vertical-align: top;\n",
       "    }\n",
       "\n",
       "    .dataframe thead th {\n",
       "        text-align: right;\n",
       "    }\n",
       "</style>\n",
       "<table border=\"1\" class=\"dataframe\">\n",
       "  <thead>\n",
       "    <tr style=\"text-align: right;\">\n",
       "      <th></th>\n",
       "      <th>date</th>\n",
       "      <th>date_block_num</th>\n",
       "      <th>shop_id</th>\n",
       "      <th>item_id</th>\n",
       "      <th>item_price</th>\n",
       "      <th>item_cnt_day</th>\n",
       "    </tr>\n",
       "  </thead>\n",
       "  <tbody>\n",
       "    <tr>\n",
       "      <th>0</th>\n",
       "      <td>02.01.2013</td>\n",
       "      <td>0</td>\n",
       "      <td>59</td>\n",
       "      <td>22154</td>\n",
       "      <td>999.00</td>\n",
       "      <td>1.0</td>\n",
       "    </tr>\n",
       "    <tr>\n",
       "      <th>1</th>\n",
       "      <td>03.01.2013</td>\n",
       "      <td>0</td>\n",
       "      <td>25</td>\n",
       "      <td>2552</td>\n",
       "      <td>899.00</td>\n",
       "      <td>1.0</td>\n",
       "    </tr>\n",
       "    <tr>\n",
       "      <th>2</th>\n",
       "      <td>05.01.2013</td>\n",
       "      <td>0</td>\n",
       "      <td>25</td>\n",
       "      <td>2552</td>\n",
       "      <td>899.00</td>\n",
       "      <td>-1.0</td>\n",
       "    </tr>\n",
       "    <tr>\n",
       "      <th>3</th>\n",
       "      <td>06.01.2013</td>\n",
       "      <td>0</td>\n",
       "      <td>25</td>\n",
       "      <td>2554</td>\n",
       "      <td>1709.05</td>\n",
       "      <td>1.0</td>\n",
       "    </tr>\n",
       "    <tr>\n",
       "      <th>4</th>\n",
       "      <td>15.01.2013</td>\n",
       "      <td>0</td>\n",
       "      <td>25</td>\n",
       "      <td>2555</td>\n",
       "      <td>1099.00</td>\n",
       "      <td>1.0</td>\n",
       "    </tr>\n",
       "  </tbody>\n",
       "</table>\n",
       "</div>"
      ],
      "text/plain": [
       "         date  date_block_num  shop_id  item_id  item_price  item_cnt_day\n",
       "0  02.01.2013               0       59    22154      999.00           1.0\n",
       "1  03.01.2013               0       25     2552      899.00           1.0\n",
       "2  05.01.2013               0       25     2552      899.00          -1.0\n",
       "3  06.01.2013               0       25     2554     1709.05           1.0\n",
       "4  15.01.2013               0       25     2555     1099.00           1.0"
      ]
     },
     "execution_count": 12,
     "metadata": {},
     "output_type": "execute_result"
    }
   ],
   "source": [
    "sales.head()"
   ]
  },
  {
   "cell_type": "code",
   "execution_count": 13,
   "metadata": {},
   "outputs": [
    {
     "data": {
      "text/html": [
       "<div>\n",
       "<style scoped>\n",
       "    .dataframe tbody tr th:only-of-type {\n",
       "        vertical-align: middle;\n",
       "    }\n",
       "\n",
       "    .dataframe tbody tr th {\n",
       "        vertical-align: top;\n",
       "    }\n",
       "\n",
       "    .dataframe thead th {\n",
       "        text-align: right;\n",
       "    }\n",
       "</style>\n",
       "<table border=\"1\" class=\"dataframe\">\n",
       "  <thead>\n",
       "    <tr style=\"text-align: right;\">\n",
       "      <th></th>\n",
       "      <th>item_category_name</th>\n",
       "      <th>item_category_id</th>\n",
       "    </tr>\n",
       "  </thead>\n",
       "  <tbody>\n",
       "    <tr>\n",
       "      <th>0</th>\n",
       "      <td>PC - Гарнитуры/Наушники</td>\n",
       "      <td>0</td>\n",
       "    </tr>\n",
       "    <tr>\n",
       "      <th>1</th>\n",
       "      <td>Аксессуары - PS2</td>\n",
       "      <td>1</td>\n",
       "    </tr>\n",
       "    <tr>\n",
       "      <th>2</th>\n",
       "      <td>Аксессуары - PS3</td>\n",
       "      <td>2</td>\n",
       "    </tr>\n",
       "    <tr>\n",
       "      <th>3</th>\n",
       "      <td>Аксессуары - PS4</td>\n",
       "      <td>3</td>\n",
       "    </tr>\n",
       "    <tr>\n",
       "      <th>4</th>\n",
       "      <td>Аксессуары - PSP</td>\n",
       "      <td>4</td>\n",
       "    </tr>\n",
       "  </tbody>\n",
       "</table>\n",
       "</div>"
      ],
      "text/plain": [
       "        item_category_name  item_category_id\n",
       "0  PC - Гарнитуры/Наушники                 0\n",
       "1         Аксессуары - PS2                 1\n",
       "2         Аксессуары - PS3                 2\n",
       "3         Аксессуары - PS4                 3\n",
       "4         Аксессуары - PSP                 4"
      ]
     },
     "execution_count": 13,
     "metadata": {},
     "output_type": "execute_result"
    }
   ],
   "source": [
    "item_category.head()"
   ]
  },
  {
   "cell_type": "markdown",
   "metadata": {},
   "source": [
    "### Shop"
   ]
  },
  {
   "cell_type": "code",
   "execution_count": 14,
   "metadata": {},
   "outputs": [
    {
     "data": {
      "text/html": [
       "<div>\n",
       "<style scoped>\n",
       "    .dataframe tbody tr th:only-of-type {\n",
       "        vertical-align: middle;\n",
       "    }\n",
       "\n",
       "    .dataframe tbody tr th {\n",
       "        vertical-align: top;\n",
       "    }\n",
       "\n",
       "    .dataframe thead th {\n",
       "        text-align: right;\n",
       "    }\n",
       "</style>\n",
       "<table border=\"1\" class=\"dataframe\">\n",
       "  <thead>\n",
       "    <tr style=\"text-align: right;\">\n",
       "      <th></th>\n",
       "      <th>shop_id</th>\n",
       "    </tr>\n",
       "  </thead>\n",
       "  <tbody>\n",
       "    <tr>\n",
       "      <th>count</th>\n",
       "      <td>60.000000</td>\n",
       "    </tr>\n",
       "    <tr>\n",
       "      <th>mean</th>\n",
       "      <td>29.500000</td>\n",
       "    </tr>\n",
       "    <tr>\n",
       "      <th>std</th>\n",
       "      <td>17.464249</td>\n",
       "    </tr>\n",
       "    <tr>\n",
       "      <th>min</th>\n",
       "      <td>0.000000</td>\n",
       "    </tr>\n",
       "    <tr>\n",
       "      <th>25%</th>\n",
       "      <td>14.750000</td>\n",
       "    </tr>\n",
       "    <tr>\n",
       "      <th>50%</th>\n",
       "      <td>29.500000</td>\n",
       "    </tr>\n",
       "    <tr>\n",
       "      <th>75%</th>\n",
       "      <td>44.250000</td>\n",
       "    </tr>\n",
       "    <tr>\n",
       "      <th>max</th>\n",
       "      <td>59.000000</td>\n",
       "    </tr>\n",
       "  </tbody>\n",
       "</table>\n",
       "</div>"
      ],
      "text/plain": [
       "         shop_id\n",
       "count  60.000000\n",
       "mean   29.500000\n",
       "std    17.464249\n",
       "min     0.000000\n",
       "25%    14.750000\n",
       "50%    29.500000\n",
       "75%    44.250000\n",
       "max    59.000000"
      ]
     },
     "execution_count": 14,
     "metadata": {},
     "output_type": "execute_result"
    }
   ],
   "source": [
    "shop.describe()"
   ]
  },
  {
   "cell_type": "code",
   "execution_count": 15,
   "metadata": {},
   "outputs": [
    {
     "data": {
      "text/html": [
       "<div>\n",
       "<style scoped>\n",
       "    .dataframe tbody tr th:only-of-type {\n",
       "        vertical-align: middle;\n",
       "    }\n",
       "\n",
       "    .dataframe tbody tr th {\n",
       "        vertical-align: top;\n",
       "    }\n",
       "\n",
       "    .dataframe thead th {\n",
       "        text-align: right;\n",
       "    }\n",
       "</style>\n",
       "<table border=\"1\" class=\"dataframe\">\n",
       "  <thead>\n",
       "    <tr style=\"text-align: right;\">\n",
       "      <th></th>\n",
       "      <th>item_category_id</th>\n",
       "    </tr>\n",
       "  </thead>\n",
       "  <tbody>\n",
       "    <tr>\n",
       "      <th>count</th>\n",
       "      <td>84.000000</td>\n",
       "    </tr>\n",
       "    <tr>\n",
       "      <th>mean</th>\n",
       "      <td>41.500000</td>\n",
       "    </tr>\n",
       "    <tr>\n",
       "      <th>std</th>\n",
       "      <td>24.392622</td>\n",
       "    </tr>\n",
       "    <tr>\n",
       "      <th>min</th>\n",
       "      <td>0.000000</td>\n",
       "    </tr>\n",
       "    <tr>\n",
       "      <th>25%</th>\n",
       "      <td>20.750000</td>\n",
       "    </tr>\n",
       "    <tr>\n",
       "      <th>50%</th>\n",
       "      <td>41.500000</td>\n",
       "    </tr>\n",
       "    <tr>\n",
       "      <th>75%</th>\n",
       "      <td>62.250000</td>\n",
       "    </tr>\n",
       "    <tr>\n",
       "      <th>max</th>\n",
       "      <td>83.000000</td>\n",
       "    </tr>\n",
       "  </tbody>\n",
       "</table>\n",
       "</div>"
      ],
      "text/plain": [
       "       item_category_id\n",
       "count         84.000000\n",
       "mean          41.500000\n",
       "std           24.392622\n",
       "min            0.000000\n",
       "25%           20.750000\n",
       "50%           41.500000\n",
       "75%           62.250000\n",
       "max           83.000000"
      ]
     },
     "execution_count": 15,
     "metadata": {},
     "output_type": "execute_result"
    }
   ],
   "source": [
    "item_category.describe()"
   ]
  },
  {
   "cell_type": "code",
   "execution_count": 16,
   "metadata": {},
   "outputs": [
    {
     "data": {
      "text/html": [
       "<div>\n",
       "<style scoped>\n",
       "    .dataframe tbody tr th:only-of-type {\n",
       "        vertical-align: middle;\n",
       "    }\n",
       "\n",
       "    .dataframe tbody tr th {\n",
       "        vertical-align: top;\n",
       "    }\n",
       "\n",
       "    .dataframe thead th {\n",
       "        text-align: right;\n",
       "    }\n",
       "</style>\n",
       "<table border=\"1\" class=\"dataframe\">\n",
       "  <thead>\n",
       "    <tr style=\"text-align: right;\">\n",
       "      <th></th>\n",
       "      <th>item_category_name</th>\n",
       "      <th>item_category_id</th>\n",
       "    </tr>\n",
       "  </thead>\n",
       "  <tbody>\n",
       "    <tr>\n",
       "      <th>0</th>\n",
       "      <td>PC - Гарнитуры/Наушники</td>\n",
       "      <td>0</td>\n",
       "    </tr>\n",
       "    <tr>\n",
       "      <th>1</th>\n",
       "      <td>Аксессуары - PS2</td>\n",
       "      <td>1</td>\n",
       "    </tr>\n",
       "    <tr>\n",
       "      <th>2</th>\n",
       "      <td>Аксессуары - PS3</td>\n",
       "      <td>2</td>\n",
       "    </tr>\n",
       "    <tr>\n",
       "      <th>3</th>\n",
       "      <td>Аксессуары - PS4</td>\n",
       "      <td>3</td>\n",
       "    </tr>\n",
       "    <tr>\n",
       "      <th>4</th>\n",
       "      <td>Аксессуары - PSP</td>\n",
       "      <td>4</td>\n",
       "    </tr>\n",
       "  </tbody>\n",
       "</table>\n",
       "</div>"
      ],
      "text/plain": [
       "        item_category_name  item_category_id\n",
       "0  PC - Гарнитуры/Наушники                 0\n",
       "1         Аксессуары - PS2                 1\n",
       "2         Аксессуары - PS3                 2\n",
       "3         Аксессуары - PS4                 3\n",
       "4         Аксессуары - PSP                 4"
      ]
     },
     "execution_count": 16,
     "metadata": {},
     "output_type": "execute_result"
    }
   ],
   "source": [
    "item_category.head()"
   ]
  },
  {
   "cell_type": "code",
   "execution_count": 17,
   "metadata": {},
   "outputs": [
    {
     "data": {
      "text/html": [
       "<div>\n",
       "<style scoped>\n",
       "    .dataframe tbody tr th:only-of-type {\n",
       "        vertical-align: middle;\n",
       "    }\n",
       "\n",
       "    .dataframe tbody tr th {\n",
       "        vertical-align: top;\n",
       "    }\n",
       "\n",
       "    .dataframe thead th {\n",
       "        text-align: right;\n",
       "    }\n",
       "</style>\n",
       "<table border=\"1\" class=\"dataframe\">\n",
       "  <thead>\n",
       "    <tr style=\"text-align: right;\">\n",
       "      <th></th>\n",
       "      <th>item_name</th>\n",
       "      <th>item_id</th>\n",
       "      <th>item_category_id</th>\n",
       "    </tr>\n",
       "  </thead>\n",
       "  <tbody>\n",
       "    <tr>\n",
       "      <th>0</th>\n",
       "      <td>! ВО ВЛАСТИ НАВАЖДЕНИЯ (ПЛАСТ.)         D</td>\n",
       "      <td>0</td>\n",
       "      <td>40</td>\n",
       "    </tr>\n",
       "    <tr>\n",
       "      <th>1</th>\n",
       "      <td>!ABBYY FineReader 12 Professional Edition Full...</td>\n",
       "      <td>1</td>\n",
       "      <td>76</td>\n",
       "    </tr>\n",
       "    <tr>\n",
       "      <th>2</th>\n",
       "      <td>***В ЛУЧАХ СЛАВЫ   (UNV)                    D</td>\n",
       "      <td>2</td>\n",
       "      <td>40</td>\n",
       "    </tr>\n",
       "    <tr>\n",
       "      <th>3</th>\n",
       "      <td>***ГОЛУБАЯ ВОЛНА  (Univ)                      D</td>\n",
       "      <td>3</td>\n",
       "      <td>40</td>\n",
       "    </tr>\n",
       "    <tr>\n",
       "      <th>4</th>\n",
       "      <td>***КОРОБКА (СТЕКЛО)                       D</td>\n",
       "      <td>4</td>\n",
       "      <td>40</td>\n",
       "    </tr>\n",
       "  </tbody>\n",
       "</table>\n",
       "</div>"
      ],
      "text/plain": [
       "                                           item_name  item_id  \\\n",
       "0          ! ВО ВЛАСТИ НАВАЖДЕНИЯ (ПЛАСТ.)         D        0   \n",
       "1  !ABBYY FineReader 12 Professional Edition Full...        1   \n",
       "2      ***В ЛУЧАХ СЛАВЫ   (UNV)                    D        2   \n",
       "3    ***ГОЛУБАЯ ВОЛНА  (Univ)                      D        3   \n",
       "4        ***КОРОБКА (СТЕКЛО)                       D        4   \n",
       "\n",
       "   item_category_id  \n",
       "0                40  \n",
       "1                76  \n",
       "2                40  \n",
       "3                40  \n",
       "4                40  "
      ]
     },
     "execution_count": 17,
     "metadata": {},
     "output_type": "execute_result"
    }
   ],
   "source": [
    "item.head()"
   ]
  },
  {
   "cell_type": "code",
   "execution_count": 18,
   "metadata": {},
   "outputs": [
    {
     "data": {
      "text/html": [
       "<div>\n",
       "<style scoped>\n",
       "    .dataframe tbody tr th:only-of-type {\n",
       "        vertical-align: middle;\n",
       "    }\n",
       "\n",
       "    .dataframe tbody tr th {\n",
       "        vertical-align: top;\n",
       "    }\n",
       "\n",
       "    .dataframe thead th {\n",
       "        text-align: right;\n",
       "    }\n",
       "</style>\n",
       "<table border=\"1\" class=\"dataframe\">\n",
       "  <thead>\n",
       "    <tr style=\"text-align: right;\">\n",
       "      <th></th>\n",
       "      <th>item_id</th>\n",
       "      <th>item_category_id</th>\n",
       "    </tr>\n",
       "  </thead>\n",
       "  <tbody>\n",
       "    <tr>\n",
       "      <th>count</th>\n",
       "      <td>22170.00000</td>\n",
       "      <td>22170.000000</td>\n",
       "    </tr>\n",
       "    <tr>\n",
       "      <th>mean</th>\n",
       "      <td>11084.50000</td>\n",
       "      <td>46.290753</td>\n",
       "    </tr>\n",
       "    <tr>\n",
       "      <th>std</th>\n",
       "      <td>6400.07207</td>\n",
       "      <td>15.941486</td>\n",
       "    </tr>\n",
       "    <tr>\n",
       "      <th>min</th>\n",
       "      <td>0.00000</td>\n",
       "      <td>0.000000</td>\n",
       "    </tr>\n",
       "    <tr>\n",
       "      <th>25%</th>\n",
       "      <td>5542.25000</td>\n",
       "      <td>37.000000</td>\n",
       "    </tr>\n",
       "    <tr>\n",
       "      <th>50%</th>\n",
       "      <td>11084.50000</td>\n",
       "      <td>40.000000</td>\n",
       "    </tr>\n",
       "    <tr>\n",
       "      <th>75%</th>\n",
       "      <td>16626.75000</td>\n",
       "      <td>58.000000</td>\n",
       "    </tr>\n",
       "    <tr>\n",
       "      <th>max</th>\n",
       "      <td>22169.00000</td>\n",
       "      <td>83.000000</td>\n",
       "    </tr>\n",
       "  </tbody>\n",
       "</table>\n",
       "</div>"
      ],
      "text/plain": [
       "           item_id  item_category_id\n",
       "count  22170.00000      22170.000000\n",
       "mean   11084.50000         46.290753\n",
       "std     6400.07207         15.941486\n",
       "min        0.00000          0.000000\n",
       "25%     5542.25000         37.000000\n",
       "50%    11084.50000         40.000000\n",
       "75%    16626.75000         58.000000\n",
       "max    22169.00000         83.000000"
      ]
     },
     "execution_count": 18,
     "metadata": {},
     "output_type": "execute_result"
    }
   ],
   "source": [
    "item.describe()"
   ]
  },
  {
   "cell_type": "code",
   "execution_count": 19,
   "metadata": {},
   "outputs": [
    {
     "data": {
      "text/plain": [
       "22170"
      ]
     },
     "execution_count": 19,
     "metadata": {},
     "output_type": "execute_result"
    }
   ],
   "source": [
    "len(item.item_id.unique())"
   ]
  },
  {
   "cell_type": "code",
   "execution_count": 20,
   "metadata": {},
   "outputs": [
    {
     "data": {
      "text/plain": [
       "84"
      ]
     },
     "execution_count": 20,
     "metadata": {},
     "output_type": "execute_result"
    }
   ],
   "source": [
    "len(item.item_category_id.unique())"
   ]
  },
  {
   "cell_type": "markdown",
   "metadata": {},
   "source": [
    "### Combine data tables"
   ]
  },
  {
   "cell_type": "code",
   "execution_count": 21,
   "metadata": {},
   "outputs": [],
   "source": [
    "df_main = sales.groupby(['date_block_num','shop_id','item_id']).agg(\n",
    "        {\n",
    "            'item_cnt_day': 'sum',\n",
    "            'item_price': np.mean\n",
    "        }).reset_index()"
   ]
  },
  {
   "cell_type": "markdown",
   "metadata": {},
   "source": [
    "### Merge the grid to add missing shop_id/item_id combination and fill the values with zeros safely\n",
    "\n",
    "If there was a sale it would have been in sales table. Since they are not no of sales in shopid/itemid combination is zero"
   ]
  },
  {
   "cell_type": "code",
   "execution_count": 22,
   "metadata": {},
   "outputs": [],
   "source": [
    "df_main = pd.merge(grid, \n",
    "                   df_main, \n",
    "                   on=['date_block_num','shop_id','item_id'],\n",
    "                   how='left').fillna(0)"
   ]
  },
  {
   "cell_type": "code",
   "execution_count": 23,
   "metadata": {},
   "outputs": [
    {
     "data": {
      "text/html": [
       "<div>\n",
       "<style scoped>\n",
       "    .dataframe tbody tr th:only-of-type {\n",
       "        vertical-align: middle;\n",
       "    }\n",
       "\n",
       "    .dataframe tbody tr th {\n",
       "        vertical-align: top;\n",
       "    }\n",
       "\n",
       "    .dataframe thead th {\n",
       "        text-align: right;\n",
       "    }\n",
       "</style>\n",
       "<table border=\"1\" class=\"dataframe\">\n",
       "  <thead>\n",
       "    <tr style=\"text-align: right;\">\n",
       "      <th></th>\n",
       "      <th>shop_id</th>\n",
       "      <th>item_id</th>\n",
       "      <th>date_block_num</th>\n",
       "      <th>item_cnt_day</th>\n",
       "      <th>item_price</th>\n",
       "    </tr>\n",
       "  </thead>\n",
       "  <tbody>\n",
       "    <tr>\n",
       "      <th>0</th>\n",
       "      <td>59</td>\n",
       "      <td>22154</td>\n",
       "      <td>0</td>\n",
       "      <td>1.0</td>\n",
       "      <td>999.0</td>\n",
       "    </tr>\n",
       "    <tr>\n",
       "      <th>1</th>\n",
       "      <td>59</td>\n",
       "      <td>2552</td>\n",
       "      <td>0</td>\n",
       "      <td>0.0</td>\n",
       "      <td>0.0</td>\n",
       "    </tr>\n",
       "    <tr>\n",
       "      <th>2</th>\n",
       "      <td>59</td>\n",
       "      <td>2554</td>\n",
       "      <td>0</td>\n",
       "      <td>0.0</td>\n",
       "      <td>0.0</td>\n",
       "    </tr>\n",
       "    <tr>\n",
       "      <th>3</th>\n",
       "      <td>59</td>\n",
       "      <td>2555</td>\n",
       "      <td>0</td>\n",
       "      <td>0.0</td>\n",
       "      <td>0.0</td>\n",
       "    </tr>\n",
       "    <tr>\n",
       "      <th>4</th>\n",
       "      <td>59</td>\n",
       "      <td>2564</td>\n",
       "      <td>0</td>\n",
       "      <td>0.0</td>\n",
       "      <td>0.0</td>\n",
       "    </tr>\n",
       "  </tbody>\n",
       "</table>\n",
       "</div>"
      ],
      "text/plain": [
       "   shop_id  item_id  date_block_num  item_cnt_day  item_price\n",
       "0       59    22154               0           1.0       999.0\n",
       "1       59     2552               0           0.0         0.0\n",
       "2       59     2554               0           0.0         0.0\n",
       "3       59     2555               0           0.0         0.0\n",
       "4       59     2564               0           0.0         0.0"
      ]
     },
     "execution_count": 23,
     "metadata": {},
     "output_type": "execute_result"
    }
   ],
   "source": [
    "df_main.head()"
   ]
  },
  {
   "cell_type": "markdown",
   "metadata": {},
   "source": [
    "### Get item_category in df_main as it could be a great feature"
   ]
  },
  {
   "cell_type": "code",
   "execution_count": 24,
   "metadata": {},
   "outputs": [],
   "source": [
    "df_main = pd.merge(df_main,\n",
    "                   item,\n",
    "                   on=['item_id'],\n",
    "                   how='left')"
   ]
  },
  {
   "cell_type": "code",
   "execution_count": 25,
   "metadata": {},
   "outputs": [
    {
     "data": {
      "text/html": [
       "<div>\n",
       "<style scoped>\n",
       "    .dataframe tbody tr th:only-of-type {\n",
       "        vertical-align: middle;\n",
       "    }\n",
       "\n",
       "    .dataframe tbody tr th {\n",
       "        vertical-align: top;\n",
       "    }\n",
       "\n",
       "    .dataframe thead th {\n",
       "        text-align: right;\n",
       "    }\n",
       "</style>\n",
       "<table border=\"1\" class=\"dataframe\">\n",
       "  <thead>\n",
       "    <tr style=\"text-align: right;\">\n",
       "      <th></th>\n",
       "      <th>shop_id</th>\n",
       "      <th>item_id</th>\n",
       "      <th>date_block_num</th>\n",
       "      <th>item_cnt_day</th>\n",
       "      <th>item_price</th>\n",
       "      <th>item_name</th>\n",
       "      <th>item_category_id</th>\n",
       "    </tr>\n",
       "  </thead>\n",
       "  <tbody>\n",
       "    <tr>\n",
       "      <th>0</th>\n",
       "      <td>59</td>\n",
       "      <td>22154</td>\n",
       "      <td>0</td>\n",
       "      <td>1.0</td>\n",
       "      <td>999.0</td>\n",
       "      <td>ЯВЛЕНИЕ 2012 (BD)</td>\n",
       "      <td>37</td>\n",
       "    </tr>\n",
       "    <tr>\n",
       "      <th>1</th>\n",
       "      <td>59</td>\n",
       "      <td>2552</td>\n",
       "      <td>0</td>\n",
       "      <td>0.0</td>\n",
       "      <td>0.0</td>\n",
       "      <td>DEEP PURPLE  The House Of Blue Light  LP</td>\n",
       "      <td>58</td>\n",
       "    </tr>\n",
       "    <tr>\n",
       "      <th>2</th>\n",
       "      <td>59</td>\n",
       "      <td>2554</td>\n",
       "      <td>0</td>\n",
       "      <td>0.0</td>\n",
       "      <td>0.0</td>\n",
       "      <td>DEEP PURPLE  Who Do You Think We Are  LP</td>\n",
       "      <td>58</td>\n",
       "    </tr>\n",
       "    <tr>\n",
       "      <th>3</th>\n",
       "      <td>59</td>\n",
       "      <td>2555</td>\n",
       "      <td>0</td>\n",
       "      <td>0.0</td>\n",
       "      <td>0.0</td>\n",
       "      <td>DEEP PURPLE 30 Very Best Of 2CD (Фирм.)</td>\n",
       "      <td>56</td>\n",
       "    </tr>\n",
       "    <tr>\n",
       "      <th>4</th>\n",
       "      <td>59</td>\n",
       "      <td>2564</td>\n",
       "      <td>0</td>\n",
       "      <td>0.0</td>\n",
       "      <td>0.0</td>\n",
       "      <td>DEEP PURPLE Perihelion: Live In Concert DVD (К...</td>\n",
       "      <td>59</td>\n",
       "    </tr>\n",
       "  </tbody>\n",
       "</table>\n",
       "</div>"
      ],
      "text/plain": [
       "   shop_id  item_id  date_block_num  item_cnt_day  item_price  \\\n",
       "0       59    22154               0           1.0       999.0   \n",
       "1       59     2552               0           0.0         0.0   \n",
       "2       59     2554               0           0.0         0.0   \n",
       "3       59     2555               0           0.0         0.0   \n",
       "4       59     2564               0           0.0         0.0   \n",
       "\n",
       "                                           item_name  item_category_id  \n",
       "0                                  ЯВЛЕНИЕ 2012 (BD)                37  \n",
       "1           DEEP PURPLE  The House Of Blue Light  LP                58  \n",
       "2           DEEP PURPLE  Who Do You Think We Are  LP                58  \n",
       "3            DEEP PURPLE 30 Very Best Of 2CD (Фирм.)                56  \n",
       "4  DEEP PURPLE Perihelion: Live In Concert DVD (К...                59  "
      ]
     },
     "execution_count": 25,
     "metadata": {},
     "output_type": "execute_result"
    }
   ],
   "source": [
    "df_main.head()"
   ]
  },
  {
   "cell_type": "code",
   "execution_count": 26,
   "metadata": {},
   "outputs": [],
   "source": [
    "df_main.drop('item_name', inplace=True, axis=1)"
   ]
  },
  {
   "cell_type": "code",
   "execution_count": 27,
   "metadata": {},
   "outputs": [
    {
     "data": {
      "text/html": [
       "<div>\n",
       "<style scoped>\n",
       "    .dataframe tbody tr th:only-of-type {\n",
       "        vertical-align: middle;\n",
       "    }\n",
       "\n",
       "    .dataframe tbody tr th {\n",
       "        vertical-align: top;\n",
       "    }\n",
       "\n",
       "    .dataframe thead th {\n",
       "        text-align: right;\n",
       "    }\n",
       "</style>\n",
       "<table border=\"1\" class=\"dataframe\">\n",
       "  <thead>\n",
       "    <tr style=\"text-align: right;\">\n",
       "      <th></th>\n",
       "      <th>shop_id</th>\n",
       "      <th>item_id</th>\n",
       "      <th>date_block_num</th>\n",
       "      <th>item_cnt_day</th>\n",
       "      <th>item_price</th>\n",
       "      <th>item_category_id</th>\n",
       "    </tr>\n",
       "  </thead>\n",
       "  <tbody>\n",
       "    <tr>\n",
       "      <th>0</th>\n",
       "      <td>59</td>\n",
       "      <td>22154</td>\n",
       "      <td>0</td>\n",
       "      <td>1.0</td>\n",
       "      <td>999.0</td>\n",
       "      <td>37</td>\n",
       "    </tr>\n",
       "    <tr>\n",
       "      <th>1</th>\n",
       "      <td>59</td>\n",
       "      <td>2552</td>\n",
       "      <td>0</td>\n",
       "      <td>0.0</td>\n",
       "      <td>0.0</td>\n",
       "      <td>58</td>\n",
       "    </tr>\n",
       "    <tr>\n",
       "      <th>2</th>\n",
       "      <td>59</td>\n",
       "      <td>2554</td>\n",
       "      <td>0</td>\n",
       "      <td>0.0</td>\n",
       "      <td>0.0</td>\n",
       "      <td>58</td>\n",
       "    </tr>\n",
       "    <tr>\n",
       "      <th>3</th>\n",
       "      <td>59</td>\n",
       "      <td>2555</td>\n",
       "      <td>0</td>\n",
       "      <td>0.0</td>\n",
       "      <td>0.0</td>\n",
       "      <td>56</td>\n",
       "    </tr>\n",
       "    <tr>\n",
       "      <th>4</th>\n",
       "      <td>59</td>\n",
       "      <td>2564</td>\n",
       "      <td>0</td>\n",
       "      <td>0.0</td>\n",
       "      <td>0.0</td>\n",
       "      <td>59</td>\n",
       "    </tr>\n",
       "  </tbody>\n",
       "</table>\n",
       "</div>"
      ],
      "text/plain": [
       "   shop_id  item_id  date_block_num  item_cnt_day  item_price  \\\n",
       "0       59    22154               0           1.0       999.0   \n",
       "1       59     2552               0           0.0         0.0   \n",
       "2       59     2554               0           0.0         0.0   \n",
       "3       59     2555               0           0.0         0.0   \n",
       "4       59     2564               0           0.0         0.0   \n",
       "\n",
       "   item_category_id  \n",
       "0                37  \n",
       "1                58  \n",
       "2                58  \n",
       "3                56  \n",
       "4                59  "
      ]
     },
     "execution_count": 27,
     "metadata": {},
     "output_type": "execute_result"
    }
   ],
   "source": [
    "df_main.head()"
   ]
  },
  {
   "cell_type": "code",
   "execution_count": 28,
   "metadata": {},
   "outputs": [
    {
     "data": {
      "text/html": [
       "<div>\n",
       "<style scoped>\n",
       "    .dataframe tbody tr th:only-of-type {\n",
       "        vertical-align: middle;\n",
       "    }\n",
       "\n",
       "    .dataframe tbody tr th {\n",
       "        vertical-align: top;\n",
       "    }\n",
       "\n",
       "    .dataframe thead th {\n",
       "        text-align: right;\n",
       "    }\n",
       "</style>\n",
       "<table border=\"1\" class=\"dataframe\">\n",
       "  <thead>\n",
       "    <tr style=\"text-align: right;\">\n",
       "      <th></th>\n",
       "      <th>shop_id</th>\n",
       "      <th>item_id</th>\n",
       "      <th>date_block_num</th>\n",
       "      <th>item_cnt_day</th>\n",
       "      <th>item_price</th>\n",
       "      <th>item_category_id</th>\n",
       "    </tr>\n",
       "  </thead>\n",
       "  <tbody>\n",
       "    <tr>\n",
       "      <th>count</th>\n",
       "      <td>1.091385e+07</td>\n",
       "      <td>1.091385e+07</td>\n",
       "      <td>1.091385e+07</td>\n",
       "      <td>1.091385e+07</td>\n",
       "      <td>1.091385e+07</td>\n",
       "      <td>1.091385e+07</td>\n",
       "    </tr>\n",
       "    <tr>\n",
       "      <th>mean</th>\n",
       "      <td>3.118720e+01</td>\n",
       "      <td>1.130926e+04</td>\n",
       "      <td>1.497334e+01</td>\n",
       "      <td>3.342731e-01</td>\n",
       "      <td>1.166070e+02</td>\n",
       "      <td>4.491731e+01</td>\n",
       "    </tr>\n",
       "    <tr>\n",
       "      <th>std</th>\n",
       "      <td>1.734959e+01</td>\n",
       "      <td>6.209978e+03</td>\n",
       "      <td>9.495618e+00</td>\n",
       "      <td>3.417243e+00</td>\n",
       "      <td>6.584686e+02</td>\n",
       "      <td>1.510627e+01</td>\n",
       "    </tr>\n",
       "    <tr>\n",
       "      <th>min</th>\n",
       "      <td>0.000000e+00</td>\n",
       "      <td>0.000000e+00</td>\n",
       "      <td>0.000000e+00</td>\n",
       "      <td>-2.200000e+01</td>\n",
       "      <td>0.000000e+00</td>\n",
       "      <td>0.000000e+00</td>\n",
       "    </tr>\n",
       "    <tr>\n",
       "      <th>25%</th>\n",
       "      <td>1.600000e+01</td>\n",
       "      <td>5.976000e+03</td>\n",
       "      <td>7.000000e+00</td>\n",
       "      <td>0.000000e+00</td>\n",
       "      <td>0.000000e+00</td>\n",
       "      <td>3.700000e+01</td>\n",
       "    </tr>\n",
       "    <tr>\n",
       "      <th>50%</th>\n",
       "      <td>3.000000e+01</td>\n",
       "      <td>1.139100e+04</td>\n",
       "      <td>1.400000e+01</td>\n",
       "      <td>0.000000e+00</td>\n",
       "      <td>0.000000e+00</td>\n",
       "      <td>4.000000e+01</td>\n",
       "    </tr>\n",
       "    <tr>\n",
       "      <th>75%</th>\n",
       "      <td>4.600000e+01</td>\n",
       "      <td>1.660500e+04</td>\n",
       "      <td>2.300000e+01</td>\n",
       "      <td>0.000000e+00</td>\n",
       "      <td>0.000000e+00</td>\n",
       "      <td>5.500000e+01</td>\n",
       "    </tr>\n",
       "    <tr>\n",
       "      <th>max</th>\n",
       "      <td>5.900000e+01</td>\n",
       "      <td>2.216900e+04</td>\n",
       "      <td>3.300000e+01</td>\n",
       "      <td>2.253000e+03</td>\n",
       "      <td>3.079800e+05</td>\n",
       "      <td>8.300000e+01</td>\n",
       "    </tr>\n",
       "  </tbody>\n",
       "</table>\n",
       "</div>"
      ],
      "text/plain": [
       "            shop_id       item_id  date_block_num  item_cnt_day    item_price  \\\n",
       "count  1.091385e+07  1.091385e+07    1.091385e+07  1.091385e+07  1.091385e+07   \n",
       "mean   3.118720e+01  1.130926e+04    1.497334e+01  3.342731e-01  1.166070e+02   \n",
       "std    1.734959e+01  6.209978e+03    9.495618e+00  3.417243e+00  6.584686e+02   \n",
       "min    0.000000e+00  0.000000e+00    0.000000e+00 -2.200000e+01  0.000000e+00   \n",
       "25%    1.600000e+01  5.976000e+03    7.000000e+00  0.000000e+00  0.000000e+00   \n",
       "50%    3.000000e+01  1.139100e+04    1.400000e+01  0.000000e+00  0.000000e+00   \n",
       "75%    4.600000e+01  1.660500e+04    2.300000e+01  0.000000e+00  0.000000e+00   \n",
       "max    5.900000e+01  2.216900e+04    3.300000e+01  2.253000e+03  3.079800e+05   \n",
       "\n",
       "       item_category_id  \n",
       "count      1.091385e+07  \n",
       "mean       4.491731e+01  \n",
       "std        1.510627e+01  \n",
       "min        0.000000e+00  \n",
       "25%        3.700000e+01  \n",
       "50%        4.000000e+01  \n",
       "75%        5.500000e+01  \n",
       "max        8.300000e+01  "
      ]
     },
     "execution_count": 28,
     "metadata": {},
     "output_type": "execute_result"
    }
   ],
   "source": [
    "df_main.describe()"
   ]
  },
  {
   "cell_type": "code",
   "execution_count": 31,
   "metadata": {},
   "outputs": [
    {
     "data": {
      "text/plain": [
       "(10913850, 6)"
      ]
     },
     "execution_count": 31,
     "metadata": {},
     "output_type": "execute_result"
    }
   ],
   "source": [
    "df_main.shape"
   ]
  },
  {
   "cell_type": "code",
   "execution_count": 32,
   "metadata": {},
   "outputs": [],
   "source": [
    "df_main.rename(columns={'item_cnt_day': 'item_cnt_month'}, inplace=True)"
   ]
  },
  {
   "cell_type": "code",
   "execution_count": 33,
   "metadata": {},
   "outputs": [
    {
     "data": {
      "text/html": [
       "<div>\n",
       "<style scoped>\n",
       "    .dataframe tbody tr th:only-of-type {\n",
       "        vertical-align: middle;\n",
       "    }\n",
       "\n",
       "    .dataframe tbody tr th {\n",
       "        vertical-align: top;\n",
       "    }\n",
       "\n",
       "    .dataframe thead th {\n",
       "        text-align: right;\n",
       "    }\n",
       "</style>\n",
       "<table border=\"1\" class=\"dataframe\">\n",
       "  <thead>\n",
       "    <tr style=\"text-align: right;\">\n",
       "      <th></th>\n",
       "      <th>shop_id</th>\n",
       "      <th>item_id</th>\n",
       "      <th>date_block_num</th>\n",
       "      <th>item_cnt_month</th>\n",
       "      <th>item_price</th>\n",
       "      <th>item_category_id</th>\n",
       "    </tr>\n",
       "  </thead>\n",
       "  <tbody>\n",
       "    <tr>\n",
       "      <th>0</th>\n",
       "      <td>59</td>\n",
       "      <td>22154</td>\n",
       "      <td>0</td>\n",
       "      <td>1.0</td>\n",
       "      <td>999.0</td>\n",
       "      <td>37</td>\n",
       "    </tr>\n",
       "    <tr>\n",
       "      <th>1</th>\n",
       "      <td>59</td>\n",
       "      <td>2552</td>\n",
       "      <td>0</td>\n",
       "      <td>0.0</td>\n",
       "      <td>0.0</td>\n",
       "      <td>58</td>\n",
       "    </tr>\n",
       "    <tr>\n",
       "      <th>2</th>\n",
       "      <td>59</td>\n",
       "      <td>2554</td>\n",
       "      <td>0</td>\n",
       "      <td>0.0</td>\n",
       "      <td>0.0</td>\n",
       "      <td>58</td>\n",
       "    </tr>\n",
       "    <tr>\n",
       "      <th>3</th>\n",
       "      <td>59</td>\n",
       "      <td>2555</td>\n",
       "      <td>0</td>\n",
       "      <td>0.0</td>\n",
       "      <td>0.0</td>\n",
       "      <td>56</td>\n",
       "    </tr>\n",
       "    <tr>\n",
       "      <th>4</th>\n",
       "      <td>59</td>\n",
       "      <td>2564</td>\n",
       "      <td>0</td>\n",
       "      <td>0.0</td>\n",
       "      <td>0.0</td>\n",
       "      <td>59</td>\n",
       "    </tr>\n",
       "  </tbody>\n",
       "</table>\n",
       "</div>"
      ],
      "text/plain": [
       "   shop_id  item_id  date_block_num  item_cnt_month  item_price  \\\n",
       "0       59    22154               0             1.0       999.0   \n",
       "1       59     2552               0             0.0         0.0   \n",
       "2       59     2554               0             0.0         0.0   \n",
       "3       59     2555               0             0.0         0.0   \n",
       "4       59     2564               0             0.0         0.0   \n",
       "\n",
       "   item_category_id  \n",
       "0                37  \n",
       "1                58  \n",
       "2                58  \n",
       "3                56  \n",
       "4                59  "
      ]
     },
     "execution_count": 33,
     "metadata": {},
     "output_type": "execute_result"
    }
   ],
   "source": [
    "df_main.head()"
   ]
  },
  {
   "cell_type": "code",
   "execution_count": 34,
   "metadata": {},
   "outputs": [
    {
     "data": {
      "image/png": "[encoded data removed]",
      "text/plain": [
       "<matplotlib.figure.Figure at 0x7efd6b4706a0>"
      ]
     },
     "metadata": {},
     "output_type": "display_data"
    }
   ],
   "source": [
    "hist_plot = df_main.hist(figsize=(10, 10))"
   ]
  },
  {
   "cell_type": "markdown",
   "metadata": {},
   "source": [
    "### Note the histogram above\n",
    "* item_cnt_month: Mostlu range between 0-20, there are few which range from 500-3000\n",
    "* we can get a better plot for item_cnt_month and item_price without the outlires\n",
    "* item_category_id: Some item_category is more popular than others (we can have a look)"
   ]
  },
  {
   "cell_type": "code",
   "execution_count": 35,
   "metadata": {},
   "outputs": [
    {
     "data": {
      "image/png": "[encoded data removed]",
      "text/plain": [
       "<matplotlib.figure.Figure at 0x7efd6b326400>"
      ]
     },
     "metadata": {},
     "output_type": "display_data"
    }
   ],
   "source": [
    "item_cnt = df_main[df_main.item_cnt_month<=1000]['item_cnt_month']\n",
    "item_cnt_plot_without_outliers = item_cnt.hist()"
   ]
  },
  {
   "cell_type": "code",
   "execution_count": 36,
   "metadata": {},
   "outputs": [
    {
     "data": {
      "image/png": "[encoded data removed]",
      "text/plain": [
       "<matplotlib.figure.Figure at 0x7efd6b16b9e8>"
      ]
     },
     "metadata": {},
     "output_type": "display_data"
    }
   ],
   "source": [
    "item_cnt = df_main[df_main.item_cnt_month<=200]['item_cnt_month']\n",
    "item_cnt_plot_without_outliers = item_cnt.hist()"
   ]
  },
  {
   "cell_type": "code",
   "execution_count": 37,
   "metadata": {},
   "outputs": [
    {
     "data": {
      "text/plain": [
       "count    1.091350e+07\n",
       "mean     3.206842e-01\n",
       "std      1.953537e+00\n",
       "min     -2.200000e+01\n",
       "25%      0.000000e+00\n",
       "50%      0.000000e+00\n",
       "75%      0.000000e+00\n",
       "max      2.000000e+02\n",
       "Name: item_cnt_month, dtype: float64"
      ]
     },
     "execution_count": 37,
     "metadata": {},
     "output_type": "execute_result"
    }
   ],
   "source": [
    "item_cnt.describe()"
   ]
  },
  {
   "cell_type": "code",
   "execution_count": 38,
   "metadata": {},
   "outputs": [
    {
     "data": {
      "image/png": "[encoded data removed]",
      "text/plain": [
       "<matplotlib.figure.Figure at 0x7efd6b105080>"
      ]
     },
     "metadata": {},
     "output_type": "display_data"
    }
   ],
   "source": [
    "item_cnt = df_main[df_main.item_cnt_month<=50]['item_cnt_month']\n",
    "item_cnt_plot_without_outliers = item_cnt.hist()"
   ]
  },
  {
   "cell_type": "code",
   "execution_count": 39,
   "metadata": {},
   "outputs": [
    {
     "data": {
      "image/png": "[encoded data removed]",
      "text/plain": [
       "<matplotlib.figure.Figure at 0x7efd6b200860>"
      ]
     },
     "metadata": {},
     "output_type": "display_data"
    }
   ],
   "source": [
    "item_cnt = df_main[df_main.item_cnt_month<=20]['item_cnt_month']\n",
    "item_cnt_plot_without_outliers = item_cnt.hist()"
   ]
  },
  {
   "cell_type": "code",
   "execution_count": 40,
   "metadata": {},
   "outputs": [
    {
     "data": {
      "image/png": "[encoded data removed]",
      "text/plain": [
       "<matplotlib.figure.Figure at 0x7efd6b0c5be0>"
      ]
     },
     "metadata": {},
     "output_type": "display_data"
    }
   ],
   "source": [
    "item_cnt = df_main[df_main.item_cnt_month>=1000]['item_cnt_month']\n",
    "item_cnt_plot_without_outliers = item_cnt.hist()"
   ]
  },
  {
   "cell_type": "code",
   "execution_count": 41,
   "metadata": {},
   "outputs": [
    {
     "data": {
      "image/png": "[encoded data removed]",
      "text/plain": [
       "<matplotlib.figure.Figure at 0x7efd6afc65c0>"
      ]
     },
     "metadata": {},
     "output_type": "display_data"
    }
   ],
   "source": [
    "item_cnt = df_main[df_main.item_cnt_month>=500]['item_cnt_month']\n",
    "item_cnt_plot_without_outliers = item_cnt.hist()"
   ]
  },
  {
   "cell_type": "code",
   "execution_count": 42,
   "metadata": {},
   "outputs": [
    {
     "data": {
      "image/png": "[encoded data removed]",
      "text/plain": [
       "<matplotlib.figure.Figure at 0x7efd6b2bbef0>"
      ]
     },
     "metadata": {},
     "output_type": "display_data"
    }
   ],
   "source": [
    "item_cnt = df_main[df_main.item_cnt_month>=100]['item_cnt_month']\n",
    "item_cnt_plot_without_outliers = item_cnt.hist()"
   ]
  },
  {
   "cell_type": "code",
   "execution_count": 43,
   "metadata": {},
   "outputs": [
    {
     "data": {
      "image/png": "[encoded data removed]",
      "text/plain": [
       "<matplotlib.figure.Figure at 0x7efd6b4bc160>"
      ]
     },
     "metadata": {},
     "output_type": "display_data"
    }
   ],
   "source": [
    "item_cnt = df_main[df_main.item_cnt_month>=0]['item_cnt_month']\n",
    "item_cnt_plot_without_outliers = item_cnt.hist()"
   ]
  },
  {
   "cell_type": "markdown",
   "metadata": {},
   "source": [
    "### Lets plot item count vs item category"
   ]
  },
  {
   "cell_type": "code",
   "execution_count": 44,
   "metadata": {},
   "outputs": [
    {
     "data": {
      "image/png": "[encoded data removed]",
      "text/plain": [
       "<matplotlib.figure.Figure at 0x7efd6a767be0>"
      ]
     },
     "metadata": {},
     "output_type": "display_data"
    }
   ],
   "source": [
    "plt.scatter(df_main.item_category_id,df_main.item_cnt_month)\n",
    "plt.show()"
   ]
  },
  {
   "cell_type": "markdown",
   "metadata": {},
   "source": [
    "### there are few categories which are more in count than others"
   ]
  },
  {
   "cell_type": "code",
   "execution_count": 45,
   "metadata": {},
   "outputs": [
    {
     "data": {
      "image/png": "[encoded data removed]",
      "text/plain": [
       "<matplotlib.figure.Figure at 0x7efd6b1a24a8>"
      ]
     },
     "metadata": {},
     "output_type": "display_data"
    }
   ],
   "source": [
    "plt.figure(figsize=(8,6))\n",
    "plt.scatter(range(df_main.shape[0]), np.sort(df_main['item_cnt_month'].values))\n",
    "plt.xlabel('index', fontsize=12)\n",
    "plt.ylabel('Item cnt month', fontsize=12)\n",
    "plt.title(\"Cnt Month Distribution\", fontsize=14)\n",
    "plt.show()"
   ]
  },
  {
   "cell_type": "markdown",
   "metadata": {},
   "source": [
    "#### Most of the data set has 0 item_cnt_month value, few are zero and rest are greater than 0"
   ]
  },
  {
   "cell_type": "markdown",
   "metadata": {},
   "source": [
    "### Category Wise distribution of item and its count"
   ]
  },
  {
   "cell_type": "code",
   "execution_count": 46,
   "metadata": {},
   "outputs": [],
   "source": [
    "%load_ext autoreload\n",
    "%autoreload 2"
   ]
  },
  {
   "cell_type": "code",
   "execution_count": 47,
   "metadata": {},
   "outputs": [
    {
     "data": {
      "text/html": [
       "<script>requirejs.config({paths: { 'plotly': ['https://cdn.plot.ly/plotly-latest.min']},});if(!window.Plotly) {{require(['plotly'],function(plotly) {window.Plotly=plotly;});}}</script>"
      ],
      "text/vnd.plotly.v1+html": [
       "<script>requirejs.config({paths: { 'plotly': ['https://cdn.plot.ly/plotly-latest.min']},});if(!window.Plotly) {{require(['plotly'],function(plotly) {window.Plotly=plotly;});}}</script>"
      ]
     },
     "metadata": {},
     "output_type": "display_data"
    },
    {
     "data": {
      "application/vnd.plotly.v1+json": {
       "data": [
        {
         "labels": [
          40,
          55,
          37,
          31,
          30,
          19,
          57,
          43,
          58,
          67,
          23,
          38,
          72,
          41,
          63,
          62,
          28,
          49,
          64,
          75,
          69,
          61,
          70,
          56,
          65,
          59,
          25,
          78,
          76,
          45,
          21,
          20,
          22,
          2,
          66,
          24,
          54,
          77,
          73,
          6,
          5,
          60,
          3,
          29,
          11,
          15,
          47,
          7,
          33,
          14,
          44,
          9,
          4,
          83,
          35,
          16,
          39,
          32,
          12,
          82,
          68,
          34,
          17,
          81,
          8,
          71,
          13,
          42,
          79,
          80,
          26,
          74,
          46,
          36,
          27,
          18,
          48,
          53,
          0,
          52,
          50,
          1,
          51,
          10
         ],
         "type": "pie",
         "values": [
          22.872185342477678,
          14.248949729014052,
          10.50009849869661,
          3.6174310623657098,
          3.4763992541587068,
          3.0828442758513264,
          2.8235957063730948,
          2.7509540629567018,
          2.7371459200923596,
          2.3821016414922322,
          2.3384323588834373,
          2.236396871864649,
          2.093569180445031,
          1.9157492543877732,
          1.6996293700206617,
          1.409850785927972,
          1.2472225658223268,
          1.1887464093789084,
          1.1599939526381615,
          1.0493180683260261,
          1.047064051640805,
          1.0271993842686127,
          0.9519372173889141,
          0.9123361600168594,
          0.8889805155834102,
          0.878892416516628,
          0.7369351786949611,
          0.7093555436440853,
          0.6248757312955556,
          0.6218978637236172,
          0.6178021504785204,
          0.6105453162724428,
          0.5464707687937804,
          0.4203557864548258,
          0.3932251222071038,
          0.3856475945702021,
          0.376182557026164,
          0.31533326919464716,
          0.2927198009868195,
          0.28583863622827876,
          0.23890744329452943,
          0.21119953087132404,
          0.19949880198096911,
          0.19178383430228563,
          0.16915204075555373,
          0.16830907516595883,
          0.16621082386142377,
          0.10671761110882044,
          0.10556311475785356,
          0.10398713561208922,
          0.09811386449328147,
          0.08601914081648547,
          0.06856425551020034,
          0.06691497500881907,
          0.058127975004237734,
          0.046170691369223506,
          0.046042413996893856,
          0.04216660481864786,
          0.03858400106286966,
          0.03764024610930149,
          0.03636663505545706,
          0.03536790408517618,
          0.03524878938229864,
          0.02360303650865643,
          0.02038693953096295,
          0.01832533890423636,
          0.017693114712040207,
          0.015869743491068688,
          0.014531993751059433,
          0.014403716378729779,
          0.009446712205133843,
          0.00906188008814488,
          0.006569633997168735,
          0.0035551157474218538,
          0.0034818143918049086,
          0.0033810250278316087,
          0.0025105714298803814,
          0.0012644483843923088,
          0.0012552857149401907,
          0.0012369603760359544,
          0.0008429655895948726,
          0.0008338029201427543,
          0.00045813347260590905,
          0.0004214827947974363
         ]
        }
       ],
       "layout": {
        "height": 900,
        "title": "Category Distribution",
        "width": 900
       }
      },
      "text/html": [
       "<div id=\"b33407ce-7096-4962-9967-f02787e36653\" style=\"height: 900px; width: 900px;\" class=\"plotly-graph-div\"></div><script type=\"text/javascript\">require([\"plotly\"], function(Plotly) { window.PLOTLYENV=window.PLOTLYENV || {};window.PLOTLYENV.BASE_URL=\"https://plot.ly\";Plotly.newPlot(\"b33407ce-7096-4962-9967-f02787e36653\", [{\"type\": \"pie\", \"labels\": [40, 55, 37, 31, 30, 19, 57, 43, 58, 67, 23, 38, 72, 41, 63, 62, 28, 49, 64, 75, 69, 61, 70, 56, 65, 59, 25, 78, 76, 45, 21, 20, 22, 2, 66, 24, 54, 77, 73, 6, 5, 60, 3, 29, 11, 15, 47, 7, 33, 14, 44, 9, 4, 83, 35, 16, 39, 32, 12, 82, 68, 34, 17, 81, 8, 71, 13, 42, 79, 80, 26, 74, 46, 36, 27, 18, 48, 53, 0, 52, 50, 1, 51, 10], \"values\": [22.872185342477678, 14.248949729014052, 10.50009849869661, 3.6174310623657098, 3.4763992541587068, 3.0828442758513264, 2.8235957063730948, 2.7509540629567018, 2.7371459200923596, 2.3821016414922322, 2.3384323588834373, 2.236396871864649, 2.093569180445031, 1.9157492543877732, 1.6996293700206617, 1.409850785927972, 1.2472225658223268, 1.1887464093789084, 1.1599939526381615, 1.0493180683260261, 1.047064051640805, 1.0271993842686127, 0.9519372173889141, 0.9123361600168594, 0.8889805155834102, 0.878892416516628, 0.7369351786949611, 0.7093555436440853, 0.6248757312955556, 0.6218978637236172, 0.6178021504785204, 0.6105453162724428, 0.5464707687937804, 0.4203557864548258, 0.3932251222071038, 0.3856475945702021, 0.376182557026164, 0.31533326919464716, 0.2927198009868195, 0.28583863622827876, 0.23890744329452943, 0.21119953087132404, 0.19949880198096911, 0.19178383430228563, 0.16915204075555373, 0.16830907516595883, 0.16621082386142377, 0.10671761110882044, 0.10556311475785356, 0.10398713561208922, 0.09811386449328147, 0.08601914081648547, 0.06856425551020034, 0.06691497500881907, 0.058127975004237734, 0.046170691369223506, 0.046042413996893856, 0.04216660481864786, 0.03858400106286966, 0.03764024610930149, 0.03636663505545706, 0.03536790408517618, 0.03524878938229864, 0.02360303650865643, 0.02038693953096295, 0.01832533890423636, 0.017693114712040207, 0.015869743491068688, 0.014531993751059433, 0.014403716378729779, 0.009446712205133843, 0.00906188008814488, 0.006569633997168735, 0.0035551157474218538, 0.0034818143918049086, 0.0033810250278316087, 0.0025105714298803814, 0.0012644483843923088, 0.0012552857149401907, 0.0012369603760359544, 0.0008429655895948726, 0.0008338029201427543, 0.00045813347260590905, 0.0004214827947974363]}], {\"title\": \"Category Distribution\", \"width\": 900, \"height\": 900}, {\"showLink\": true, \"linkText\": \"Export to plot.ly\"})});</script>"
      ],
      "text/vnd.plotly.v1+html": [
       "<div id=\"b33407ce-7096-4962-9967-f02787e36653\" style=\"height: 900px; width: 900px;\" class=\"plotly-graph-div\"></div><script type=\"text/javascript\">require([\"plotly\"], function(Plotly) { window.PLOTLYENV=window.PLOTLYENV || {};window.PLOTLYENV.BASE_URL=\"https://plot.ly\";Plotly.newPlot(\"b33407ce-7096-4962-9967-f02787e36653\", [{\"type\": \"pie\", \"labels\": [40, 55, 37, 31, 30, 19, 57, 43, 58, 67, 23, 38, 72, 41, 63, 62, 28, 49, 64, 75, 69, 61, 70, 56, 65, 59, 25, 78, 76, 45, 21, 20, 22, 2, 66, 24, 54, 77, 73, 6, 5, 60, 3, 29, 11, 15, 47, 7, 33, 14, 44, 9, 4, 83, 35, 16, 39, 32, 12, 82, 68, 34, 17, 81, 8, 71, 13, 42, 79, 80, 26, 74, 46, 36, 27, 18, 48, 53, 0, 52, 50, 1, 51, 10], \"values\": [22.872185342477678, 14.248949729014052, 10.50009849869661, 3.6174310623657098, 3.4763992541587068, 3.0828442758513264, 2.8235957063730948, 2.7509540629567018, 2.7371459200923596, 2.3821016414922322, 2.3384323588834373, 2.236396871864649, 2.093569180445031, 1.9157492543877732, 1.6996293700206617, 1.409850785927972, 1.2472225658223268, 1.1887464093789084, 1.1599939526381615, 1.0493180683260261, 1.047064051640805, 1.0271993842686127, 0.9519372173889141, 0.9123361600168594, 0.8889805155834102, 0.878892416516628, 0.7369351786949611, 0.7093555436440853, 0.6248757312955556, 0.6218978637236172, 0.6178021504785204, 0.6105453162724428, 0.5464707687937804, 0.4203557864548258, 0.3932251222071038, 0.3856475945702021, 0.376182557026164, 0.31533326919464716, 0.2927198009868195, 0.28583863622827876, 0.23890744329452943, 0.21119953087132404, 0.19949880198096911, 0.19178383430228563, 0.16915204075555373, 0.16830907516595883, 0.16621082386142377, 0.10671761110882044, 0.10556311475785356, 0.10398713561208922, 0.09811386449328147, 0.08601914081648547, 0.06856425551020034, 0.06691497500881907, 0.058127975004237734, 0.046170691369223506, 0.046042413996893856, 0.04216660481864786, 0.03858400106286966, 0.03764024610930149, 0.03636663505545706, 0.03536790408517618, 0.03524878938229864, 0.02360303650865643, 0.02038693953096295, 0.01832533890423636, 0.017693114712040207, 0.015869743491068688, 0.014531993751059433, 0.014403716378729779, 0.009446712205133843, 0.00906188008814488, 0.006569633997168735, 0.0035551157474218538, 0.0034818143918049086, 0.0033810250278316087, 0.0025105714298803814, 0.0012644483843923088, 0.0012552857149401907, 0.0012369603760359544, 0.0008429655895948726, 0.0008338029201427543, 0.00045813347260590905, 0.0004214827947974363]}], {\"title\": \"Category Distribution\", \"width\": 900, \"height\": 900}, {\"showLink\": true, \"linkText\": \"Export to plot.ly\"})});</script>"
      ]
     },
     "metadata": {},
     "output_type": "display_data"
    }
   ],
   "source": [
    "import plotly.offline as py\n",
    "py.init_notebook_mode(connected=True)\n",
    "import plotly.graph_objs as go\n",
    "\n",
    "temp_cats = df_main['item_category_id'].value_counts()\n",
    "labels = (np.array(temp_cats.index))\n",
    "sizes = (np.array((temp_cats / temp_cats.sum())*100))\n",
    "\n",
    "trace = go.Pie(labels=labels, values=sizes)\n",
    "layout = go.Layout(\n",
    "    title='Category Distribution',\n",
    "    width=900,\n",
    "    height=900,\n",
    ")\n",
    "data = [trace]\n",
    "fig = go.Figure(data=data, layout=layout)\n",
    "py.iplot(fig, filename=\"Categories\")"
   ]
  },
  {
   "cell_type": "markdown",
   "metadata": {},
   "source": [
    "#### Clearly category no: 40, 55, 37 is more common than others"
   ]
  },
  {
   "cell_type": "code",
   "execution_count": 48,
   "metadata": {},
   "outputs": [
    {
     "data": {
      "text/html": [
       "<div>\n",
       "<style scoped>\n",
       "    .dataframe tbody tr th:only-of-type {\n",
       "        vertical-align: middle;\n",
       "    }\n",
       "\n",
       "    .dataframe tbody tr th {\n",
       "        vertical-align: top;\n",
       "    }\n",
       "\n",
       "    .dataframe thead th {\n",
       "        text-align: right;\n",
       "    }\n",
       "</style>\n",
       "<table border=\"1\" class=\"dataframe\">\n",
       "  <thead>\n",
       "    <tr style=\"text-align: right;\">\n",
       "      <th></th>\n",
       "      <th>item_category_name</th>\n",
       "      <th>item_category_id</th>\n",
       "    </tr>\n",
       "  </thead>\n",
       "  <tbody>\n",
       "    <tr>\n",
       "      <th>40</th>\n",
       "      <td>Кино - DVD</td>\n",
       "      <td>40</td>\n",
       "    </tr>\n",
       "  </tbody>\n",
       "</table>\n",
       "</div>"
      ],
      "text/plain": [
       "   item_category_name  item_category_id\n",
       "40         Кино - DVD                40"
      ]
     },
     "execution_count": 48,
     "metadata": {},
     "output_type": "execute_result"
    }
   ],
   "source": [
    "item_category[item_category['item_category_id'] == 40]"
   ]
  },
  {
   "cell_type": "markdown",
   "metadata": {},
   "source": [
    "#### translation: Кино - DVD -> Cinema - DVD\n",
    "\n",
    "But what is item_month cnt for this category"
   ]
  },
  {
   "cell_type": "code",
   "execution_count": 49,
   "metadata": {},
   "outputs": [
    {
     "data": {
      "text/plain": [
       "count    2.496236e+06\n",
       "mean     2.540509e-01\n",
       "std      1.372520e+00\n",
       "min     -1.000000e+00\n",
       "25%      0.000000e+00\n",
       "50%      0.000000e+00\n",
       "75%      0.000000e+00\n",
       "max      1.750000e+02\n",
       "Name: item_cnt_month, dtype: float64"
      ]
     },
     "execution_count": 49,
     "metadata": {},
     "output_type": "execute_result"
    }
   ],
   "source": [
    "df_main[df_main['item_category_id'] == 40]['item_cnt_month'].describe()"
   ]
  },
  {
   "cell_type": "code",
   "execution_count": 50,
   "metadata": {},
   "outputs": [
    {
     "data": {
      "text/plain": [
       "634171.0"
      ]
     },
     "execution_count": 50,
     "metadata": {},
     "output_type": "execute_result"
    }
   ],
   "source": [
    "df_main[df_main['item_category_id'] == 40]['item_cnt_month'].sum()"
   ]
  },
  {
   "cell_type": "code",
   "execution_count": 51,
   "metadata": {},
   "outputs": [
    {
     "data": {
      "text/plain": [
       "(2496236,)"
      ]
     },
     "execution_count": 51,
     "metadata": {},
     "output_type": "execute_result"
    }
   ],
   "source": [
    "df_main[df_main['item_category_id'] == 40]['item_cnt_month'].shape"
   ]
  },
  {
   "cell_type": "markdown",
   "metadata": {},
   "source": [
    "### what is count per date block"
   ]
  },
  {
   "cell_type": "code",
   "execution_count": 52,
   "metadata": {},
   "outputs": [],
   "source": [
    "gr = df_main[df_main['item_category_id'] == 40].groupby(['date_block_num'])"
   ]
  },
  {
   "cell_type": "code",
   "execution_count": 53,
   "metadata": {},
   "outputs": [
    {
     "data": {
      "text/plain": [
       "date_block_num\n",
       "0     33489.0\n",
       "1     31649.0\n",
       "2     36277.0\n",
       "3     27525.0\n",
       "4     25470.0\n",
       "5     25992.0\n",
       "6     24806.0\n",
       "7     24130.0\n",
       "8     23348.0\n",
       "9     24173.0\n",
       "10    25433.0\n",
       "11    28598.0\n",
       "12    22065.0\n",
       "13    18467.0\n",
       "14    21266.0\n",
       "15    18320.0\n",
       "16    15005.0\n",
       "17    16064.0\n",
       "18    14452.0\n",
       "19    15821.0\n",
       "20    12748.0\n",
       "21    13639.0\n",
       "22    14815.0\n",
       "23    18876.0\n",
       "24    15109.0\n",
       "25    12100.0\n",
       "26    13084.0\n",
       "27    10683.0\n",
       "28     9208.0\n",
       "29     9304.0\n",
       "30     9283.0\n",
       "31     8513.0\n",
       "32     6779.0\n",
       "33     7680.0\n",
       "Name: item_cnt_month, dtype: float64"
      ]
     },
     "execution_count": 53,
     "metadata": {},
     "output_type": "execute_result"
    }
   ],
   "source": [
    "gr['item_cnt_month'].sum()"
   ]
  },
  {
   "cell_type": "markdown",
   "metadata": {},
   "source": [
    "#### The disk is actually getting sold a lot!!!"
   ]
  },
  {
   "cell_type": "markdown",
   "metadata": {},
   "source": [
    "### How much our train and test intersect"
   ]
  },
  {
   "cell_type": "code",
   "execution_count": 54,
   "metadata": {},
   "outputs": [],
   "source": [
    "data1 = df_main[['item_id', 'shop_id']].drop_duplicates()\n",
    "data2 = test[['item_id', 'shop_id']].drop_duplicates()"
   ]
  },
  {
   "cell_type": "code",
   "execution_count": 55,
   "metadata": {},
   "outputs": [],
   "source": [
    "data1 = data1[\"item_id\"].map(str)+ \"_\" + data1[\"shop_id\"].map(str)"
   ]
  },
  {
   "cell_type": "code",
   "execution_count": 56,
   "metadata": {},
   "outputs": [],
   "source": [
    "data2 = data2[\"item_id\"].map(str)+ \"_\" + data2[\"shop_id\"].map(str)"
   ]
  },
  {
   "cell_type": "code",
   "execution_count": 57,
   "metadata": {},
   "outputs": [
    {
     "data": {
      "text/plain": [
       "0    22154_59\n",
       "1     2552_59\n",
       "2     2554_59\n",
       "3     2555_59\n",
       "4     2564_59\n",
       "dtype: object"
      ]
     },
     "execution_count": 57,
     "metadata": {},
     "output_type": "execute_result"
    }
   ],
   "source": [
    "data1.head()"
   ]
  },
  {
   "cell_type": "code",
   "execution_count": 58,
   "metadata": {},
   "outputs": [
    {
     "data": {
      "text/plain": [
       "0    5037_5\n",
       "1    5320_5\n",
       "2    5233_5\n",
       "3    5232_5\n",
       "4    5268_5\n",
       "dtype: object"
      ]
     },
     "execution_count": 58,
     "metadata": {},
     "output_type": "execute_result"
    }
   ],
   "source": [
    "data2.head()"
   ]
  },
  {
   "cell_type": "code",
   "execution_count": 59,
   "metadata": {},
   "outputs": [
    {
     "data": {
      "image/png": "[encoded data removed]",
      "text/plain": [
       "<matplotlib.figure.Figure at 0x7efd6c25b978>"
      ]
     },
     "metadata": {},
     "output_type": "display_data"
    }
   ],
   "source": [
    "from matplotlib_venn import venn2\n",
    "\n",
    "plt.figure(figsize=(10,7))\n",
    "venn2([set(data1), set(data2)], set_labels = ('Train set', 'Test set') )\n",
    "plt.title(\"train and test intersection\", fontsize=15)\n",
    "plt.show()"
   ]
  },
  {
   "cell_type": "markdown",
   "metadata": {},
   "source": [
    "#### Good most of the test data is in train set"
   ]
  },
  {
   "cell_type": "markdown",
   "metadata": {},
   "source": [
    "### Prepare the data for training"
   ]
  },
  {
   "cell_type": "code",
   "execution_count": 60,
   "metadata": {},
   "outputs": [],
   "source": [
    "df_test = test.copy()"
   ]
  },
  {
   "cell_type": "markdown",
   "metadata": {},
   "source": [
    "### Prepare the test data"
   ]
  },
  {
   "cell_type": "code",
   "execution_count": 61,
   "metadata": {},
   "outputs": [],
   "source": [
    "df_test['date_block_num'] = 34\n",
    "df_test.drop('ID', axis=1, inplace=True)\n",
    "\n",
    "df_test = df_test.merge(item, how='left', on='item_id')\n",
    "df_test.drop('item_name', axis=1, inplace=True)"
   ]
  },
  {
   "cell_type": "code",
   "execution_count": 62,
   "metadata": {},
   "outputs": [],
   "source": [
    "df_combined = pd.concat([df_main,df_test], axis=0, ignore_index=True)"
   ]
  },
  {
   "cell_type": "code",
   "execution_count": 63,
   "metadata": {},
   "outputs": [
    {
     "data": {
      "text/plain": [
       "date_block_num           0\n",
       "item_category_id         0\n",
       "item_cnt_month      214200\n",
       "item_id                  0\n",
       "item_price          214200\n",
       "shop_id                  0\n",
       "dtype: int64"
      ]
     },
     "execution_count": 63,
     "metadata": {},
     "output_type": "execute_result"
    }
   ],
   "source": [
    "df_combined.isnull().sum()"
   ]
  },
  {
   "cell_type": "markdown",
   "metadata": {},
   "source": [
    "### Mean Encoding\n",
    "\n",
    "Please note I a have referred mean encoding from here: http://mlwhiz.com/blog/2017/12/26/How_to_win_a_data_science_competition/"
   ]
  },
  {
   "cell_type": "code",
   "execution_count": 64,
   "metadata": {},
   "outputs": [],
   "source": [
    "for type_id in ['item_id','shop_id','item_category_id']:\n",
    "    for column_id, agg_func, func_name in [('item_price',np.mean,'avg'),('item_cnt_month',np.sum,'sum'),('item_cnt_month',np.mean,'avg')]:\n",
    "\n",
    "        mean_df = df_main.groupby([type_id,'date_block_num']).agg(agg_func).reset_index()[[column_id,type_id,'date_block_num']]\n",
    "        mean_df.columns = [type_id+'_'+func_name+'_'+column_id, type_id,'date_block_num']\n",
    "        \n",
    "        df_main = pd.merge(df_main,mean_df,on=['date_block_num', type_id],how='left')"
   ]
  },
  {
   "cell_type": "code",
   "execution_count": 65,
   "metadata": {},
   "outputs": [
    {
     "data": {
      "text/plain": [
       "shop_id                                0\n",
       "item_id                                0\n",
       "date_block_num                         0\n",
       "item_cnt_month                         0\n",
       "item_price                             0\n",
       "item_category_id                       0\n",
       "item_id_avg_item_price                 0\n",
       "item_id_sum_item_cnt_month             0\n",
       "item_id_avg_item_cnt_month             0\n",
       "shop_id_avg_item_price                 0\n",
       "shop_id_sum_item_cnt_month             0\n",
       "shop_id_avg_item_cnt_month             0\n",
       "item_category_id_avg_item_price        0\n",
       "item_category_id_sum_item_cnt_month    0\n",
       "item_category_id_avg_item_cnt_month    0\n",
       "dtype: int64"
      ]
     },
     "execution_count": 65,
     "metadata": {},
     "output_type": "execute_result"
    }
   ],
   "source": [
    "df_main.isnull().sum()"
   ]
  },
  {
   "cell_type": "code",
   "execution_count": 66,
   "metadata": {},
   "outputs": [],
   "source": [
    "df_main = pd.concat([df_main,df_test], axis=0, ignore_index=True)"
   ]
  },
  {
   "cell_type": "code",
   "execution_count": 67,
   "metadata": {},
   "outputs": [
    {
     "data": {
      "text/plain": [
       "date_block_num                              0\n",
       "item_category_id                            0\n",
       "item_category_id_avg_item_cnt_month    214200\n",
       "item_category_id_avg_item_price        214200\n",
       "item_category_id_sum_item_cnt_month    214200\n",
       "item_cnt_month                         214200\n",
       "item_id                                     0\n",
       "item_id_avg_item_cnt_month             214200\n",
       "item_id_avg_item_price                 214200\n",
       "item_id_sum_item_cnt_month             214200\n",
       "item_price                             214200\n",
       "shop_id                                     0\n",
       "shop_id_avg_item_cnt_month             214200\n",
       "shop_id_avg_item_price                 214200\n",
       "shop_id_sum_item_cnt_month             214200\n",
       "dtype: int64"
      ]
     },
     "execution_count": 67,
     "metadata": {},
     "output_type": "execute_result"
    }
   ],
   "source": [
    "df_main.isnull().sum()"
   ]
  },
  {
   "cell_type": "markdown",
   "metadata": {},
   "source": [
    "### Implemented lag variable\n",
    "\n",
    "I used lag variable till 2 because I have only 16GB ram"
   ]
  },
  {
   "cell_type": "code",
   "execution_count": 68,
   "metadata": {},
   "outputs": [],
   "source": [
    "lag_variables  = ['item_id_avg_item_price', 'item_id_sum_item_cnt_month', \n",
    "                  'item_id_avg_item_cnt_month', 'shop_id_avg_item_price', \n",
    "                  'shop_id_sum_item_cnt_month', 'shop_id_avg_item_cnt_month',\n",
    "                  'item_category_id_avg_item_price', 'item_category_id_sum_item_cnt_month',\n",
    "                  'item_category_id_avg_item_cnt_month', 'item_cnt_month']\n",
    "\n",
    "lags = [1 ,2]\n",
    "\n",
    "for lag in lags:\n",
    "    df_main_new = df_main.copy()\n",
    "    df_main_new.date_block_num+=lag\n",
    "    df_main_new = df_main_new[['date_block_num','shop_id','item_id']+lag_variables]\n",
    "    df_main_new.columns = ['date_block_num','shop_id','item_id']+ [lag_feat+'_lag_'+str(lag) for lag_feat in lag_variables]\n",
    "    df_main = pd.merge(df_main, df_main_new,on=['date_block_num','shop_id','item_id'] ,how='left')"
   ]
  },
  {
   "cell_type": "markdown",
   "metadata": {},
   "source": [
    "### Fill the null values"
   ]
  },
  {
   "cell_type": "code",
   "execution_count": 69,
   "metadata": {},
   "outputs": [],
   "source": [
    "for feat in df_main.columns:\n",
    "    if 'item_cnt' in feat:\n",
    "        df_main[feat]=df_main[feat].fillna(0)\n",
    "    elif 'item_price' in feat:\n",
    "        df_main[feat]=df_main[feat].fillna(df_main[feat].median())"
   ]
  },
  {
   "cell_type": "code",
   "execution_count": 71,
   "metadata": {},
   "outputs": [
    {
     "data": {
      "text/plain": [
       "Index(['date_block_num', 'item_category_id',\n",
       "       'item_category_id_avg_item_cnt_month',\n",
       "       'item_category_id_avg_item_price',\n",
       "       'item_category_id_sum_item_cnt_month', 'item_cnt_month', 'item_id',\n",
       "       'item_id_avg_item_cnt_month', 'item_id_avg_item_price',\n",
       "       'item_id_sum_item_cnt_month', 'item_price', 'shop_id',\n",
       "       'shop_id_avg_item_cnt_month', 'shop_id_avg_item_price',\n",
       "       'shop_id_sum_item_cnt_month', 'item_id_avg_item_price_lag_1',\n",
       "       'item_id_sum_item_cnt_month_lag_1', 'item_id_avg_item_cnt_month_lag_1',\n",
       "       'shop_id_avg_item_price_lag_1', 'shop_id_sum_item_cnt_month_lag_1',\n",
       "       'shop_id_avg_item_cnt_month_lag_1',\n",
       "       'item_category_id_avg_item_price_lag_1',\n",
       "       'item_category_id_sum_item_cnt_month_lag_1',\n",
       "       'item_category_id_avg_item_cnt_month_lag_1', 'item_cnt_month_lag_1',\n",
       "       'item_id_avg_item_price_lag_2', 'item_id_sum_item_cnt_month_lag_2',\n",
       "       'item_id_avg_item_cnt_month_lag_2', 'shop_id_avg_item_price_lag_2',\n",
       "       'shop_id_sum_item_cnt_month_lag_2', 'shop_id_avg_item_cnt_month_lag_2',\n",
       "       'item_category_id_avg_item_price_lag_2',\n",
       "       'item_category_id_sum_item_cnt_month_lag_2',\n",
       "       'item_category_id_avg_item_cnt_month_lag_2', 'item_cnt_month_lag_2'],\n",
       "      dtype='object')"
      ]
     },
     "execution_count": 71,
     "metadata": {},
     "output_type": "execute_result"
    }
   ],
   "source": [
    "df_main.columns"
   ]
  },
  {
   "cell_type": "code",
   "execution_count": 72,
   "metadata": {},
   "outputs": [],
   "source": [
    "drop_cols = lag_variables[:-1] + ['item_price']"
   ]
  },
  {
   "cell_type": "code",
   "execution_count": 73,
   "metadata": {},
   "outputs": [],
   "source": [
    "x_train = df_main[df_main['date_block_num'] < 33].drop(drop_cols, axis=1)\n",
    "x_cv =  df_main[df_main['date_block_num'] == 33].drop(drop_cols, axis=1)\n",
    "x_test = df_main[df_main['date_block_num'] == 34].drop(drop_cols, axis=1)"
   ]
  },
  {
   "cell_type": "code",
   "execution_count": 76,
   "metadata": {},
   "outputs": [],
   "source": [
    "x_train['item_cnt_month'].clip(0, 40, inplace=True)\n",
    "x_cv['item_cnt_month'].clip(0, 40, inplace=True)\n",
    "x_test['item_cnt_month'].clip(0, 40, inplace=True)"
   ]
  },
  {
   "cell_type": "code",
   "execution_count": 77,
   "metadata": {},
   "outputs": [],
   "source": [
    "x_train.to_csv('train_with_lag.csv', index=False)\n",
    "x_cv.to_csv('cv_with_lag.csv', index=False)\n",
    "x_test.to_csv('test_with_lag.csv', index=False)"
   ]
  },
  {
   "cell_type": "code",
   "execution_count": 83,
   "metadata": {},
   "outputs": [
    {
     "data": {
      "text/plain": [
       "date_block_num                               0\n",
       "item_category_id                             0\n",
       "item_cnt_month                               0\n",
       "item_id                                      0\n",
       "shop_id                                      0\n",
       "item_id_avg_item_price_lag_1                 0\n",
       "item_id_sum_item_cnt_month_lag_1             0\n",
       "item_id_avg_item_cnt_month_lag_1             0\n",
       "shop_id_avg_item_price_lag_1                 0\n",
       "shop_id_sum_item_cnt_month_lag_1             0\n",
       "shop_id_avg_item_cnt_month_lag_1             0\n",
       "item_category_id_avg_item_price_lag_1        0\n",
       "item_category_id_sum_item_cnt_month_lag_1    0\n",
       "item_category_id_avg_item_cnt_month_lag_1    0\n",
       "item_cnt_month_lag_1                         0\n",
       "item_id_avg_item_price_lag_2                 0\n",
       "item_id_sum_item_cnt_month_lag_2             0\n",
       "item_id_avg_item_cnt_month_lag_2             0\n",
       "shop_id_avg_item_price_lag_2                 0\n",
       "shop_id_sum_item_cnt_month_lag_2             0\n",
       "shop_id_avg_item_cnt_month_lag_2             0\n",
       "item_category_id_avg_item_price_lag_2        0\n",
       "item_category_id_sum_item_cnt_month_lag_2    0\n",
       "item_category_id_avg_item_cnt_month_lag_2    0\n",
       "item_cnt_month_lag_2                         0\n",
       "dtype: int64"
      ]
     },
     "execution_count": 83,
     "metadata": {},
     "output_type": "execute_result"
    }
   ],
   "source": [
    "x_train.isnull().sum()"
   ]
  },
  {
   "cell_type": "code",
   "execution_count": 29,
   "metadata": {},
   "outputs": [],
   "source": [
    "test = pd.read_csv('test.csv')\n",
    "x_train = pd.read_csv('train_with_lag.csv')\n",
    "x_cv = pd.read_csv('cv_with_lag.csv')\n",
    "x_test = pd.read_csv('test_with_lag.csv')"
   ]
  },
  {
   "cell_type": "code",
   "execution_count": 5,
   "metadata": {},
   "outputs": [
    {
     "name": "stdout",
     "output_type": "stream",
     "text": [
      "['date_block_num', 'item_category_id', 'item_id', 'shop_id', 'item_id_avg_item_price_lag_1', 'item_id_sum_item_cnt_month_lag_1', 'item_id_avg_item_cnt_month_lag_1', 'shop_id_avg_item_price_lag_1', 'shop_id_sum_item_cnt_month_lag_1', 'shop_id_avg_item_cnt_month_lag_1', 'item_category_id_avg_item_price_lag_1', 'item_category_id_sum_item_cnt_month_lag_1', 'item_category_id_avg_item_cnt_month_lag_1', 'item_cnt_month_lag_1', 'item_id_avg_item_price_lag_2', 'item_id_sum_item_cnt_month_lag_2', 'item_id_avg_item_cnt_month_lag_2', 'shop_id_avg_item_price_lag_2', 'shop_id_sum_item_cnt_month_lag_2', 'shop_id_avg_item_cnt_month_lag_2', 'item_category_id_avg_item_price_lag_2', 'item_category_id_sum_item_cnt_month_lag_2', 'item_category_id_avg_item_cnt_month_lag_2', 'item_cnt_month_lag_2']\n"
     ]
    }
   ],
   "source": [
    "cols = [x for x in x_train.columns if x != \"item_cnt_month\"]\n",
    "print(cols)"
   ]
  },
  {
   "cell_type": "code",
   "execution_count": 6,
   "metadata": {},
   "outputs": [],
   "source": [
    "params = {\n",
    "        'eta': 0.08,\n",
    "        'max_depth': 8,\n",
    "        'objective': 'reg:linear',\n",
    "        'eval_metric': 'rmse',\n",
    "        'seed': 3,\n",
    "        'gamma':1\n",
    "    }"
   ]
  },
  {
   "cell_type": "code",
   "execution_count": 7,
   "metadata": {},
   "outputs": [
    {
     "name": "stderr",
     "output_type": "stream",
     "text": [
      "/home/shrishty/.conda/envs/tf/lib/python3.6/site-packages/sklearn/cross_validation.py:41: DeprecationWarning: This module was deprecated in version 0.18 in favor of the model_selection module into which all the refactored classes and functions are moved. Also note that the interface of the new CV iterators are different from that of this module. This module will be removed in 0.20.\n",
      "  \"This module will be removed in 0.20.\", DeprecationWarning)\n"
     ]
    },
    {
     "name": "stdout",
     "output_type": "stream",
     "text": [
      "[0]\ttrain-rmse:1.45032\tvalid-rmse:1.37951\n",
      "Multiple eval metrics have been passed: 'valid-rmse' will be used for early stopping.\n",
      "\n",
      "Will train until valid-rmse hasn't improved in 100 rounds.\n",
      "[50]\ttrain-rmse:1.10742\tvalid-rmse:1.14456\n",
      "[100]\ttrain-rmse:1.07386\tvalid-rmse:1.13898\n",
      "[150]\ttrain-rmse:1.05201\tvalid-rmse:1.14149\n",
      "[200]\ttrain-rmse:1.03695\tvalid-rmse:1.14246\n",
      "Stopping. Best iteration:\n",
      "[107]\ttrain-rmse:1.0709\tvalid-rmse:1.13862\n",
      "\n"
     ]
    }
   ],
   "source": [
    "import xgboost as xgb\n",
    "x1 = x_train[cols]\n",
    "y1 = x_train['item_cnt_month']\n",
    "x2 = x_cv[cols]\n",
    "y2 = x_cv['item_cnt_month']\n",
    "tr = xgb.DMatrix(x1, y1)\n",
    "val = xgb.DMatrix(x2, y2)\n",
    "\n",
    "\n",
    "watchlist = [(tr, 'train'), (val, 'valid')]\n",
    "model = xgb.train(params, \n",
    "                  tr, \n",
    "                  4000,  \n",
    "                  watchlist, \n",
    "                  maximize=False, \n",
    "                  verbose_eval=50, \n",
    "                  early_stopping_rounds=100)"
   ]
  },
  {
   "cell_type": "markdown",
   "metadata": {},
   "source": [
    "### On submission: I scored 0.98076 in public leader board "
   ]
  },
  {
   "cell_type": "code",
   "execution_count": 10,
   "metadata": {},
   "outputs": [],
   "source": [
    "best_model = model.best_ntree_limit"
   ]
  },
  {
   "cell_type": "code",
   "execution_count": 12,
   "metadata": {},
   "outputs": [],
   "source": [
    "pred = model.predict(xgb.DMatrix(x_test[cols]), \n",
    "                     ntree_limit=best_model)\n",
    "\n",
    "test['item_cnt_month'] = pred.clip(0,20)\n",
    "# test.drop(['shop_id', 'item_id'], axis=1, inplace=True)\n",
    "test.to_csv('sub2.csv', index=False)"
   ]
  },
  {
   "cell_type": "code",
   "execution_count": 13,
   "metadata": {},
   "outputs": [
    {
     "data": {
      "text/html": [
       "<div>\n",
       "<style scoped>\n",
       "    .dataframe tbody tr th:only-of-type {\n",
       "        vertical-align: middle;\n",
       "    }\n",
       "\n",
       "    .dataframe tbody tr th {\n",
       "        vertical-align: top;\n",
       "    }\n",
       "\n",
       "    .dataframe thead th {\n",
       "        text-align: right;\n",
       "    }\n",
       "</style>\n",
       "<table border=\"1\" class=\"dataframe\">\n",
       "  <thead>\n",
       "    <tr style=\"text-align: right;\">\n",
       "      <th></th>\n",
       "      <th>ID</th>\n",
       "      <th>item_cnt_month</th>\n",
       "    </tr>\n",
       "  </thead>\n",
       "  <tbody>\n",
       "    <tr>\n",
       "      <th>0</th>\n",
       "      <td>0</td>\n",
       "      <td>0.433765</td>\n",
       "    </tr>\n",
       "    <tr>\n",
       "      <th>1</th>\n",
       "      <td>1</td>\n",
       "      <td>0.092590</td>\n",
       "    </tr>\n",
       "    <tr>\n",
       "      <th>2</th>\n",
       "      <td>2</td>\n",
       "      <td>0.948186</td>\n",
       "    </tr>\n",
       "    <tr>\n",
       "      <th>3</th>\n",
       "      <td>3</td>\n",
       "      <td>0.370803</td>\n",
       "    </tr>\n",
       "    <tr>\n",
       "      <th>4</th>\n",
       "      <td>4</td>\n",
       "      <td>3.062373</td>\n",
       "    </tr>\n",
       "  </tbody>\n",
       "</table>\n",
       "</div>"
      ],
      "text/plain": [
       "   ID  item_cnt_month\n",
       "0   0        0.433765\n",
       "1   1        0.092590\n",
       "2   2        0.948186\n",
       "3   3        0.370803\n",
       "4   4        3.062373"
      ]
     },
     "execution_count": 13,
     "metadata": {},
     "output_type": "execute_result"
    }
   ],
   "source": [
    "test.head()"
   ]
  },
  {
   "cell_type": "code",
   "execution_count": 16,
   "metadata": {},
   "outputs": [],
   "source": [
    "model.save_model('0001.model')"
   ]
  },
  {
   "cell_type": "code",
   "execution_count": null,
   "metadata": {},
   "outputs": [],
   "source": []
  }
 ],
 "metadata": {
  "kernelspec": {
   "display_name": "Python 3",
   "language": "python",
   "name": "python3"
  },
  "language_info": {
   "codemirror_mode": {
    "name": "ipython",
    "version": 3
   },
   "file_extension": ".py",
   "mimetype": "text/x-python",
   "name": "python",
   "nbconvert_exporter": "python",
   "pygments_lexer": "ipython3",
   "version": "3.6.4"
  }
 },
 "nbformat": 4,
 "nbformat_minor": 2
}
